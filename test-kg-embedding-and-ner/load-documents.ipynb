{
 "cells": [
  {
   "cell_type": "markdown",
   "source": [
    "# Load Document Nodes"
   ],
   "metadata": {
    "collapsed": false
   }
  },
  {
   "cell_type": "markdown",
   "source": [
    "## Initial Exploration"
   ],
   "metadata": {
    "collapsed": false
   }
  },
  {
   "cell_type": "code",
   "execution_count": 1,
   "outputs": [],
   "source": [
    "import json\n",
    "with open('../data/form10k-clean/0000004977-22-000058.json') as f:\n",
    "    f10_k = json.load(f)"
   ],
   "metadata": {
    "collapsed": false
   }
  },
  {
   "cell_type": "code",
   "execution_count": 2,
   "outputs": [
    {
     "name": "stdout",
     "output_type": "stream",
     "text": [
      ">Item 1. Business\n",
      "Information about the Company's Executive Officers\n",
      "NAME\n",
      "PRINCIPAL OCCUPATION\n",
      "(1)\n",
      "AGE\n",
      "Daniel P. Amos\n",
      "Chairman, Aflac Incorporated and Aflac, since 2001; Chief Executive Officer, Aflac Incorporated and Aflac, since 1990; President, Aflac, from 2017 until 2018; President, Aflac Incorporated, from 2018 until 2020 \n",
      "70 \n",
      "Steven K. Beaver\n",
      "Senior Vice President, Chief Financial Officer, Aflac U.S., since 2019; Senior Vice President, Financial Planning and Analysis, Aflac Incorporated, from 2018 until 2019; Senior Vice President, Global Strategic Projects, Corporate Financial Planning and Analysis, Aflac Incorporated, from 2017 until 2018\n",
      "57 \n",
      "Max K. Brodén\n",
      "Executive Vice President, Chief Financial Officer, Aflac Incorporated, since 2020; Executive Vice President, Aflac since 2020; Treasurer, Aflac, since 2017; Treasurer, Aflac Incorporated from 2017 until 2021; Senior Vice President, Aflac Incorporated and Aflac, from 2017 until 2020; Senior Portfolio Manager, Norges Bank, from 2007 until 2017\n",
      "43 \n",
      "Frederick J. Crawford\n",
      "President and Chief Operating Officer, Aflac Incorporated, since 2020; Executive Vice President, Chief Financial Officer, Aflac Incorporated, from 2015 until 2020\n",
      "58 \n",
      "J. Todd Daniels\n",
      "Executive Vice President, Chief Financial Officer, Aflac Japan, since 2018; Executive Vice President, Global Chief Risk Officer and Chief Actuary, Aflac Incorporated, from 2016 until 2018\n",
      "51 \n",
      "June Howard\n",
      "Chief Accounting Officer, Aflac Incorporated and Aflac, since 2010; Senior Vice President, Financial Services, Aflac Incorporated and Aflac, since 2010\n",
      "55 \n",
      "Eric M. Kirsch\n",
      "Executive Vice President, Global Chief Investment Officer, Aflac, since 2012; President, Aflac Asset Management LLC, since 2017\n",
      "61 \n",
      "Masatoshi Koide \n",
      "President and Chief Operating Officer, Aflac Japan since 2017; Deputy President, Aflac Japan from 2016 until 2017\n",
      "61 \n",
      "Charles D. Lake, II\n",
      "President, Aflac International, since 2014; Chairman, Aflac Japan, since 2008\n",
      "60 \n",
      "Albert A. Riggieri\n",
      "Senior Vice President, Global Chief Risk Officer and Chief Actuary, Aflac Incorporated, since 2018; Senior Vice President, Corporate Actuary, Aflac, from 2016 until 2018\n",
      "66 \n",
      "Audrey B. Tillman\n",
      "Executive Vice President, General Counsel, Aflac Incorporated and Aflac, since 2014\n",
      "57 \n",
      "Teresa L. White\n",
      "President, Aflac U.S., since 2014\n",
      "55 \n",
      "(1) \n",
      "Unless specifically noted, the respective executive officer has held the occupation(s) set forth in the table for at least the last five years. Each executive officer is appointed annually by the board of directors and serves until his or her successor is chosen and qualified, or until his or her death, resignation or removal.\n",
      "12\n",
      "Item 1A. Risk \n",
      "Factors\n",
      "ITEM 1A. RISK FACTORS\n",
      "The Company faces a wide range of risks, and its continued success depends on its ability to identify, prioritize and appropriately manage enterprise risk exposures. Readers should carefully consider each of the following risks and all of the other information set forth in this Form 10-K. These risks and other factors may affect forward-looking statements, including those in this document or made by the Company elsewhere, such as in earnings release webcasts, investor conference presentations or press releases. The risks and uncertainties described herein may not be the only ones facing the Company. Additional risks and uncertainties not presently known to the Company or that the Company currently believes to be immaterial may also adversely affect its business. If any of the following risks and uncertainties develops into actual events, there could be a material impact on the Company.\n",
      "Investment and Markets Risk Factors\n",
      "Difficult conditions in global capital markets and the economy, including those caused by COVID-19, could have a material adverse effect on the Company's investments, capital position, revenue, profitability, and liquidity and harm the Company's business. \n",
      "The Company's results of operations are materially affected by conditions in the global capital markets and the global economy generally, including in its two primary operating markets of the U.S. and Japan. Shifts in global trade policies could result in tariffs and a downturn in the global economy that could negatively impact the Company. A new U.S. presidential administration took office in January 2021, which adds further uncertainty around U.S. trade policies. Weak global financial markets impact the value of the Company's existing investment portfolio, influence opportunities for new investments, and may contribute to generally weak economic fundamentals, which can have a negative impact on its results of operations and financial positions.\n",
      "Global capital markets experienced extreme volatility in early 2020 due to the effects of the COVID-19 global pandemic including all variants, but have since stabilized due to central bank and government intervention; there is also no certainty that conditions will not deteriorate. Initial volatility triggered dramatic declines in investment values, constrained liquidity, and significantly reduced interest rates. The Company's investment portfolio, including the creditworthiness and valuation of investment assets and availability of new investments, has been, and may continue to be, adversely affected as a result of market developments related to the COVID-19 pandemic and uncertainty regarding its ultimate severity and duration. While conditions have improved, the Company's investments remain vulnerable to extreme asset price volatility, lack of market liquidity, credit rating downgrades, payment defaults, asset restructurings, increased losses, and other risks as the world experiences an unprecedented shock to economic activity. The recovery, supply chain disruptions, rising inflation, and central bank and government efforts to control inflation through reductions in stimulus and asset purchases, and interest rate increases, could create volatility and lead to slower growth.\n",
      "The Company has evaluated its holdings and identified those investments most exposed to the negative impacts of an economic downturn as a result of COVID-19, including but not limited to investments in businesses facing an immediate and severe impact such as travel and lodging, leisure, non-emergency medical, energy, and others involving large gatherings of people. These investments are experiencing and may continue to experience higher credit losses, credit rating downgrades and/or defaults and the Company has examined in each case whether a reduction in size of the holding is appropriate. In addition, volatility in oil prices could have a continued adverse impact on issuers in the energy sector. While the Company has identified assets impacted or expected to be impacted by COVID-19 and its consequences, other investments not identified to date may also be impacted. The availability of new investments in certain private market asset classes, such as middle market loans, commercial mortgages and transitional real estate, has been and may continue to be limited. While interest rates have recovered recently from their lowest points, central bank rate increases are expected in the U.S. and other countries, potentially resulting in lower valuations of fixed income investments.  A prolonged period of low interest rates in other countries, particularly Japan, remains a risk that could result in new investments generating lower yields than in prior periods. The Company may need to adjust its investment strategy and/or be forced to liquidate investments to pay claims. COVID-19 has resulted in unprecedented disruption of markets and business activity globally, with continuing impact from new variants, and the Company is not able to predict the duration of such disruption or the ultimate impact of COVID-19 on the Company’s investments and hedging programs. See the risk factor below entitled, “The Company is exposed to significant interest rate risk, which may adversely affect its results of operations, financial condition and liquidity” for more information. See the “Investments” and “Results of Operations by Segment” sections of Item 7, MD&A, for more information. \n",
      "As the Company holds a significant amount of fixed maturity securities issued by borrowers located in many different parts of the world, its financial results are directly influenced by global financial markets. Recent weakness in global capital markets could adversely affect the Company's financial condition, including its capital position and overall profitability. \n",
      "13\n",
      "Item 1A. Risk \n",
      "Factors\n",
      "Market volatility and recessionary pressures could result in significant realized or unrealized losses due to severe price declines driven by increases in interest rates or credit spreads, defaults in payment of principal or interest, or credit rating downgrades.\n",
      "Japan is the largest market for the Company's insurance products, and the Company owns substantial holdings in Japan Government Bonds (JGBs). Government actions to stimulate the economy affect the value of the Company's existing holdings, its reinvestment rate on new investments in JGBs or other yen-denominated assets, and consumer behavior relative to the Company's suite of insurance products. The additional government debt from fiscal stimulus actions could adversely impact the Japan sovereign credit profile, which could in turn lead to volatility in Japanese capital and currency markets.\n",
      "Should investors become concerned with any of the Company's investment holdings, including the concentration in JGBs, its access to market sources of funding could be negatively impacted. It is possible that lenders or debt investors may also become concerned if the Company incurs large investment losses or if the level of the Company's business activity decreases due to a market downturn or there are further adverse economic trends in the U.S. or Japan, specifically, or generally in developed markets. \n",
      "The Company needs liquidity to pay its operating expenses, dividends on its common stock, interest on its debt, and liabilities. See the \"Liquidity and Capital Resources\" Item 7, MD&A, for more information. In the event the Company's current resources do not meet its needs, the Company may need to seek additional financing. The Company's access to additional financing will depend on a variety of factors such as market conditions, the general availability of credit within the financial services industry and its credit rating. See the risk factor below entitled, “Any decrease in the Company's financial strength or debt ratings may have an adverse effect on its competitive position and access to liquidity and capital”  for more information.\n",
      "Broad economic factors such as consumer spending, business investment, government spending, the volatility and strength of the capital markets, inflation, and strain with the U.S. supply chain all affect the business and economic environment and, indirectly, the amount and profitability of the Company's business. In an economic downturn characterized by higher unemployment, lower family income, lower corporate earnings, lower business investment and lower consumer spending, the demand for financial and insurance products could be adversely affected. This adverse effect could be particularly significant for companies such as Aflac that distribute supplemental, discretionary insurance products primarily through the worksite in the event that economic conditions result in a decrease in the number of new hires and total employees. Adverse changes in the economy could potentially lead the Company's customers to be less inclined to purchase supplemental insurance coverage or to decide to cancel or modify existing insurance coverage, which could adversely affect the Company's net earned premiums, results of operations and financial condition. The Company is unable to predict the course of the global financial markets or the recurrence, duration or severity of disruptions in such markets.\n",
      "See the risk factor entitled \"Major public health issues, including COVID-19 and any resulting economic effects could have an adverse impact on the Company's financial condition and results of operations and other aspects of its business\" for more information.\n",
      "Defaults, downgrades, widening credit spreads or other events impairing the value of the fixed maturity securities and loan receivables in the Company's investment portfolio may reduce the Company's earnings and capital position.\n",
      "The Company is subject to the risk that the issuers and/or guarantors of fixed maturity securities and loan receivables the Company owns may default on principal or interest. A significant portion of the Company's portfolio represents an unsecured obligation of the issuer, including some that may be subordinated to other debt in the issuer’s capital structure. In these cases, many factors can influence the overall creditworthiness of the issuer and ultimately its ability to service and repay the Company's holdings. This can include changes in the global economy, the company's assets, strategy, or management, shifts in the dynamics of the industries in which they compete, their access to additional funding, and the overall health of the credit markets. Factors unique to the Company's securities including contractual protections such as financial covenants or relative position in the issuer's capital structure also influence the value of the Company's holdings.\n",
      "Most of the Company's investments carry a rating by one or more of the nationally recognized statistical rating organizations (NRSROs or rating agencies). Any change in the rating agencies' approach to evaluating credit and assigning an opinion could negatively impact the fair value of the Company's portfolio. Any expected or sustained credit deterioration of the Company's investments will negatively impact the Company's net income and capital position through credit impairment and other credit related losses. Credit related losses that are not temporary in nature would also affect \n",
      "14\n",
      "Item 1A. Risk \n",
      "Factors\n",
      "the Company's solvency ratios in the U.S. and Japan. Aflac Japan has certain regulatory accounting requirements for realizing impairments that could be triggered by credit-related losses, which may be different from U.S. GAAP and statutory requirements. These impairment losses could negatively impact Aflac Japan's earnings, and the corresponding dividends and capital deployment. The Company is also subject to the risk that any collateral providing credit enhancement to the Company's investments could deteriorate. \n",
      "The Company is also exposed to the general movement in credit market spreads. A widening of credit spreads could reduce the value of the Company's existing portfolio, create unrealized losses on its investment portfolio, and reduce the Company's adjusted capital position which is used in determining SMR in Japan. A tightening of credit spreads could reduce the net investment income available to the Company on new credit investments. Increased market volatility also makes it difficult to value certain of the Company's investment holdings. For more information, see the \"Critical Accounting Estimates\" section of Item 7, MD&A, and the \"Credit Risk\" subsection of Item 7A, Quantitative and Qualitative Disclosures about Market Risk.\n",
      "The Company is exposed to significant interest rate risk, which may adversely affect its results of operations, financial condition and liquidity.\n",
      "The Company has substantial investment portfolios that support its policy liabilities. Interest rate risk is an inherent portfolio, business and capital risk for the Company, and significant changes in interest rates could have a material adverse effect on the Company's consolidated results of operations, financial condition or cash flows through realized losses, impairments, changes in unrealized positions, and liquidity. Changes in interest rates could also result in the Company having to recognize gains or losses because the Company disposes of some or all of its investments prior to their maturity.\n",
      "The Company's exposure to interest rate risk relates primarily to the ability to invest future cash flows to support the interest rate assumption made at the time the Company's products were priced and the related reserving assumptions were established. Low levels of interest rates on investments experienced in Japan and the U.S. over the last decade have also reduced the level of investment income earned by the Company, and the Company's overall level of investment income will continue to be negatively impacted in a persistent low-interest-rate environment. While the Company generally seeks to maintain a diversified portfolio of fixed-income investments that reflects the cash flow and duration characteristics of the liabilities it supports, the Company may not be able to fully mitigate the interest rate risk of its assets relative to its liabilities. Prolonged periods of low interest rates also heighten the risk associated with future increases in interest rates because an increasing proportion of the Company's investment portfolio include investments that bear lower rates of return than the embedded book yield of the investment portfolio. A rise in interest rates would decrease the fair value of the Company's debt securities. \n",
      "A sustained decline in interest rates could hinder the Company's ability to earn the returns assumed in the pricing and the reserving for its insurance products at the time they were sold and issued and may also influence the Company's ability to develop and price attractive new products and could impact its overall sales levels. The Company's first sector products are more interest rate sensitive than third sector products. As discussed in Item 1, Business, beginning in 2013, Aflac Japan began to curtail sales of first sector savings-type products due to persistent low interest rates in Japan. The continuing negative interest rate imposed by the Bank of Japan (BoJ) on excess bank reserves could continue to have a negative impact on the distribution and pricing of these products.\n",
      "Conversely and concurrently, a rise in interest rates would improve the Company's ability to earn higher rates of return on future investments, as well as floating rate investments held in its investment portfolio. However, an increase in the differential of short-term U.S. and Japan interest rates would also increase the cost of hedging a portion of the U.S. dollar-denominated assets in the Aflac Japan segment into yen, which could have a material adverse effect on the Company's business, results of operations or financial condition. Further, some of the insurance products that Aflac sells in the U.S. and Japan provide cash surrender values, and a rise in interest rates could trigger significant policy surrenders, which might require the Company to sell investment assets and recognize unrealized losses. Rising interest rates also negatively impact SMR because unrealized losses on the available-for-sale investment portfolio factor into the ratio. In addition to the unrealized losses negatively impacting SMR, significant unrealized losses could impact the amount of dividends that could be paid under local regulations. For regulatory accounting purposes for Aflac Japan, there are also certain requirements for realizing impairments that could be triggered by rising interest rates, negatively impacting Aflac Japan's regulatory earnings and corresponding dividends and capital deployment. \n",
      "The Company’s floating rate investments typically bear interest based on the U.S. Dollar (USD) London Interbank Offered Rate (LIBOR). The upcoming cessation of USD LIBOR as an interest rate benchmark may create uncertainty in the valuation of USD LIBOR-based loans, derivatives, and other financial contracts. The Company is unable to predict with \n",
      "15\n",
      "Item 1A. Risk \n",
      "Factors\n",
      "certainty how the upcoming cessation of USD LIBOR may impact markets, pricing, liquidity and other factors or the Company's activities.  \n",
      "See the \"Interest Rate Risk\" subsection of Item 7A, Quantitative and Qualitative Disclosures about Market Risk for more information. \n",
      "The Company's concentration of business in Japan poses risks to its operations and financial condition.\n",
      "The Company's operations in Japan, including net investment gains and losses on Aflac Japan's investment portfolio, accounted for 69% of the Company's total revenues in 2021, compared with 68% in 2020 and 69% in 2019. The Japanese operations accounted for 82% of the Company's total assets at December 31, 2021, compared with 83% at December 31, 2020.\n",
      "Any potential deterioration in Japan's credit quality or access to markets, the overall economy of Japan, or an increase in Japanese market volatility could adversely impact Aflac Japan's operations and its financial condition and thereby Aflac's overall financial performance. Further, because of the concentration of the Company's business in Japan and its need for long-dated yen-denominated assets, the Company has a substantial concentration of JGBs in its investment portfolio exposing the Company to credit deterioration and potential downgrades of JGBs. See the risk factor entitled “Any decrease in the Company's financial strength or debt ratings may have an adverse effect on its competitive position and access to liquidity and capital” for more information. \n",
      "The Company seeks to match investment currency and interest rate risk to its yen liabilities. The low interest rates on yen-denominated securities has a negative effect on overall net investment income. A large portion of the cash available for reinvestment each year is deployed in yen-denominated instruments and subject to the low level of yen interest rates.\n",
      "Lack of availability of acceptable yen-denominated investments could adversely affect the Company's results of operations, financial position or liquidity.\n",
      "The Company aims to match both the duration and currency of its assets with its liabilities. This is very difficult for Aflac Japan due to the lack of available long-dated yen-denominated fixed income instruments beyond JGBs. \n",
      "Aflac Japan’s investment strategy includes U.S. dollar-denominated investments for which a portion of dollar currency risk is mitigated by entering into currency hedges. This program includes public investment-grade bonds as well as U.S. dollar-denominated investment-grade commercial mortgage loans, middle market loans, infrastructure debt, collateralized loan obligations and other loan types, high yield bond and public and private equities. The Company plans to continue adding other instruments denominated in U.S. dollars, including floating rate investments, to improve the portfolio diversification and/or return profile. Some of the U.S. dollar-denominated asset classes that the Company has added, and anticipates continuing to add, have less liquidity than investment-grade corporate bonds. Further, in recent years the Company has reduced the proportion of U.S. dollar-denominated investments that are subject to a currency hedge, and this proportion continues to be subject to change at the Company’s discretion. These strategies will continue to increase the Company's exposure to U.S. interest rates, credit spreads and other risks. The Company has increased U.S. dollar risk exposure in Japan as the comprehensive hedging program may not always correlate to the underlying U.S. dollar-denominated assets, thereby increasing earnings volatility. These risks can significantly impact the Company's consolidated results of operations, financial position or liquidity.\n",
      "Investing in U.S. dollar-denominated investments in Aflac Japan also creates an unmatched foreign currency exposure and related SMR volatility, as Aflac Japan’s insurance liabilities are yen-denominated. Although the Company engages in certain foreign exchange hedging activities to partially mitigate this risk, and such hedged assets may be used to satisfy yen-denominated insurance liabilities and other business obligations, important risks remain.\n",
      "Foreign exchange derivatives used for hedging are periodically settled, which results in cash receipt or payment at maturity or early termination. Cumulative net cash settlements on derivatives hedging currency exposure of Aflac Japan's U.S. dollar-denominated investments are associated with existing U.S. dollar-denominated investments that continue to be hedged, previously hedged investments that continue to be held but are no longer hedged, and investments previously hedged that have since been sold, matured or redeemed and may or may not have not been converted to yen. The Company’s foreign exchange derivatives are typically shorter-dated than the underlying U.S. dollar-denominated investments being hedged, which creates roll-over risks within the hedging program that could increase the cost of such derivatives. If the Company reduces the notional amount of foreign exchange derivatives prior to the maturity of the hedged U.S. dollar-denominated investments, the foreign exchange gains or losses on the U.S. dollar-denominated investments remain economically unrealized. These foreign currency gains or losses on the investments are only \n",
      "16\n",
      "Item 1A. Risk \n",
      "Factors\n",
      "economically realized, or monetized, through sale, maturity or redemption of the investments and concurrent conversion to yen. However, the Company may not realize the benefit of offsetting adverse cash settlements on hedging derivatives with cash receipts on the U.S. dollar-denominated investments if the currency exchange rates move in an adverse direction before the investments are converted to yen, or if the investments are never converted to yen. As an example of the latter, if the Company’s actual insurance risk experience in Japan is as expected or more favorable than expected, the need for yen to pay expenses and claims would correspondingly remain at or below expected levels, thereby diminishing operational requirements to convert U.S. dollar-denominated investments to yen. The settlement of the foreign exchange derivatives is reported in the investing activities section of the Company’s consolidated statements of cash flows in the line item “Settlement of derivatives, net.”\n",
      "See the risk factor entitled “The Company is exposed to foreign currency fluctuations in the yen/dollar exchange rate”, the \"Hedging Activities\" subsection of Item 7, MD&A, and the \"Currency Risk\" subsection of Item 7A. Quantitative and Qualitative Disclosures about Market Risk for more information.\n",
      "The Company\n",
      " \n",
      "is exposed to foreign currency fluctuations in the yen/dollar exchange rate.\n",
      "Due to the size of Aflac Japan, where functional currency is the Japanese yen, fluctuations in the exchange rate between the yen and the U.S. dollar can have a significant effect on the Company's reported financial position and results of operations. Aflac Japan's premiums and a significant portion of its investment income are received in yen, and its claims and almost all expenses are paid in yen. Aflac Japan purchases yen-denominated assets and U.S. dollar-denominated assets, which may be hedged to yen, to support yen-denominated policy liabilities. Certain unhedged U.S. dollar denominated assets and liabilities held by Aflac Japan are re-measured to yen with the volatility reported in earnings. Furthermore, the yen-denominated balance sheet of Aflac Japan is translated into U.S. dollars for financial reporting purposes with foreign exchange impact reflected in equity. Accordingly, fluctuations in the yen/dollar exchange rate can have a significant effect on the Company's reported financial position and results of operations. Yen weakening has the effect of suppressing current year results in relation to the prior year, while yen strengthening has the effect of magnifying current year results in relation to the prior year. In addition, the weakening of the yen relative to the U.S. dollar will generally adversely affect the value of the Company's yen-denominated investments in U.S. dollar terms. Further, unhedged U.S. dollar-denominated securities held by Aflac Japan are exposed to foreign exchange fluctuations, which impact SMR. As a result, periods of unusually volatile currency exchange rates could result in limitations on dividends available to the Parent Company.\n",
      "The Company engages in certain foreign currency hedging activities to hedge the exposure to yen from its net investment in Japanese operations. These hedging activities are limited in scope, and the Company cannot provide assurance that these activities will be effective. \n",
      "As indicated in the MD&A, the Company has determined that the unhedged U.S. dollar-denominated investment portfolio acts as a natural economic currency hedge of a portion of the Company’s investment in Aflac Japan against erosion of economic value. At the same time, the unhedged U.S. dollar-denominated investment portfolio creates an unmatched foreign currency exposure and subjects Aflac Japan to volatility in regulatory capital, including SMR, and earnings, which may adversely impact Aflac Japan’s ability to pay dividends to the Parent Company. The Company has historically maintained and currently maintains the size of the unhedged portfolio at levels below the economic equity surplus in Aflac Japan, but there can be no assurance that this strategy will be successful.\n",
      "For regulatory accounting purposes, there are certain requirements for realizing impairments that could be triggered by changes in the rate of exchange between the yen and U.S. dollar and could negatively impact Aflac Japan's earnings and the corresponding dividends and capital deployment. \n",
      "Additionally, the Company is exposed to currency risk when yen cash flows are converted into U.S. dollars, resulting in changes in the Company's U.S. dollar-denominated cash flows and earnings when exchange gains or losses, respectively, are realized. This primarily occurs when Aflac Japan pays dividends in yen to the Parent Company, but it also has an impact when cash in the form of yen is converted to U.S. dollars for investment into U.S. dollar-denominated assets. The exchange rates prevailing at the time of dividend payment may differ from the exchange rates prevailing at the time the yen profits were earned. The Parent Company utilizes forward contracts to accomplish a dual objective of hedging foreign currency exchange rate risk related to dividend payments by Aflac Japan, and reducing enterprise-wide hedge costs. However, if the markets experience a significant strengthening of yen, this could cause cash strain at the Parent Company as a result of cash collateral and potentially cash settlement requirements. Based on the timing and severity of exchange rate fluctuations combined with the level of outstanding activity in this program, the cash strain at the Parent Company could be significant. \n",
      "17\n",
      "Item 1A. Risk \n",
      "Factors\n",
      "For more information regarding unhedged U.S. dollar-denominated securities, see the risk factor above entitled, “Lack of availability of acceptable yen-denominated investments could adversely affect the Company’s results of operations, financial position or liquidity”. See the \"Currency Risk\" subsection of Item 7A, Quantitative and Qualitative Disclosures about Market Risk for more information.\n",
      "The valuation of the Company's investments and derivatives includes methodologies, estimations and assumptions that are subject to differing interpretations and could result in changes to investment valuations that may adversely affect the Company's results of operations or financial condition.\n",
      "The Company reports a significant amount of its fixed maturity securities and other financial instruments at fair value. As such, valuations may include inputs and assumptions that are less observable or require greater estimation and valuation methods that are more sophisticated, thereby resulting in values that may be greater or less than the value at which the investments may be ultimately sold. Rapidly changing and unprecedented credit and equity market conditions could materially impact the valuation of securities as reported within the Company's consolidated financial statements and the period-to-period changes in value could vary significantly.\n",
      "Valuations of the Company's derivatives fluctuate with changes in underlying market variables, such as interest rates and foreign currency exchange rates. During periods of market turbulence created by political instability, economic uncertainty, government interventions or other factors, the Company may experience significant changes in the volatility of its derivative valuations. Extreme market conditions can also affect the liquidity of such instruments creating marked differences in transaction levels and counterparty valuations. Depending on the severity and direction of the movements in its derivative valuations, the Company will face increases in the amount of collateral required to be posted with its counterparties. Liquidity stresses to the Company may also occur if the required collateral amounts increase significantly over a very short period of time. Conversely, the Company may be exposed to an increase in counterparty credit risk for short periods of time while calling collateral from its counterparties.\n",
      "Where valuation and interest rates are based on USD LIBOR, the upcoming cessation of USD LIBOR as an interest rate benchmark may create uncertainty in valuation of loans, derivatives and other assets in the pricing of such assets in markets for their sale and disposition.\n",
      "See the \"Critical Accounting Estimates\" section of Item 7, MD&A, and Notes 1, 3, 4, and\n",
      " 5\n",
      " of the Notes to the Consolidated Financial Statements for more information.\n",
      "The determination of the amount of expected credit losses recorded on the Company's investments is based on significant valuation judgments and could materially impact its results of operations or financial position.\n",
      "The Company estimates an expected lifetime credit loss on investments measured at amortized cost including held-to-maturity fixed maturity securities, loan receivables and loan commitments. For the Company’s available-for-sale fixed maturity securities, the Company evaluates estimated credit losses only when the fair value of the available-for-sale fixed maturity security is below its amortized cost basis.\n",
      "The Company’s approach to estimating credit losses is complex and incorporates significant judgments. In addition to a security, or an asset class, or issuer-specific credit fundamentals, it considers relevant historical information (e.g. loss statistics), current market conditions and reasonable and supportable micro and macroeconomic forecasts.\n",
      "The Company's management updates its expected credit loss assumptions regularly as conditions change and as new information becomes available and reflects expected credit losses in the Company's earnings when considered necessary. Furthermore, additional credit losses may need to be taken in the future. Historical trends may not be indicative of future expectations of credit losses.\n",
      "See Note 3 of the Notes to the Consolidated Financial Statements in this report for more information.\n",
      "The Company cannot provide assurance that these evaluations will be accurate and effective.  If the Company’s estimates of credit losses are not accurate and actual credit losses are higher than the Company’s estimates, the Company’s net income and capital position will be negatively impacted. \n",
      "These higher losses would also negatively affect the Company's solvency ratios in the U.S. and Japan\n",
      ". \n",
      "For regulatory accounting purposes for Aflac Japan, there are certain requirements for realizing impairments that could be triggered by rising interest rates, credit-related losses, or changes in foreign exchange, negatively impacting Aflac Japan's earnings and corresponding dividend and capital deployment. \n",
      "18\n",
      "Item 1A. Risk \n",
      "Factors\n",
      "Any decrease in the Company's financial strength or debt ratings may have an adverse effect on its competitive position and access to liquidity and capital.\n",
      "NRSROs may change their ratings or outlook on an insurer's ratings due to a variety of factors including but not limited to competitive position; profitability; cash generation and other sources of liquidity; capital levels; quality of the investment portfolio; and perception of management capabilities. \n",
      "The ratings assigned to the Company by the NRSROs are important factors in the Company's ability to access liquidity and capital from the bank market, debt capital markets or other available sources, such as reinsurance transactions. Downgrades of the Company's credit ratings could give its derivative counterparties the right to require early termination of derivatives transactions or delivery of additional collateral, thereby adversely affecting the Company's liquidity. \n",
      "Downgrades of the Company's ratings could also have a material adverse effect on agent recruiting and retention, sales, competitiveness and the marketability of its products, all of which could negatively impact the Company's liquidity, operating results and financial condition. Additionally, sales through the bank channel in Japan could be adversely affected as a result of their reliance on and sensitivity to ratings levels.\n",
      "The Company cannot predict what actions rating agencies may take, or what actions the Company may take in response to the actions of rating agencies. As with other companies in the financial services industry, the Company's ratings could be downgraded at any time and without any notice by any NRSRO\n",
      ".\n",
      "A decline in the creditworthiness of other financial institutions could adversely affect the Company.\n",
      "The Company has exposure to and routinely executes transactions with counterparties in the financial services industry, including broker dealers, derivative counterparties, commercial banks and other institutions. \n",
      "The Company uses derivative instruments to mitigate various risks associated with its investment portfolio, notes payable, and subsidiary dividends. The Company's use of derivatives results in financial exposure to derivative counterparties. If the Company's counterparties fail or refuse to honor their obligations under derivative instruments, the Company's hedges of the risks will be ineffective, and the Company's financial condition and results of operations could be adversely affected. \n",
      "The Company engages in derivative transactions directly with unaffiliated third parties under International Swaps and Derivatives Association, Inc. (ISDA) agreements and other documentation. Most of the ISDA agreements also include Credit Support Annexes (CSAs) provisions, which generally provide for two-way collateral postings at the first dollar of exposure. In addition, a significant portion of the derivative transactions have provisions that give the counterparty the right to terminate the transaction upon a downgrade of Aflac’s financial strength rating. The actual amount of payments that the Company could be required to make depends on market conditions, the fair value of outstanding affected transactions, and other factors prevailing at and after the time of the downgrade. If the Company is required to post collateral to support derivative contracts and/or pay cash to settle the contracts at maturity, the Company's liquidity could be strained. In addition, the Company's cleared swaps result in counterparty exposure to clearing brokers and central clearinghouses; while this exposure is mitigated in part by clearinghouse and clearing broker capital and regulation, no assurance can be provided that these counterparties will fulfill their obligations. The Company also has exposure to counterparties to securities lending transactions in the event they fail to return loaned securities. The Company is also exposed to the risk that there may be a decline in value of securities posted as collateral for securities lending programs or a decline in value of investments made with cash posted as collateral for such programs.\n",
      "Further, the Company has agreements with various Japanese financial institutions for the distribution of its insurance products. For example, at December 31, 2021, the Company had agreements with 360 banks to market Aflac's products in Japan. Sales through these banks represented 5.2% of Aflac Japan's new annualized premium sales in 2021. Any material adverse effect on these or other financial institutions could also have an adverse effect on the Company's sales.\n",
      "The Company has entered into significant reinsurance transactions with large, highly rated counterparties. Negative events or developments affecting any one of these counterparties could have an adverse effect on the Company's financial position or results of operations.\n",
      "All of these risks related to exposure to other financial institutions could adversely impact the Company's consolidated results of operations and financial condition.\n",
      "19\n",
      "Item 1A. Risk \n",
      "Factors\n",
      "The concentration of the Company's investment portfolios in any particular single-issuer or sector of the economy may have an adverse effect on the Company's financial position or results of operations.\n",
      "Negative events or developments affecting any particular single issuer, industry, group of related industries, asset class or geographic sector may have an adverse impact on a particular holding or set of holdings, which may increase risk of loss from defaults due to non-payment of interest or principal. To the extent the Company has concentrated positions, it could have an adverse effect on the Company's results of operations and financial position. \n",
      "See the \"Investments\" section of Item 7, MD&A, and the \"Credit Risk\" section of Item 7A, Quantitative and Qualitative Disclosures about Market Risk, for more information. \n",
      "Operational-Related Risk Factors\n",
      "Major public health issues, including COVID-19 and any resulting economic effects could have an adverse impact on the Company's financial condition and results of operations and other aspects of its business.\n",
      "The Company continues to closely monitor developments related to COVID-19 to assess its impact on the Company's business. Due to the evolving nature of this event, including fluctuations in infection, hospitalization and death rates in the United States, Japan and other regions of the world, COVID-19 could continue to impact the Company's business, financial condition, results of operations, capital position, liquidity or prospects in a number of ways. The pandemic may cause changes to estimates of future earnings, capital deployment and other guidance the Company has provided to the markets in the \"2022 Outlook\" section of Item 7, MD&A.\n",
      "The continuing effects of the pandemic and the effort by governmental entities, public health authorities and private entities to contain the impact of COVID-19 in the U.S. and Japan, among other factors, result in continuing uncertainty about the severity and duration of the pandemic’s effects on the U.S., Japan and global economies and on the Company's business. The extent to which the pandemic will continue to impact the Company's business, results of operations or financial condition, as well as those of its customers, agents, brokers and other distribution partners, vendors and counterparties, will depend on future developments that are highly uncertain and cannot be predicted, including new information that may emerge concerning the severity of COVID-19, including its variants, and the actions taken to contain or treat its and their impact.\n",
      "As a result of the COVID-19 pandemic, Aflac U.S. has experienced lower sales and may in the future experience elevated lapse rates because a higher concentration of its policies in force are associated with small businesses that may be disproportionately negatively impacted by the economic uncertainty surrounding COVID-19.\n",
      "Policies issued by Aflac Japan and Aflac U.S. are primarily sold and enrolled in person through face-to-face interaction. Likewise, recruiting of new agents and brokers largely occurs through in-person contact. The ability of individual agents and agencies, strategic alliance partners, brokers and other distribution partners to make sales in Japan and the U.S. and the ability to conduct agent and broker recruiting has been significantly reduced by efforts to mitigate the effects of the pandemic, including social distancing orders, requirements or guidelines issued by government or public health authorities, and adoption of social distancing techniques and remote working by employees, which may hinder sales of the Company’s products in Japan and the U.S. The Company cannot predict with certainty the continuing impact of these events on its distribution channels and financial results, but the impact to date has been more acute for Aflac U.S. due to the higher number of confirmed COVID-19 cases and deaths in the U.S. to date compared with Japan, both in absolute terms and in proportion to national populations, as well as the historically lower rate of persistency in the Aflac U.S. business. The Company also considers that most Aflac U.S. business customers, and most of the independent agents in its agency channel, are small businesses who may lack the financial resources to weather an economic downturn and may be disproportionately negatively impacted by the economic uncertainty surrounding COVID-19. These factors may continue to negatively impact sales beyond 2021. See the risk factors entitled “Sales of the Company's products and services are dependent on its ability to attract, retain and support a network of qualified sales associates, brokers and employees in the U.S. and sales associates and other distribution partners in Japan” and “Difficult conditions in global capital markets and the economy, including those caused by COVID-19, could have a material adverse effect on the Company's investments, capital position, revenue, profitability, and liquidity and harm the Company's business” for more information.\n",
      "Further, the Company's operations, as well as those of its vendors, service providers and counterparties, may also be adversely affected by the COVID-19 pandemic or the mitigation efforts outlined above. In both the U.S. and Japan, the Company has over 50% of its employees working remotely. The Company has begun to implement return to work plans for Aflac Japan and Aflac U.S. that are adaptable and based upon multiple factors including government orders, guidelines \n",
      "20\n",
      "Item 1A. Risk \n",
      "Factors\n",
      "issued by public health authorities, the location and job responsibilities of specific Company personnel, rates of COVID-19 vaccinations, cases and deaths in various localities and other factors. The Company may nevertheless experience operational disruptions when employees return to work.  \n",
      "The assumptions and estimates that the Company uses in establishing premiums and reserves depend on the Company's judgment regarding the likelihood of future events and are inherently uncertain, including without limitation in regard to the effects of COVID-19. See the risk factor entitled “If future policy benefits, claims or expenses exceed those anticipated in establishing premiums and reserves, the Company's financial results would be adversely affected” and the \"Executive Summary\" section of Item 7, MD&A, for more information.\n",
      "For more information on the effects of the COVID-19 pandemic on markets and investments, see the risk factor entitled, “Difficult conditions in global capital markets and the economy, including those caused by the COVID-19, could have a material adverse effect on the Company's investments, capital position, revenue, profitability, and liquidity and harm the Company's business.”\n",
      "Sales of the Company's products and services are dependent on its ability to attract, retain and support a network of qualified sales associates, brokers and employees in the U.S. and sales associates and other distribution partners in Japan.\n",
      "The Company's sales, results of operations and financial condition could be materially adversely affected if its sales networks deteriorate or if the Company does not adequately provide support, training and education for its existing network of sales associates, brokers, other distribution partners and employees. In the U.S., competition exists for sales associates and brokers with demonstrated ability. In Japan, the Company's sales results are dependent upon its relationship with sales associates and other distribution partners, including its strategic partner, Japan Post Group. Sales of Aflac Japan cancer products in the Japan Post Group channel experienced a material decline beginning in August 2019 which continued in 2021; while Japan Post Group resumed proactive sales of cancer insurance policies on April 1, 2021 and the Company anticipates a gradual improvement of cancer insurance sales through the Japan Post Group channel over the medium term, the Company can provide no assurance regarding the ultimate timing or extent of any recovery in such sales. It is uncertain what long-term effect these developments will have on the Company’s results of operations or financial condition, but any such effects could be material. See the \"Aflac Japan Segment\" section of Item 7. MD&A for more information.\n",
      "The Company competes with other insurers and financial institutions primarily on the basis of its products, compensation, support services and financial rating. The Company's sales associates, brokers and other distribution partners are independent contractors and may sell products of its competitors. If the Company's competitors offer products that are more attractive, or pay higher commissions than the Company does, any or all of these distribution partners may concentrate their efforts on selling the Company's competitors' products instead of the Company's. In addition to the Company's commissioned sales force in the U.S., Aflac has expanded its sales leadership team to include a salaried sales force of over 200 market directors and broker sales professionals. The Company's inability to attract and retain qualified sales associates, brokers and other distribution partners, including its alliance partners in Japan, could have a material adverse effect on the Company's sales, results of operations and financial condition.\n",
      "Additionally, as the Japan and U.S. employment markets continue to evolve, there is risk that the Company's practices regarding attracting, developing, and retaining employees may not be fully effective. Employees may leave the Company or choose other employers over the Company due to various factors, including a competitive labor market. Although Aflac U.S. has not experienced any material labor shortage to date, during the COVID-19 pandemic, it has experienced elevated levels of workforce turnover and there has been an overall tightening of, and increased competition within, the U.S. labor market. These conditions, together with higher levels of inflation may result in increased operating expenses. A sustained labor shortage or continuing increased turnover rates within the Aflac U.S. workforce, due to labor market factors including pandemics such as COVID-19 or the state of the U.S. economy, could lead to increased costs of the day-to-day operation of the Aflac U.S. business, the inability to hire and retain employees, or the outsourcing of certain operations. Failure to successfully meet and maintain sufficient levels of employees may diminish the Company's ability to achieve its financial and compliance objectives, both of which are time consuming and personnel-intensive.\n",
      "For more information on the effects of COVID, see the risk factor entitled, “Major public health issues, including COVID-19 and any resulting economic effects could have an adverse impact on the Company's financial condition and results of operations and other aspects of its business.”\n",
      "21\n",
      "Item 1A. Risk \n",
      "Factors\n",
      "If future policy benefits, claims or expenses exceed those anticipated in establishing premiums and reserves, the Company's financial results would be adversely affected. \n",
      "The assumptions and estimates that the Company uses in establishing premiums and reserves depend on the Company's judgment regarding the likelihood of future events and are inherently uncertain. Many factors can cause actual outcomes to deviate from these assumptions and estimates, such as changes in incidence rates, economic conditions, changes in government healthcare policy, advances in medical technology, changes in treatment patterns, and changes in average lifespan. Accordingly, the Company cannot determine with precision the ultimate amounts that it will pay for, or the timing of payment of, actual benefits and claims or whether the assets supporting the policy liabilities will grow to the level the Company assumes prior to payment of benefits or claims. If the Company's actual experience is different from its assumptions or estimates, the Company's premiums and reserves may prove inadequate. As a result, the Company would incur a charge to earnings in the period in which it determines such a shortfall exists, which could have a material adverse effect on the Company's business, results of operations and financial condition.\n",
      "The success of the Company's business depends in part on effective information technology systems and on continuing to develop and implement improvements in technology.\n",
      "The Company's business depends in large part on its technology systems for interacting with employers, policyholders, sales associates, and brokers, and the Company's business strategy involves providing customers with easy-to-use products to meet their needs and ensuring employees have the technology in place to support those needs. Some of the Company's information technology systems and software are older, legacy-type systems that are less efficient and require an ongoing commitment of significant resources to maintain or upgrade to current standards including adequate business continuity procedures. As such, the Company is investing in technology and other capabilities to continuously enhance its customer experience, while also seeking to increase efficiencies. The Company is also developing new and innovative products and enhancing existing products. The Company will continue to incur expenses related to, among other things, investments in digital capabilities and product innovation. Further, the Company’s long-term strategy depends on successful operational execution and its ability to execute on its transformational initiatives, combined with its ability to achieve efficiencies and attract and retain personnel.  If the Company does not maintain the effectiveness of its systems and continue to develop and enhance information systems that support its business processes in a cost-efficient manner, the Company's sales, business retention, operations and reputation could be adversely affected and it could be exposed to litigation, regulatory proceedings and fines or penalties.\n",
      "Interruption in telecommunication, information technology and other operational systems, or a failure to maintain the security, confidentiality, integrity or privacy of sensitive data residing on such systems, could harm the Company's business. \n",
      "The Company stores confidential policyholder, employee, agent, broker, and other proprietary information on its information technology systems. The Company also depends heavily on its telecommunication, information technology and other operational systems and on the integrity and timeliness of data it uses to run its businesses and service its customers. The Company’s information technology and other systems, as well as those of third party providers and participants in the Company’s distribution channels, have been and will likely continue to be subject to physical or electronic break-ins, unauthorized tampering, security breaches, social engineering, phishing, web application attacks, computer viruses or other malicious codes, or other cyber-attacks, that may result in the failure to adequately maintain the security, confidentiality, integrity, or privacy of sensitive data, including personal information relating to customers and prospective customers, or in the misappropriation of the Company's intellectual property or proprietary information. Although the Company attempts to manage its exposure to such events through the purchase of cyber liability insurance, such events are inherently unpredictable and insurance may not be sufficient to protect the Company against all losses. As a result, events such as these could adversely affect the Company's financial condition or results of operation. Although the minor data leakage issues the Company has experienced to date have not had a material effect on its business, there is no assurance that the Company's security systems or processes will prevent or mitigate future break-ins, tampering, security breaches or other cyber-attacks. \n",
      "Interruption in telecommunication, information technology and other operational systems, or a failure to maintain the security, confidentiality or privacy of sensitive data residing on such systems, whether due to actions by the Company or others, including third party providers and participants in the company’s distribution channels, could delay or disrupt the Company's ability to do business and service its customers, seriously harm the Company's brand, reputation, and ability to compete effectively, subject it to regulatory sanctions and other claims, lead to a loss of customers and revenues and otherwise adversely affect the Company's business. In addition, the costs to address or remediate system interruptions or security threats and vulnerabilities, whether before or after an incident, could be significant.\n",
      "22\n",
      "Item 1A. Risk \n",
      "Factors\n",
      "As a holding company, the Parent Company depends on the ability of its subsidiaries to transfer funds to it to meet its debt service and other obligations and to pay dividends on its common stock.\n",
      "The Parent Company is a holding company and has no direct operations, and its most significant assets are the stock of its subsidiaries. Because the Parent Company conducts its operations through its operating subsidiaries, the Parent Company depends on those entities for dividends and other payments to generate the funds necessary to meet its debt service and other obligations, to pay dividends on and conduct repurchases of its common stock, and to make investments into its subsidiaries or external opportunities.\n",
      " \n",
      "Aflac is domiciled in Nebraska and is subject to insurance regulations that impose certain limitations and restrictions on payments of dividends, management fees, loans and advances by Aflac to the Parent Company. The Nebraska insurance statutes require prior approval for dividend distributions that exceed the greater of the net income from operations, which excludes net realized investment gains, for the previous year determined under statutory accounting principles, or 10% of statutory capital and surplus as of the previous year-end. The Nebraska insurance department also must approve service arrangements and other transactions within the affiliated group of companies. After the Japan branch conversion, the Nebraska insurance department and the FSA approved their respective domiciled insurance company service arrangements and transactions. The FSA does not allow dividends or other payments from Aflac Japan unless it meets certain financial criteria as governed by Japanese corporate law. Under these criteria, dividend capacity at the Japan subsidiary will be defined as retained earnings plus other capital reserve less net after-tax net unrealized losses on available-for-sale securities. \n",
      "The ability of Aflac and Aflac Japan to pay dividends or make other payments to the Parent Company could also be constrained by the Company's dependency on financial strength ratings from independent rating agencies. The Company's ratings from these agencies depend to a large extent on Aflac's capitalization level. Any inability of Aflac to pay dividends or make other payments to the Parent Company could have a material adverse effect on the Company's financial condition and results of operations.\n",
      "For the foregoing reasons, there is no assurance that the earnings from, or other available assets of, the Parent Company's operating subsidiaries will be sufficient to make distributions to enable the Company to operate.\n",
      "The Company's risk management policies and procedures may prove to be ineffective and leave the Company exposed to unidentified or unanticipated risk, which could adversely affect the Company's businesses or result in losses.\n",
      "The Company has developed an enterprise-wide risk management and governance framework to mitigate risk and loss to the Company. The Company maintains policies, procedures and controls intended to identify, measure, monitor, report and analyze the risks to which the Company is exposed.\n",
      "However, there are inherent limitations to risk management strategies because risk may exist, or emerge in the future, that the Company has not appropriately anticipated or identified. If the Company's risk management framework proves ineffective, the Company may suffer unexpected losses and could be materially adversely affected. As the Company's businesses change and the markets in which it operates evolve, the Company's risk management framework may not evolve at the same pace as those changes, and risks may not be appropriately identified, monitored or managed. In times of market stress, unanticipated market movements or unanticipated claims experience resulting from greater than expected morbidity, mortality, longevity, or persistency, the effectiveness of the Company's risk management strategies may be limited, resulting in losses to the Company. Under difficult or less liquid market conditions, the Company's risk management strategies may be ineffective or more difficult or expensive to execute because other market participants may be using the same or similar strategies to manage risk.\n",
      "Many of the Company's risk management strategies or techniques are based upon historical customer and market behavior and all such strategies and techniques are based to some degree on management’s subjective judgment. The Company cannot provide assurance that its risk management framework, including the underlying assumptions or strategies, will be accurate and effective. \n",
      "Management of operational, legal and regulatory risks requires, among other things, policies, procedures and controls to record properly and verify a large number of transactions and events, and these policies, procedures and controls may not be fully effective. The Company's businesses and corporate areas primarily use models to project future cash flows associated with pricing products, calculating reserves and valuing assets, and evaluating risk and determining capital requirements, among other uses. These models are utilized under a risk management policy approved by the Company's executive risk management committees, however, the models may not operate properly and rely on assumptions and \n",
      "23\n",
      "Item 1A. Risk \n",
      "Factors\n",
      "projections that are inherently uncertain. As the Company's businesses continue to grow and evolve, the number and complexity of models the Company utilizes expands, increasing the Company's exposure to error in the design, implementation or use of models, including the associated input data and assumptions.\n",
      "Past or future misconduct by the Company's employees or employees of third parties (suppliers which are cost-based relationships and alliance partners which are revenue-generating relationships) could result in violations of law by the Company, regulatory sanctions and/or serious reputational or financial harm, and the precautions the Company takes to prevent and detect this activity may not be effective in all cases. Despite the Company's published Supplier Code of Conduct, due diligence of the Company's alliance partners, and rigorous contracting procedures (including financial, legal, IT security, and risk reviews), there can be no assurance that controls and procedures that the Company employs will be effective. Additionally, the use of third parties also poses operational risks that could result in financial loss, operational disruption, brand damage, or compliance issues. Inadequate oversight of Aflac’s third party suppliers due to the lack of policies, procedures, training and governance may lead to financial loss or damage to the Aflac brand.\n",
      "The use of third party vendors to support the Company's operations makes the Company susceptible to the operational risk of those third parties, which could lower revenues, increase costs, reduce profits, disrupt business, or damage the Company’s reputation.\n",
      "The Company utilizes third-party vendors to provide certain business support services and functions, which exposes the Company to risks outside the control of the Company that may lead to business disruptions. The reliance on these third-party vendors creates a number of business risks, such as the risk that the Company may not maintain service quality, control or effective management of the outsourced business operations and that the Company cannot control the information systems, facilities or networks of such third-party vendors. Additionally, the Company is at risk of being unable to meet legal, regulatory, financial or customer obligations if the information systems, facilities or networks of a third-party vendor are disrupted, damaged or fail, whether due to physical disruptions, such as fire, natural disaster, pandemic or power outage, or due to cyber-security incidents, ransomware or other impacts to vendors, including labor strikes, political unrest and terrorist attacks. Since certain third-party vendors conduct operations for the Company outside the U.S., the political and military events in foreign jurisdictions could have an adverse impact on the Company’s outsourced operations. The Company may be adversely affected by a third party vendor who operates in a poorly controlled manner or fails to deliver contracted services, which could lower revenues, increase costs, reduce profits, disrupt business, or damage the Company’s reputation.\n",
      "Regulatory Risk Factors\n",
      "Tax rates applicable to the Company may change. \n",
      "The Company is subject to taxation in Japan, and in the U.S. under federal and numerous state and local tax jurisdictions. In preparing the Company's financial statements, the Company estimates the amount of tax that will become payable, but the Company's effective tax rate may be different than estimates due to numerous factors including accounting for income taxes, the mix of earnings from Japan and the U.S., the results of tax audits, adjustments to the value of uncertain tax positions, changes to estimates and other factors. Further, changes in U.S. or Japan tax laws or interpretations of such laws could increase the Company's corporate taxes and reduce earnings.\n",
      "In addition, it remains difficult to predict the timing and effect that future tax law changes could have on the Company's earnings both in the U.S. and in foreign jurisdictions, including in connection with the current presidential administration's continuing interest in raising revenue from the corporate sector in the U.S. Any of these factors could cause the Company to experience an effective tax rate significantly different from previous periods or the Company's current estimates. If the Company's effective tax rate were to increase, the Company's financial condition and results of operations could be adversely affected. \n",
      "If the Company fails to comply with restrictions on customer privacy and information security, including taking steps to ensure that its third-party service providers and business associates who access, store, process or transmit sensitive customer information maintain its security, integrity, confidentiality and availability, the Company's reputation and business operations could be materially adversely affected.\n",
      "The collection, maintenance, use, protection, disclosure and disposal of individually identifiable data by the Company's businesses are regulated at the international, federal and state levels. These laws and rules are subject to change by legislation or administrative or judicial interpretation. With regard to personal information obtained from policyholders, the insured, or others, Aflac Japan is regulated in Japan by the APPI and guidelines issued by FSA and other governmental authorities.\n",
      "24\n",
      "Item 1A. Risk \n",
      "Factors\n",
      "Various state laws in the U.S. address the unauthorized access and acquisition of personal information and the use and disclosure of individually identifiable health data. HIPAA requires the Company to impose privacy and security requirements on its business associates (as such term is defined in the HIPAA regulations). Several states including California and New York, in which Aflac U.S. conducts significant portions of its business, have made changes to their privacy or cybersecurity laws or regulations in recent years. Further, the U.S. Congress and many states are considering new privacy and security requirements that would apply to the Company's business. Compliance with new privacy and security laws, requirements, and new regulations may result in cost increases due to necessary systems changes, new limitations or constraints on the Company's business models, the development of new administrative processes, and the effects of potential noncompliance by the Company's business associates. They also may impose further restrictions on the Company's collection, disclosure and use of customer identifiable data that are housed in one or more of the Company's administrative databases. Noncompliance with any privacy laws or any security breach involving the misappropriation, loss, theft or other unauthorized disclosure of sensitive or confidential customer information, whether by the Company or by one of its third parties, could have a material adverse effect on the Company's business, reputation, brand and results of operations, including: material fines and penalties; compensatory, special, punitive and statutory damages; consent orders regarding the Company's privacy and security practices; adverse actions against the Company's licenses to do business; and injunctive relief.\n",
      "In addition, under Japanese laws and regulations, including the APPI, if a leak or loss of personal information by Aflac Japan or its business associates should occur, depending on factors such as the volume of personal data involved and the likelihood of other secondary damage, Aflac Japan may be required to file reports to the FSA; issue public releases explaining such incident to the public; or become subject to an FSA business improvement order, which could pose a risk to the Company's reputation.\n",
      "Although the Company provides for appropriate protections through its contracts and performs information security risk assessments of its third-party service providers and business associates, the Company still has limited control over their actions and practices. In addition, despite the security measures the Company has in place to ensure compliance with applicable laws and rules, the Company's facilities and systems, and those of the Company's third-party providers and participants in its distribution channels may be vulnerable to security breaches, acts of vandalism or theft, computer viruses, misplaced or lost data, programming and/or human errors or other similar events. From time to time, the Company, its third party providers and participants in the Company’s distribution channels have experienced and will likely continue to experience such events. In such cases, notification to affected individuals, state and federal regulators, state attorneys general and media may be required, depending upon the number of affected individuals and whether personal information including health or financial data was subject to unauthorized access.\n",
      "Extensive regulation and changes in legislation can impact profitability and growth.\n",
      "Aflac's insurance subsidiaries are subject to complex laws and regulations that are administered and enforced by a number of governmental authorities, that exercise a degree of interpretive latitude, including the FSA and Ministry of Finance (MOF) in Japan, and state insurance regulators, the SEC, the NAIC, the FIO, the U.S. Department of Justice, state attorneys general, \n",
      "the U.S. Commodity Futures Trading Commission, and \n",
      "the U.S. Treasury, including the Internal Revenue Service (IRS), in the U.S. The Company is subject to the risk that compliance with any particular regulator's or enforcement authority's interpretation of a legal or regulatory issue may result in non-compliance with another regulator's or enforcement authority's interpretation of the same issue, particularly when compliance is judged in hindsight. Further, regulatory authorities periodically re-examine existing laws and regulations applicable to insurance companies and their products. Changes in these laws and regulations, or in interpretations thereof, could have a material adverse effect on the Company's financial condition and results of operations. In addition, changes in the overall legal or regulatory environment may, even absent any particular regulator's or enforcement authority's interpretation of an issue changing, cause the Company to change its views regarding the actions it needs to take from a legal or regulatory risk management perspective. This may necessitate changes to the Company's practices that may, in some cases, limit its ability to grow or otherwise negatively impact the profitability of the Company's business. \n",
      " If the Company's subsidiaries fail to meet the minimum capital or operational requirements established by its respective regulators, they could be subject to examination or corrective action, or the Company's financial strength ratings could be downgraded, or both.\n",
      "Compliance with applicable laws and regulations is time consuming and personnel-intensive, and changes in these laws and regulations may materially increase the Company's direct and indirect compliance and other expenses of doing business, thus having a material adverse effect on the Company's financial condition and results of operations. See the “Government Regulation” subsections of Item 1, Business, for more information. \n",
      "25\n",
      "Item 1A. Risk \n",
      "Factors\n",
      "General Risk Factors\n",
      "Competition could adversely affect the Company's ability to increase or maintain its market share or profitability.\n",
      "The Company operates in a competitive environment and in an industry that is subject to ongoing changes from market pressures brought about by customer demands, legislative reform, marketing practices and changes to health care and health insurance delivery. These factors require the Company to anticipate market trends and make changes to differentiate the Company's products and services from those of its competitors. The Company also faces potential competition from existing or new companies in the U.S. and Japan that have not historically been active in the supplemental health insurance industry, but some of which have greater financial, marketing and management resources than the Company. Further, some of these potential competitors could introduce new means of product development and delivery that disrupt the Company’s business model. Failure to anticipate market trends and/or to differentiate the Company's products and services can affect the Company's ability to retain or grow profitable lines of business. Further, as employers and brokers are increasingly requesting a full suite of products from one insurance provider, a failure to react and adapt to these demands could result in decreased sales or market share.\n",
      "The Company's future success will depend, in part, on its ability to keep pace with rapid technological changes and to use technology to satisfy and grow customer demand for the Company's products and services and to create additional efficiencies in its operations. The Company may not be able to effectively implement new technology-driven products and services or be successful in marketing these products and services to its customers. A failure to meet evolving customer demands through innovative product development, effective distribution channels, and continuous investment in the Company's technology could adversely affect the Company's operating results. Further, the evolving fragmentation of media and marketing channels that has developed over recent years could weaken the impact of the Company’s advertising efforts over time.   As a result, the Company's ability to effectively compete to retain or acquire new business may be impaired, and its business, financial condition or results of operations may be adversely affected.\n",
      "Catastrophic events, including as a result of climate change, could adversely affect the Company's financial condition and results of operations as well as the availability of the Company’s infrastructure and systems.\n",
      "The Company's insurance operations are exposed to the risk of catastrophic events including, but not necessarily limited to, epidemics, pandemics, tornadoes, hurricanes, earthquakes, tsunamis, war or other military action, and terrorism or other acts of violence. Claims resulting from natural or man-made catastrophic events could cause substantial volatility in the Company's financial results for any fiscal quarter or year and could materially reduce its profitability or harm the Company's financial condition, as well as affect its ability to write new business. In addition, such events may lead to periods of voluntary or required premium grace periods, which may lead to volatility in lapse rates and related premiums. Additionally, the Company's business operations may be adversely affected by such catastrophic events to the extent they disrupt the Company's physical infrastructure, human resources or systems that support its businesses and customers. Although the Company has a global crisis management framework to minimize the business disruption from a catastrophic event, such framework may not be effective to avoid an adverse impact to the Company from such an event.\n",
      "Climate change may increase the frequency and severity of natural disasters such as hurricanes, tornadoes, floods and forest fires. Further, the Company cannot predict the effects that any legal or regulatory changes made in response to climate change concerns would have on the Company’s business. In addition, while assessment of risks related to climate change are part of the Company's credit review process, climate change-related risks may adversely impact the value of the securities that the Company holds.\n",
      "Events, including those external to the Company's operations, could damage the Company's reputation.\n",
      "The Company has made significant investments in the Aflac brand over a long period of time. Because insurance products are intangible, the Company's ability to compete for and maintain policyholders relies to a large extent on consumer trust in the Company's business, including its alliance partners, sales associates and other distribution partners. The perception of unfavorable business practices or financial weakness with respect to the Company, its alliance partners, sales associates or other distribution partners could create doubt regarding the Company's ability to honor the commitments it has made to its policyholders. Such perceptions could also negatively impact the Company’s ability to attract and retain qualified sales associates, brokers and other distribution partners, including its alliance partners in Japan, and could have a material adverse effect on the Company's sales, results of operations and financial condition. These effects could also result from a perception of a lack of commitment to sustainability efforts and attention to societal impacts, unfavorable positions on items of public policy, or from failure to make progress toward our sustainability goals. Maintaining the Company's stature as a trustworthy insurer and responsible corporate citizen, which helps support the strength of the \n",
      "26\n"
     ]
    }
   ],
   "source": [
    "print(f10_k['item1'])"
   ],
   "metadata": {
    "collapsed": false
   }
  },
  {
   "cell_type": "code",
   "execution_count": 3,
   "outputs": [
    {
     "data": {
      "text/plain": "80391"
     },
     "execution_count": 3,
     "metadata": {},
     "output_type": "execute_result"
    }
   ],
   "source": [
    "len(f10_k['item1'])"
   ],
   "metadata": {
    "collapsed": false
   }
  },
  {
   "cell_type": "code",
   "execution_count": 4,
   "outputs": [
    {
     "data": {
      "text/plain": "dict_keys(['item1', 'item1a', 'item7', 'item7a', 'cik', 'source'])"
     },
     "execution_count": 4,
     "metadata": {},
     "output_type": "execute_result"
    }
   ],
   "source": [
    "f10_k.keys()"
   ],
   "metadata": {
    "collapsed": false
   }
  },
  {
   "cell_type": "code",
   "execution_count": 5,
   "outputs": [],
   "source": [
    "from langchain.text_splitter import RecursiveCharacterTextSplitter\n",
    "\n",
    "text = f10_k['item1']\n",
    "\n",
    "text_splitter = RecursiveCharacterTextSplitter(\n",
    "    chunk_size = 2000,\n",
    "    chunk_overlap  = 200,\n",
    "    length_function = len,\n",
    "    is_separator_regex = False,\n",
    ")\n",
    "docs = text_splitter.split_text(text)"
   ],
   "metadata": {
    "collapsed": false
   }
  },
  {
   "cell_type": "code",
   "execution_count": 6,
   "outputs": [
    {
     "name": "stdout",
     "output_type": "stream",
     "text": [
      "54\n"
     ]
    }
   ],
   "source": [
    "print(len(docs))"
   ],
   "metadata": {
    "collapsed": false
   }
  },
  {
   "cell_type": "code",
   "execution_count": 7,
   "outputs": [
    {
     "name": "stdout",
     "output_type": "stream",
     "text": [
      "The Company has evaluated its holdings and identified those investments most exposed to the negative impacts of an economic downturn as a result of COVID-19, including but not limited to investments in businesses facing an immediate and severe impact such as travel and lodging, leisure, non-emergency medical, energy, and others involving large gatherings of people. These investments are experiencing and may continue to experience higher credit losses, credit rating downgrades and/or defaults and the Company has examined in each case whether a reduction in size of the holding is appropriate. In addition, volatility in oil prices could have a continued adverse impact on issuers in the energy sector. While the Company has identified assets impacted or expected to be impacted by COVID-19 and its consequences, other investments not identified to date may also be impacted. The availability of new investments in certain private market asset classes, such as middle market loans, commercial mortgages and transitional real estate, has been and may continue to be limited. While interest rates have recovered recently from their lowest points, central bank rate increases are expected in the U.S. and other countries, potentially resulting in lower valuations of fixed income investments.  A prolonged period of low interest rates in other countries, particularly Japan, remains a risk that could result in new investments generating lower yields than in prior periods. The Company may need to adjust its investment strategy and/or be forced to liquidate investments to pay claims. COVID-19 has resulted in unprecedented disruption of markets and business activity globally, with continuing impact from new variants, and the Company is not able to predict the duration of such disruption or the ultimate impact of COVID-19 on the Company’s investments and hedging programs. See the risk factor below entitled, “The Company is exposed to significant interest rate risk, which may adversely\n"
     ]
    }
   ],
   "source": [
    "print(docs[4])"
   ],
   "metadata": {
    "collapsed": false
   }
  },
  {
   "cell_type": "code",
   "execution_count": 8,
   "outputs": [
    {
     "name": "stdout",
     "output_type": "stream",
     "text": [
      "the ultimate impact of COVID-19 on the Company’s investments and hedging programs. See the risk factor below entitled, “The Company is exposed to significant interest rate risk, which may adversely affect its results of operations, financial condition and liquidity” for more information. See the “Investments” and “Results of Operations by Segment” sections of Item 7, MD&A, for more information.\n"
     ]
    }
   ],
   "source": [
    "print(docs[5])"
   ],
   "metadata": {
    "collapsed": false
   }
  },
  {
   "cell_type": "markdown",
   "source": [
    "## Test Loading"
   ],
   "metadata": {
    "collapsed": false
   }
  },
  {
   "cell_type": "code",
   "execution_count": 9,
   "outputs": [],
   "source": [
    "from dotenv import load_dotenv\n",
    "import os\n",
    "\n",
    "load_dotenv('.env', override=True)\n",
    "NEO4J_URI = os.getenv('NEO4J_URI')\n",
    "NEO4J_USERNAME = os.getenv('NEO4J_USERNAME')\n",
    "NEO4J_PASSWORD = os.getenv('NEO4J_PASSWORD')\n",
    "AURA_DS = eval(os.getenv('AURA_DS').title())"
   ],
   "metadata": {
    "collapsed": false
   }
  },
  {
   "cell_type": "code",
   "execution_count": 10,
   "outputs": [],
   "source": [
    "from graphdatascience import GraphDataScience\n",
    "\n",
    "# Use Neo4j URI and credentials according to our setup\n",
    "gds = GraphDataScience(\n",
    "    NEO4J_URI,\n",
    "    auth=(NEO4J_USERNAME, NEO4J_PASSWORD),\n",
    "    aura_ds=AURA_DS)\n",
    "\n",
    "# Necessary if you enabled Arrow on the db - this is true for AuraDS\n",
    "gds.set_database(\"neo4j\")"
   ],
   "metadata": {
    "collapsed": false
   }
  },
  {
   "cell_type": "code",
   "execution_count": 11,
   "outputs": [],
   "source": [
    "from langchain.embeddings import OpenAIEmbeddings\n",
    "\n",
    "embedding_model = OpenAIEmbeddings()"
   ],
   "metadata": {
    "collapsed": false
   }
  },
  {
   "cell_type": "code",
   "execution_count": 12,
   "outputs": [],
   "source": [
    "import pandas as pd\n",
    "from graphdatascience import GraphDataScience\n",
    "from typing import Tuple, Union\n",
    "from numpy.typing import ArrayLike\n",
    "\n",
    "\n",
    "def make_map(x):\n",
    "    if type(x) == str:\n",
    "        return x, x\n",
    "    elif type(x) == tuple:\n",
    "        return x\n",
    "    else:\n",
    "        raise Exception(\"Entry must of type string or tuple\")\n",
    "\n",
    "\n",
    "def make_set_clause(prop_names: ArrayLike, element_name='n', item_name='rec'):\n",
    "    clause_list = []\n",
    "    for prop_name in prop_names:\n",
    "        clause_list.append(f'{element_name}.{prop_name} = {item_name}.{prop_name}')\n",
    "    return 'SET ' + ', '.join(clause_list)\n",
    "\n",
    "\n",
    "def make_node_merge_query(node_key_name: str, node_label: str, cols: ArrayLike):\n",
    "    template = f'''UNWIND $recs AS rec\\nMERGE(n:{node_label} {{{node_key_name}: rec.{node_key_name}}})'''\n",
    "    prop_names = [x for x in cols if x != node_key_name]\n",
    "    if len(prop_names) > 0:\n",
    "        template = template + '\\n' + make_set_clause(prop_names)\n",
    "    return template + '\\nRETURN count(n) AS nodeLoadedCount'\n",
    "\n",
    "\n",
    "def make_rel_merge_query(source_target_labels: Union[Tuple[str, str], str],\n",
    "                         source_node_key: Union[Tuple[str, str], str],\n",
    "                         target_node_key: Union[Tuple[str, str], str],\n",
    "                         rel_type: str,\n",
    "                         cols: ArrayLike,\n",
    "                         rel_key: str = None):\n",
    "    source_target_label_map = make_map(source_target_labels)\n",
    "    source_node_key_map = make_map(source_node_key)\n",
    "    target_node_key_map = make_map(target_node_key)\n",
    "\n",
    "    merge_statement = f'MERGE(s)-[r:{rel_type}]->(t)'\n",
    "    if rel_key is not None:\n",
    "        merge_statement = f'MERGE(s)-[r:{rel_type} {{{rel_key}: rec.{rel_key}}}]->(t)'\n",
    "\n",
    "    template = f'''\\tUNWIND $recs AS rec\n",
    "    MATCH(s:{source_target_label_map[0]} {{{source_node_key_map[0]}: rec.{source_node_key_map[1]}}})\n",
    "    MATCH(t:{source_target_label_map[1]} {{{target_node_key_map[0]}: rec.{target_node_key_map[1]}}})\\n\\t''' + merge_statement\n",
    "    prop_names = [x for x in cols if x not in [rel_key, source_node_key_map[1], target_node_key_map[1]]]\n",
    "    if len(prop_names) > 0:\n",
    "        template = template + '\\n\\t' + make_set_clause(prop_names, 'r')\n",
    "    return template + '\\n\\tRETURN count(r) AS relLoadedCount'\n",
    "\n",
    "\n",
    "def chunks(xs, n=100):\n",
    "    n = max(1, n)\n",
    "    return [xs[i:i + n] for i in range(0, len(xs), n)]\n",
    "\n",
    "\n",
    "def load_nodes(gds: GraphDataScience, node_df: pd.DataFrame, node_key_col: str, node_label: str, chunk_size=1000):\n",
    "    records = node_df.to_dict('records')\n",
    "    print(f'======  loading {node_label} nodes  ======')\n",
    "    total = len(records)\n",
    "    print(f'staging {total:,} records')\n",
    "    query = make_node_merge_query(node_key_col, node_label, node_df.columns.copy())\n",
    "    print(f'\\nUsing This Cypher Query:\\n```\\n{query}\\n```\\n')\n",
    "    cumulative_count = 0\n",
    "    for recs in chunks(records, chunk_size):\n",
    "        res = gds.run_cypher(query, params={'recs': recs})\n",
    "        cumulative_count += res.iloc[0, 0]\n",
    "        print(f'Loaded {cumulative_count:,} of {total:,} nodes')\n",
    "\n",
    "\n",
    "def load_rels(gds: GraphDataScience,\n",
    "              rel_df: pd.DataFrame,\n",
    "              source_target_labels: Union[Tuple[str, str], str],\n",
    "              source_node_key: Union[Tuple[str, str], str],\n",
    "              target_node_key: Union[Tuple[str, str], str],\n",
    "              rel_type: str,\n",
    "              rel_key: str = None,\n",
    "              chunk_size=10_000):\n",
    "    records = rel_df.to_dict('records')\n",
    "    print(f'======  loading {rel_type} relationships  ======')\n",
    "    total = len(records)\n",
    "    print(f'staging {total:,} records')\n",
    "    query = make_rel_merge_query(source_target_labels, source_node_key,\n",
    "                                 target_node_key, rel_type, rel_df.columns.copy(), rel_key)\n",
    "    print(f'\\nUsing This Cypher Query:\\n```\\n{query}\\n```\\n')\n",
    "    cumulative_count = 0\n",
    "    for recs in chunks(records, chunk_size):\n",
    "        res = gds.run_cypher(query, params={'recs': recs})\n",
    "        cumulative_count += res.iloc[0, 0]\n",
    "        print(f'Loaded {cumulative_count:,} of {total:,} relationships')"
   ],
   "metadata": {
    "collapsed": false
   }
  },
  {
   "cell_type": "code",
   "execution_count": 14,
   "outputs": [],
   "source": [
    "from pandas import DataFrame\n",
    "from typing import List\n",
    "\n",
    "\n",
    "def get_and_split_txt_data(file_names: List[str]) -> DataFrame:\n",
    "    doc_data_list = []\n",
    "    for file_name in file_names:\n",
    "        with open(file_name) as f:\n",
    "            f10_k = json.load(f)\n",
    "            for item in ['item1', 'item1a', 'item7', 'item7a']:\n",
    "                #split text data\n",
    "                txt = f10_k[item]\n",
    "                split_txts = text_splitter.split_text(txt)\n",
    "                chunk_seq_id = 0\n",
    "                for split_txt in split_txts:\n",
    "                    form_id = file_name[file_name.rindex('/') + 1:file_name.rindex('.')]\n",
    "                    doc_data_list.append({ 'documentId': f'{form_id}-{item}-chunk{chunk_seq_id:04d}',\n",
    "                                           'cik': f10_k['cik'],\n",
    "                                           'source': f10_k['source'],\n",
    "                                           'f10kItem': item,\n",
    "                                           'chunkSeqId': chunk_seq_id,\n",
    "                                           'text': split_txt})\n",
    "                    chunk_seq_id += 1\n",
    "    return pd.DataFrame(doc_data_list)\n",
    "\n",
    "def add_text_embeddings(df):\n",
    "    count = 0\n",
    "    embeddings = []\n",
    "    for docs in chunks(df.text, n=100):\n",
    "        count += len(docs)\n",
    "        print(f'Embedded {count} of {df.shape[0]}')\n",
    "        embeddings.extend(embedding_model.embed_documents(docs))\n",
    "    df['textEmbeddings'] = embeddings\n",
    "\n"
   ],
   "metadata": {
    "collapsed": false
   }
  },
  {
   "cell_type": "code",
   "execution_count": 15,
   "outputs": [
    {
     "name": "stdout",
     "output_type": "stream",
     "text": [
      "=== Processing 0:11 of 11 ===\n",
      "Loading and splitting Text Files...\n",
      "Performing Text Embedding...\n",
      "Embedded 100 of 1711\n",
      "Embedded 200 of 1711\n",
      "Embedded 300 of 1711\n",
      "Embedded 400 of 1711\n",
      "Embedded 500 of 1711\n",
      "Embedded 600 of 1711\n",
      "Embedded 700 of 1711\n",
      "Embedded 800 of 1711\n",
      "Embedded 900 of 1711\n",
      "Embedded 1000 of 1711\n",
      "Embedded 1100 of 1711\n",
      "Embedded 1200 of 1711\n",
      "Embedded 1300 of 1711\n",
      "Embedded 1400 of 1711\n",
      "Embedded 1500 of 1711\n",
      "Embedded 1600 of 1711\n",
      "Embedded 1700 of 1711\n",
      "Embedded 1711 of 1711\n",
      "Loading Nodes...\n",
      "======  loading Document nodes  ======\n",
      "staging 1,711 records\n",
      "\n",
      "Using This Cypher Query:\n",
      "```\n",
      "UNWIND $recs AS rec\n",
      "MERGE(n:Document {documentId: rec.documentId})\n",
      "SET n.cik = rec.cik, n.source = rec.source, n.f10kItem = rec.f10kItem, n.chunkSeqId = rec.chunkSeqId, n.text = rec.text, n.textEmbeddings = rec.textEmbeddings\n",
      "RETURN count(n) AS nodeLoadedCount\n",
      "```\n",
      "\n",
      "Loaded 1,000 of 1,711 nodes\n",
      "Loaded 1,711 of 1,711 nodes\n",
      "Done Processing 0:11\n",
      "CPU times: user 4.01 s, sys: 200 ms, total: 4.21 s\n",
      "Wall time: 26.5 s\n"
     ]
    }
   ],
   "source": [
    "%%time\n",
    "\n",
    "gds.run_cypher('CREATE CONSTRAINT unique_document IF NOT EXISTS FOR (n:Document) REQUIRE n.documentId IS UNIQUE')\n",
    "\n",
    "all_file_names = ['../data/form10k-clean/' + x for x in os.listdir('../data/form10k-clean/')]\n",
    "counter = 0\n",
    "for file_names in chunks(all_file_names, 20):\n",
    "    counter += len(file_names)\n",
    "    print(f'=== Processing {counter-len(file_names)}:{counter} of {len(all_file_names)} ===')\n",
    "    # get and split text data\n",
    "    print('Loading and splitting Text Files...')\n",
    "    doc_df = get_and_split_txt_data(file_names)\n",
    "    # perform text embedding\n",
    "    print('Performing Text Embedding...')\n",
    "    add_text_embeddings(doc_df)\n",
    "    #load nodes\n",
    "    print('Loading Nodes...')\n",
    "    load_nodes(gds, doc_df, 'documentId', 'Document')\n",
    "    print(f'Done Processing {counter-len(file_names)}:{counter}')\n"
   ],
   "metadata": {
    "collapsed": false
   }
  }
 ],
 "metadata": {
  "kernelspec": {
   "display_name": "Python 3",
   "language": "python",
   "name": "python3"
  },
  "language_info": {
   "codemirror_mode": {
    "name": "ipython",
    "version": 2
   },
   "file_extension": ".py",
   "mimetype": "text/x-python",
   "name": "python",
   "nbconvert_exporter": "python",
   "pygments_lexer": "ipython2",
   "version": "2.7.6"
  }
 },
 "nbformat": 4,
 "nbformat_minor": 0
}
