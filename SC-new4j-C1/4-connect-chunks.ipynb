{
 "cells": [
  {
   "cell_type": "markdown",
   "metadata": {
    "collapsed": false
   },
   "source": [
    "# Connect Form 10k Chunk Nodes\n",
    "\n",
    "The 10k Chunk Nodes are individual chunks of text from the 10k documents. \n",
    "\n",
    "In Cypher, each chunk looks like this:\n",
    "```cypher\n",
    "(:Chunk \n",
    "  chunkId: string\n",
    "  chunkSeqId: int\n",
    "  cik: int\n",
    "  cusip6: string\n",
    "  f10kItem: string\n",
    "  source: string\n",
    "  text: string\n",
    "  textEmbedding: [floats]\n",
    ")\n",
    "```\n",
    "\n",
    "You will now create a complete source context around the chunks:\n",
    "\n",
    "1. connect `(:Chunk)-[:NEXT]->(:Chunk)` for each chunk with same `source` and `f10kItem`\n",
    "  - the `source` is unique to each 10k document\n",
    "  - the `f10kItem` is the name of the form section (e.g. \"Item 1A. Risk Factors\")\n",
    "2. create a `(:Form)` for each `source`\n",
    "3. connect each `(:Chunk)-[:PART_OF]->(:Form)`\n",
    "4. connect each `(:Form)-[:SECTION]->(first:Chunk)` for the first chunk of each section"
   ]
  },
  {
   "cell_type": "markdown",
   "metadata": {},
   "source": [
    "## Imports"
   ]
  },
  {
   "cell_type": "code",
   "execution_count": 31,
   "metadata": {},
   "outputs": [],
   "source": [
    "from dotenv import load_dotenv\n",
    "import os\n",
    "\n",
    "# Common data processing\n",
    "import json\n",
    "from pandas import DataFrame\n",
    "import pandas as pd\n",
    "from typing import List, Tuple, Union\n",
    "from numpy.typing import ArrayLike\n",
    "from progress.bar import Bar\n",
    "\n",
    "# Langchain\n",
    "from langchain.graphs import Neo4jGraph\n",
    "from langchain_community.vectorstores import Neo4jVector\n",
    "from langchain.embeddings import OpenAIEmbeddings\n",
    "from langchain.text_splitter import RecursiveCharacterTextSplitter\n",
    "from langchain.chains import RetrievalQAWithSourcesChain\n",
    "from langchain_community.chat_models import ChatOpenAI"
   ]
  },
  {
   "cell_type": "markdown",
   "metadata": {
    "collapsed": false
   },
   "source": [
    "## Set up Neo4j"
   ]
  },
  {
   "cell_type": "code",
   "execution_count": 32,
   "metadata": {
    "collapsed": false
   },
   "outputs": [],
   "source": [
    "# Load from environment\n",
    "load_dotenv('.env', override=True)\n",
    "NEO4J_URI = os.getenv('NEO4J_URI')\n",
    "NEO4J_USERNAME = os.getenv('NEO4J_USERNAME')\n",
    "NEO4J_PASSWORD = os.getenv('NEO4J_PASSWORD')\n",
    "NEO4J_DATABASE = os.getenv('NEO4J_DATABASE') or 'neo4j'\n",
    "\n",
    "# Global constants\n",
    "VECTOR_INDEX_NAME = 'form_10k_chunks'\n",
    "VECTOR_NODE_LABEL = 'Chunk'\n",
    "VECTOR_SOURCE_PROPERTY = 'text'\n",
    "VECTOR_EMBEDDING_PROPERTY = 'textEmbedding'\n"
   ]
  },
  {
   "cell_type": "markdown",
   "metadata": {},
   "source": [
    "## Neo4j Utility Functions"
   ]
  },
  {
   "cell_type": "code",
   "execution_count": 43,
   "metadata": {},
   "outputs": [],
   "source": [
    "def neo4j_vector_search(kg: Neo4jGraph, embeddings_model: OpenAIEmbeddings,\n",
    "                        index_name: str, query: str, top_k: int = 10) -> List:\n",
    "  \"\"\"Search for similar nodes using the Neo4j vector index\"\"\"\n",
    "  embedded_query = embeddings_model.embed_query(query)\n",
    "  vector_search = f\"\"\"\n",
    "    CALL db.index.vector.queryNodes($index_name, $top_k, $embedding) yield node, score\n",
    "    RETURN node.text AS result\n",
    "  \"\"\"\n",
    "  similar = kg.query(vector_search, params={'embedding': embedded_query, 'index_name':index_name, 'top_k': top_k})\n",
    "  return similar"
   ]
  },
  {
   "cell_type": "markdown",
   "metadata": {},
   "source": [
    "## Prepare Neo4j indexes"
   ]
  },
  {
   "cell_type": "code",
   "execution_count": 61,
   "metadata": {},
   "outputs": [],
   "source": [
    "# Create a knowledge graph using Langchain's Neo4j integration.\n",
    "# This will be used for direct querying of the knowledge graph. \n",
    "kg = Neo4jGraph(\n",
    "    url=NEO4J_URI, username=NEO4J_USERNAME, password=NEO4J_PASSWORD, database=NEO4J_DATABASE\n",
    ")"
   ]
  },
  {
   "cell_type": "code",
   "execution_count": 62,
   "metadata": {},
   "outputs": [
    {
     "data": {
      "text/plain": [
       "[]"
      ]
     },
     "execution_count": 62,
     "metadata": {},
     "output_type": "execute_result"
    }
   ],
   "source": [
    "# Create a uniqueness constraint on the textId property of Text nodes \n",
    "kg.query('CREATE CONSTRAINT unique_form IF NOT EXISTS FOR (n:Form) REQUIRE n.formId IS UNIQUE')\n"
   ]
  },
  {
   "cell_type": "markdown",
   "metadata": {},
   "source": [
    "## Cypher Queries to tranform the Knowledge Graph"
   ]
  },
  {
   "cell_type": "code",
   "execution_count": 35,
   "metadata": {},
   "outputs": [
    {
     "data": {
      "text/plain": [
       "[{'source': 'https://www.sec.gov/Archives/edgar/data/1630113/000149315223022974/0001493152-23-022974-index.htm'},\n",
       " {'source': 'https://www.sec.gov/Archives/edgar/data/1696558/000121390023052460/0001213900-23-052460-index.htm'},\n",
       " {'source': 'https://www.sec.gov/Archives/edgar/data/1596993/000159699323000033/0001596993-23-000033-index.htm'},\n",
       " {'source': 'https://www.sec.gov/Archives/edgar/data/108385/000010838523000022/0000108385-23-000022-index.htm'},\n",
       " {'source': 'https://www.sec.gov/Archives/edgar/data/14693/000001469323000074/0000014693-23-000074-index.htm'},\n",
       " {'source': 'https://www.sec.gov/Archives/edgar/data/704562/000168316823004329/0001683168-23-004329-index.htm'},\n",
       " {'source': 'https://www.sec.gov/Archives/edgar/data/709283/000070928323000013/0000709283-23-000013-index.htm'},\n",
       " {'source': 'https://www.sec.gov/Archives/edgar/data/69733/000143774923016924/0001437749-23-016924-index.htm'},\n",
       " {'source': 'https://www.sec.gov/Archives/edgar/data/1000045/000095017023030037/0000950170-23-030037-index.htm'},\n",
       " {'source': 'https://www.sec.gov/Archives/edgar/data/1600438/000162828023023126/0001628280-23-023126-index.htm'}]"
      ]
     },
     "execution_count": 35,
     "metadata": {},
     "output_type": "execute_result"
    }
   ],
   "source": [
    "# Find all distinct sources for the text chunks in the knowledge graph...\n",
    "\n",
    "# MATCH a single node pattern \n",
    "# RETURN just the `source` property from each node\n",
    "cypher = \"\"\"\n",
    "  MATCH (all:Chunk) \n",
    "  RETURN DISTINCT all.source as source LIMIT 10\n",
    "\"\"\"\n",
    "\n",
    "kg.query(cypher)"
   ]
  },
  {
   "cell_type": "code",
   "execution_count": 64,
   "metadata": {},
   "outputs": [
    {
     "data": {
      "text/plain": [
       "[{'section_chunks': {'source': 'https://www.sec.gov/Archives/edgar/data/1630113/000149315223022974/0001493152-23-022974-index.htm',\n",
       "   'f10kItem': 'item1',\n",
       "   'chunkSeqId': 0}},\n",
       " {'section_chunks': {'source': 'https://www.sec.gov/Archives/edgar/data/1630113/000149315223022974/0001493152-23-022974-index.htm',\n",
       "   'f10kItem': 'item1',\n",
       "   'chunkSeqId': 1}},\n",
       " {'section_chunks': {'source': 'https://www.sec.gov/Archives/edgar/data/1630113/000149315223022974/0001493152-23-022974-index.htm',\n",
       "   'f10kItem': 'item1',\n",
       "   'chunkSeqId': 2}},\n",
       " {'section_chunks': {'source': 'https://www.sec.gov/Archives/edgar/data/1630113/000149315223022974/0001493152-23-022974-index.htm',\n",
       "   'f10kItem': 'item1',\n",
       "   'chunkSeqId': 3}},\n",
       " {'section_chunks': {'source': 'https://www.sec.gov/Archives/edgar/data/1630113/000149315223022974/0001493152-23-022974-index.htm',\n",
       "   'f10kItem': 'item1',\n",
       "   'chunkSeqId': 4}},\n",
       " {'section_chunks': {'source': 'https://www.sec.gov/Archives/edgar/data/1630113/000149315223022974/0001493152-23-022974-index.htm',\n",
       "   'f10kItem': 'item1',\n",
       "   'chunkSeqId': 5}},\n",
       " {'section_chunks': {'source': 'https://www.sec.gov/Archives/edgar/data/1630113/000149315223022974/0001493152-23-022974-index.htm',\n",
       "   'f10kItem': 'item1',\n",
       "   'chunkSeqId': 6}},\n",
       " {'section_chunks': {'source': 'https://www.sec.gov/Archives/edgar/data/1630113/000149315223022974/0001493152-23-022974-index.htm',\n",
       "   'f10kItem': 'item1',\n",
       "   'chunkSeqId': 7}},\n",
       " {'section_chunks': {'source': 'https://www.sec.gov/Archives/edgar/data/1630113/000149315223022974/0001493152-23-022974-index.htm',\n",
       "   'f10kItem': 'item1',\n",
       "   'chunkSeqId': 8}},\n",
       " {'section_chunks': {'source': 'https://www.sec.gov/Archives/edgar/data/1630113/000149315223022974/0001493152-23-022974-index.htm',\n",
       "   'f10kItem': 'item1',\n",
       "   'chunkSeqId': 9}},\n",
       " {'section_chunks': {'source': 'https://www.sec.gov/Archives/edgar/data/1630113/000149315223022974/0001493152-23-022974-index.htm',\n",
       "   'f10kItem': 'item1',\n",
       "   'chunkSeqId': 10}},\n",
       " {'section_chunks': {'source': 'https://www.sec.gov/Archives/edgar/data/1630113/000149315223022974/0001493152-23-022974-index.htm',\n",
       "   'f10kItem': 'item1',\n",
       "   'chunkSeqId': 11}},\n",
       " {'section_chunks': {'source': 'https://www.sec.gov/Archives/edgar/data/1630113/000149315223022974/0001493152-23-022974-index.htm',\n",
       "   'f10kItem': 'item1',\n",
       "   'chunkSeqId': 12}},\n",
       " {'section_chunks': {'source': 'https://www.sec.gov/Archives/edgar/data/1630113/000149315223022974/0001493152-23-022974-index.htm',\n",
       "   'f10kItem': 'item1',\n",
       "   'chunkSeqId': 13}},\n",
       " {'section_chunks': {'source': 'https://www.sec.gov/Archives/edgar/data/1630113/000149315223022974/0001493152-23-022974-index.htm',\n",
       "   'f10kItem': 'item1',\n",
       "   'chunkSeqId': 14}},\n",
       " {'section_chunks': {'source': 'https://www.sec.gov/Archives/edgar/data/1630113/000149315223022974/0001493152-23-022974-index.htm',\n",
       "   'f10kItem': 'item1',\n",
       "   'chunkSeqId': 15}},\n",
       " {'section_chunks': {'source': 'https://www.sec.gov/Archives/edgar/data/1630113/000149315223022974/0001493152-23-022974-index.htm',\n",
       "   'f10kItem': 'item1',\n",
       "   'chunkSeqId': 16}},\n",
       " {'section_chunks': {'source': 'https://www.sec.gov/Archives/edgar/data/1630113/000149315223022974/0001493152-23-022974-index.htm',\n",
       "   'f10kItem': 'item1',\n",
       "   'chunkSeqId': 17}},\n",
       " {'section_chunks': {'source': 'https://www.sec.gov/Archives/edgar/data/1630113/000149315223022974/0001493152-23-022974-index.htm',\n",
       "   'f10kItem': 'item1',\n",
       "   'chunkSeqId': 18}},\n",
       " {'section_chunks': {'source': 'https://www.sec.gov/Archives/edgar/data/1630113/000149315223022974/0001493152-23-022974-index.htm',\n",
       "   'f10kItem': 'item1',\n",
       "   'chunkSeqId': 19}},\n",
       " {'section_chunks': {'source': 'https://www.sec.gov/Archives/edgar/data/1630113/000149315223022974/0001493152-23-022974-index.htm',\n",
       "   'f10kItem': 'item1',\n",
       "   'chunkSeqId': 20}},\n",
       " {'section_chunks': {'source': 'https://www.sec.gov/Archives/edgar/data/1630113/000149315223022974/0001493152-23-022974-index.htm',\n",
       "   'f10kItem': 'item1',\n",
       "   'chunkSeqId': 21}},\n",
       " {'section_chunks': {'source': 'https://www.sec.gov/Archives/edgar/data/1630113/000149315223022974/0001493152-23-022974-index.htm',\n",
       "   'f10kItem': 'item1',\n",
       "   'chunkSeqId': 22}},\n",
       " {'section_chunks': {'source': 'https://www.sec.gov/Archives/edgar/data/1630113/000149315223022974/0001493152-23-022974-index.htm',\n",
       "   'f10kItem': 'item1',\n",
       "   'chunkSeqId': 23}},\n",
       " {'section_chunks': {'source': 'https://www.sec.gov/Archives/edgar/data/1630113/000149315223022974/0001493152-23-022974-index.htm',\n",
       "   'f10kItem': 'item1',\n",
       "   'chunkSeqId': 24}},\n",
       " {'section_chunks': {'source': 'https://www.sec.gov/Archives/edgar/data/1630113/000149315223022974/0001493152-23-022974-index.htm',\n",
       "   'f10kItem': 'item1',\n",
       "   'chunkSeqId': 25}},\n",
       " {'section_chunks': {'source': 'https://www.sec.gov/Archives/edgar/data/1630113/000149315223022974/0001493152-23-022974-index.htm',\n",
       "   'f10kItem': 'item1',\n",
       "   'chunkSeqId': 26}},\n",
       " {'section_chunks': {'source': 'https://www.sec.gov/Archives/edgar/data/1630113/000149315223022974/0001493152-23-022974-index.htm',\n",
       "   'f10kItem': 'item1',\n",
       "   'chunkSeqId': 27}},\n",
       " {'section_chunks': {'source': 'https://www.sec.gov/Archives/edgar/data/1630113/000149315223022974/0001493152-23-022974-index.htm',\n",
       "   'f10kItem': 'item1',\n",
       "   'chunkSeqId': 28}},\n",
       " {'section_chunks': {'source': 'https://www.sec.gov/Archives/edgar/data/1630113/000149315223022974/0001493152-23-022974-index.htm',\n",
       "   'f10kItem': 'item1',\n",
       "   'chunkSeqId': 29}},\n",
       " {'section_chunks': {'source': 'https://www.sec.gov/Archives/edgar/data/1630113/000149315223022974/0001493152-23-022974-index.htm',\n",
       "   'f10kItem': 'item1',\n",
       "   'chunkSeqId': 30}},\n",
       " {'section_chunks': {'source': 'https://www.sec.gov/Archives/edgar/data/1630113/000149315223022974/0001493152-23-022974-index.htm',\n",
       "   'f10kItem': 'item1',\n",
       "   'chunkSeqId': 31}},\n",
       " {'section_chunks': {'source': 'https://www.sec.gov/Archives/edgar/data/1630113/000149315223022974/0001493152-23-022974-index.htm',\n",
       "   'f10kItem': 'item1',\n",
       "   'chunkSeqId': 32}},\n",
       " {'section_chunks': {'source': 'https://www.sec.gov/Archives/edgar/data/1630113/000149315223022974/0001493152-23-022974-index.htm',\n",
       "   'f10kItem': 'item1',\n",
       "   'chunkSeqId': 33}},\n",
       " {'section_chunks': {'source': 'https://www.sec.gov/Archives/edgar/data/1630113/000149315223022974/0001493152-23-022974-index.htm',\n",
       "   'f10kItem': 'item1',\n",
       "   'chunkSeqId': 34}},\n",
       " {'section_chunks': {'source': 'https://www.sec.gov/Archives/edgar/data/1630113/000149315223022974/0001493152-23-022974-index.htm',\n",
       "   'f10kItem': 'item1',\n",
       "   'chunkSeqId': 35}},\n",
       " {'section_chunks': {'source': 'https://www.sec.gov/Archives/edgar/data/1630113/000149315223022974/0001493152-23-022974-index.htm',\n",
       "   'f10kItem': 'item1',\n",
       "   'chunkSeqId': 36}},\n",
       " {'section_chunks': {'source': 'https://www.sec.gov/Archives/edgar/data/1630113/000149315223022974/0001493152-23-022974-index.htm',\n",
       "   'f10kItem': 'item1',\n",
       "   'chunkSeqId': 37}},\n",
       " {'section_chunks': {'source': 'https://www.sec.gov/Archives/edgar/data/1630113/000149315223022974/0001493152-23-022974-index.htm',\n",
       "   'f10kItem': 'item1',\n",
       "   'chunkSeqId': 38}},\n",
       " {'section_chunks': {'source': 'https://www.sec.gov/Archives/edgar/data/1630113/000149315223022974/0001493152-23-022974-index.htm',\n",
       "   'f10kItem': 'item1',\n",
       "   'chunkSeqId': 39}},\n",
       " {'section_chunks': {'source': 'https://www.sec.gov/Archives/edgar/data/1630113/000149315223022974/0001493152-23-022974-index.htm',\n",
       "   'f10kItem': 'item1',\n",
       "   'chunkSeqId': 40}},\n",
       " {'section_chunks': {'source': 'https://www.sec.gov/Archives/edgar/data/1630113/000149315223022974/0001493152-23-022974-index.htm',\n",
       "   'f10kItem': 'item1',\n",
       "   'chunkSeqId': 41}},\n",
       " {'section_chunks': {'source': 'https://www.sec.gov/Archives/edgar/data/1630113/000149315223022974/0001493152-23-022974-index.htm',\n",
       "   'f10kItem': 'item1',\n",
       "   'chunkSeqId': 42}},\n",
       " {'section_chunks': {'source': 'https://www.sec.gov/Archives/edgar/data/1630113/000149315223022974/0001493152-23-022974-index.htm',\n",
       "   'f10kItem': 'item1',\n",
       "   'chunkSeqId': 43}}]"
      ]
     },
     "execution_count": 64,
     "metadata": {},
     "output_type": "execute_result"
    }
   ],
   "source": [
    "# Gather all the chunks from a single source section...\n",
    "\n",
    "# MATCH the same single node pattern \n",
    "# RETURN only the first source\n",
    "# WITH that source, CALL a subquery\n",
    "# within the subquery, MATCH a new single node pattern\n",
    "# WHERE the chunks have the same `source` property \n",
    "# and are part of the same section named by the `f10kItem` property\n",
    "# RETURN those chunks, ordered by their `chunkSeqId` property\n",
    "cypher = \"\"\"\n",
    "  MATCH (all:Chunk) \n",
    "  WITH DISTINCT all.source as source LIMIT 1\n",
    "  CALL {\n",
    "      WITH source\n",
    "      MATCH (same_section:Chunk)\n",
    "      WHERE same_section.source = source\n",
    "        AND same_section.f10kItem = \"item1\"\n",
    "      RETURN same_section { .f10kItem, .chunkSeqId, .source} AS section_chunks\n",
    "      ORDER BY same_section.chunkSeqId ASC\n",
    "  }\n",
    "  RETURN section_chunks\n",
    "\"\"\"\n",
    "\n",
    "kg.query(cypher)"
   ]
  },
  {
   "cell_type": "code",
   "execution_count": 68,
   "metadata": {},
   "outputs": [
    {
     "data": {
      "text/plain": [
       "[{'section': '>ITEM 1. BUSINESS\\n\\n\\n\\xa0\\n\\n\\nSummary\\n\\n\\n\\xa0\\n\\n\\nBiotricity Inc. (the\\n“Company”, “Biotricity”, “we”, “us”, “our”) is a leading-edge medical\\ntechnology company focused on biometric data monitoring and diagnostic solutions. We deliver innovative, remote monitoring solutions\\nto the medical, healthcare, and consumer markets, with a focus on diagnostic and post-diagnostic solutions for lifestyle and chronic\\nillnesses. We approach the diagnostic side of remote patient monitoring by applying innovation within existing business models where\\nreimbursement is established. We believe this approach reduces the risk associated with traditional medical device development and\\naccelerates the path to revenue. In post-diagnostic markets, we intend to apply medical grade biometrics to enable consumers to\\nself-manage, thereby driving patient compliance and reducing healthcare costs. Our initial focus was on the diagnostic mobile\\ncardiac outpatient monitoring (COM) market. Since then, we have expanded our ecosystem of\\ncardiac technologies to include all accepted forms of cardiac diagnostic studies.We developed and received\\nFDA clearance on our Bioflux® (“Bioflux”) technology, comprised of a monitoring device and software components,\\nwhich we made available to the market under limited release on April 6, 2018, in order to establish and develop sales processes and\\nassess market dynamics. The fiscal year ended March 30, 2020 marked the Company’s first year of expanded commercialization\\nefforts, focused on sales growth and expansion. In 2021, the Company announced the initial launch of Bioheart, a direct-to-consumer\\nheart monitor that offers the same continuous heart monitoring technology used by physicians. In addition to developing and\\nreceiving regulatory approval or clearance of other technologies that enhance its ecosystem, in 2022, the Company announced the\\nlaunch of its Biotres Cardiac Monitoring Device (“Biotres”), a three-lead device for ECG and arrhythmia monitoring\\nintended for lower risk patients, a much broader addressable market segment. We have since expanded our sales efforts to 31 states,\\nwith intention to expand further and compete in the broader US market using an insourcing business model. Our technology has a large\\npotential total addressable market, which includes hospitals, clinics and physicians’ offices, as well as other Independent\\nDiagnostic Testing Facilities (“IDTFs)”. We believe our solution’s insourcing model, which empowers physicians\\nwith state-of-the-art technology and charges technology service fees for its use, has the benefit of a reduced operating overhead\\nfor the Company, and enabling a more efficient market penetration and distribution strategy. The Company offers an established\\necosystem of state-of-the-art technologies intended to monitor and diagnose cardiac arrhythmias and support cardiac disease\\nmanagement; its technology provides enhanced patient outcomes, with improved patient compliance, and a corresponding reduction of\\nhealthcare costs.Our principal executive office\\nis located at 203 Redwood Shores Pkwy Suite 600, Redwood City, California, and our telephone number is (800) 590-4155. Our website address\\nis www.biotricity.com. The information on our website is not part of this Annual Report on Form 10-K.\\n\\n\\n\\xa0\\n\\n\\nHistory\\n\\n\\n\\xa0\\n\\n\\nOur company was incorporated on\\nAugust 29, 2012 in the State of Nevada.\\n\\n\\n\\xa0\\n\\n\\niMedical Innovations Inc.\\n(“iMedical”) was incorporated on July 3, 2014 under the Canada Business Corporations Act. On February 2, 2016, we\\ncompleted the acquisition of iMedical and moved the operations of iMedical into Biotricity Inc. through a reverse take-over (the\\n“Acquisition Transaction”).\\n\\n\\n\\xa0\\n\\n\\nDescription of Business\\n\\n\\n\\xa0\\n\\n\\nCompany Overview\\n\\n\\n\\xa0\\n\\n\\nBiotricity Inc.\\n (“Company”, “Biotricity”,\\n“we”, “us” or “our”)\\n\\n\\n\\xa0\\n\\n\\nBiotricity Inc. (the “Company”,\\n“Biotricity”, “we”, “us”, “our”) is a medical technology company focused on\\nbiometric data monitoring and diagnostic solutions. Our aim is to deliver remote monitoring solutions to the medical, healthcare,\\nand consumer markets, with a focus on diagnostic and post-diagnostic solutions for lifestyle and chronic illnesses. We approach the\\ndiagnostic side of remote patient monitoring by applying innovation within existing business models where reimbursement is\\nestablished. To do this, we do the heavy lifting involved with developing proprietary technology that meets the regulatory standards\\nof the U.S. Food and Drug Administration (“FDA”), to allow medical professionals to utilize our technology and gain\\nreimbursement for their services through Medicare, Medicaid and private health insurers. In post-diagnostic markets, we apply\\nmedical grade biometrics to enable physicians to manage their patients and consumers to self-manage.\\n\\n\\n\\xa0\\xa0\\n\\n\\n\\n\\n33\\n\\n\\n\\xa0\\n\\n\\n\\n\\n\\xa0\\n\\n\\nWe build and deploy our technology in a\\ntechnology-as-a-service model, focused on earning utilization-based recurring technology fee revenue.\\nThe Company’s ability to grow this type of revenue is predicated on the size and quality of its sales force and their ability\\nto penetrate the market and place devices with clinically focused, repeat users of its cardiac technology. The Company plans\\nto grow its sales force to address new markets and achieve sales penetration in the markets currently served.\\n\\n\\n\\xa0\\n\\n\\nHistory and Recent Highlights\\n\\n\\n\\xa0\\n\\n\\nWe developed our FDA-cleared Bioflux®\\n(“Bioflux”) technology, comprised of a monitoring device and software components, which we made available to the market\\nunder limited release on April 6, 2018, to assess, establish and develop sales processes and market dynamics. Full market release of\\nthe Bioflux device for commercialization occurred in April 2019. To\\ncommence commercialization, we ordered device inventory from our FDA-approved manufacturer and hired a small, captive sales force,\\nwith deep experience in cardiac technology sales; we expanded on our limited market release, which identified potential anchor\\nclients who could be early adopters of our technology. By increasing our sales force and geographic footprint, we have grown continuously since launching have had sales in 31 U.S. states by December 31, 2022.\\n\\n\\n\\xa0\\n\\n\\nFollowing Bioflux, the Company developed several breakthrough\\ntechnologies in 2021, including:\\n\\n\\n\\xa0\\n\\n\\n\\n\\n\\n\\n\\xa0\\n\\n\\n●\\n\\n\\nBiotres, a unique ECG Holter solution that addresses the limitations of existing solutions in the Holter market, with built-in connectivity, ability to recharge, and 3 channels (instead of 1). \\n\\n\\n\\n\\n\\xa0\\n\\n\\n●\\n\\n\\nBioheart, a unique personal cardiac monitoring solution for consumers that addresses the limitations of existing solutions, designed with built-in connectivity, ability to recharge, and 3 channels\\n\\n\\n\\n\\n\\xa0\\n\\n\\n●●\\n\\n\\nBiocare, a unique cardiac disease management platform for chronic care management (CCM) and remote patient monitoring (RPM) to help physicians holistically manage their patients\\n\\n\\n\\n\\n\\xa0\\n\\n\\nOn January 24, 2022 the Company announced that\\nit has received the 510(k) FDA clearance of its Biotres patch solution, which is a novel product in the field of Holter monitoring.\\nThis three-lead technology can provide connected Holter monitoring that is designed to produce more accurate arrythmia detection\\nthan is typical of competing one-lead holter patch solutions. It is also a platform technology, with other developments and features\\nthat are currently unavailable in the marketplace with other clinical and consumer patch solutions.\\n\\n\\n\\xa0\\n\\n\\nThe Company has also developed or is developing several\\nother ancillary technologies, which will require application for further FDA clearances, which the Company anticipates applying for within\\nthe next twelve to eighteen months. Among these are:\\n\\n\\n\\xa0\\n\\n\\n\\n\\n\\n\\n\\xa0\\n\\n\\n●\\n\\n\\nadvanced\\n    ECG analysis software that can analyze and synthesize patient ECG monitoring data to identify the most important information for clinical intervention, while reducing the amount\\n    of human intervention necessary in the process;\\n\\n\\n\\n\\n\\xa0\\n\\n\\n\\xa0\\n\\n\\n\\xa0\\n\\n\\n\\n\\n\\xa0\\n\\n\\n●\\n\\n\\nthe Bioflux® 2.0, which is the next generation of our award winning Bioflux®\\n\\n\\n\\n\\n\\xa0\\n\\n\\nDuring 2021 and the early part of 2022, the Company also commercially launched its Bioheart technology, which is\\na cutting-edge consumer technology whose development was based on the Company’s clinical technologies and leverages its clinical\\necosystem, the Biosphere. In recognition of this market advancement and how innovative the product is, in November 2022, Bioheart received\\nrecognition as one of Time Magazine’s Best Inventions of 2022.\\n\\n\\n\\xa0\\n\\n\\n\\n\\n44\\n\\n\\n\\xa0\\n\\n\\n\\n\\n\\xa0\\n\\n\\nIn October 2022, the Company launched its Biocare\\nCardiac Disease Management Solution, after successfully piloting this technology in two facilities that provide cardiac care to over\\n60,000 patients. This technology and other consumer technologies and applications such as the Biokit and Biocare have been developed\\nto allow the Company to use its strong cardiac footprint to expand into remote chronic care management solutions that are complementary\\nand additive to its existing solutions. The technology puts actionable data into the hands of physicians to assist them in better managing\\ntheir patients and making effective treatment decisions quickly.\\n\\n\\n\\xa0\\n\\n\\nAdditionally, in September 2022, the\\nCompany was awarded a NIH Grant from the National Heart, Blood, and Lung Institute for AI-Enabled real-time monitoring, and\\npredictive analytics for stroke due to chronic kidney failure. This is a significant achievement that broadens our technology\\nplatform’s disease space demographic. The grant is focused on the expansion of Bioflux-AI for monitoring and prediction of stroke episodes in chronic kidney disease patients. The Company received $238,703\\nunder this award in March 2023, used to defray research, development and other associated costs.During the twelve months ended March 31, 2023, the\\nCompany continued to develop a telemedicine platform, with capabilities of real-time streaming of medical devices. The COVID-19 pandemic\\nhas highlighted the importance of telemedicine and remote patient monitoring technologies. Telemedicine offers patients the ability to\\ncommunicate directly with their health care providers without the need to leave their home. The introduction of a telemedicine solution\\nis intended to align with the Company’s Bioflux product and facilitate remote visits and remote prescriptions for cardiac diagnostics.\\nIt will also serve as a means of establishing referral and other synergies across the network of doctors and patients that use the technologies\\nwe are building within the Biotricity ecosystem. The intention is to continue to provide improved care to patients that may otherwise\\nelect not to go to medical facilities while providing economic benefits and costs savings to healthcare service providers and payers.\\nThe Company’s goal is to position itself as an all-in-one cardiac diagnostic and disease management solution. The Company continues\\nto grow its data set of billions of patient heartbeats, allowing it to further develop its predictive capabilities relative to cardiac\\nconditions.\\n\\n\\n\\xa0\\n\\n\\nThe Company identified the importance of recent developments in accelerating its path to profitability, including\\nthe launch of important new products identified, which have a ready market through cross-selling to existing large customer clinics, and\\nlarge new distribution partnerships that allow the Company to sell into hospital networks.\\n\\n\\n\\xa0\\n\\n\\nMarket OverviewMarket Overview\\n\\n\\n\\xa0\\n\\n\\nChronic\\ndiseases are the number one burden on the healthcare system, driving up costs year over year. Lifestyle related illnesses such as obesity\\nand hypertension are the top contributing factors of chronic conditions including diabetes and heart disease. Government and healthcare\\norganizations are focused on driving costs down by shifting to evidence-based healthcare where individuals, especially those suffering\\nfrom chronic illnesses, engage in self-management. This has led to growth in the connected health market, which is projected to reach\\n$150 billion by 2024 at a compound annual growth rate (CAGR) of 25%\\n1\\n. Remote patient monitoring (RPM), one of the key areas\\nof focus for self-management and evidence-based practice, is projected to reach $96.67 billion by 2030 at a CAGR of 17.6%\\n2\\n.\\nToday, 20% of large healthcare facilities in the US are already using remote monitoring with a projected 30 million US patients utilizing\\nremote monitoring by 2024\\n3\\n.\\n\\n\\n\\xa0\\n\\n\\nThe number\\none cost to the healthcare system is cardiovascular disease, estimated to be responsible for 1 in every 6 healthcare dollars spent in\\nthe US\\n4\\n. Since cardiovascular disease is the number one cause of death worldwide, early detection, diagnosis, and management\\nof chronic cardiac conditions are necessary to relieve the increasing burden on the healthcare infrastructure. Diagnostic tests such as\\nECGs are used to detect, diagnose and track certain types of cardiovascular conditions. We believe that the rise of lifestyle related\\nillnesses associated with heart disease has created a need to develop cost-effective diagnostic solutions to fill a hole in the current\\nECG market. These solutions will not only deliver faster and earlier diagnoses but also build the foundation for disease management,\\nsupporting the transition from diagnosis to disease management.The\\nglobal ECG market is growing at a CAGR of 8.3%\\n5\\n. The factors driving this market include an aging population, an increase\\nin chronic diseases related to lifestyle choices, improved technology in diagnostic ECG devices, and high growth rates of ECG device\\nsales. As of 2022, the United States accounted for approximately 25% of the global ECG market and is comprised of three major segments:\\nresting (non-stress) ECG systems, stress ECG systems, and holter monitoring systems.\\n\\n\\n\\xa0\\n\\n\\nIn the US, COM tests are primarily\\nconducted through outsourced IDTFs that are reimbursed at an estimated average rate of approximately\\n$850 per diagnostic test, based on pricing information provided by the Centers for Medicare & Medicaid Services, a part of the U.S.\\nDepartment of Health and Human Services, and weighted towards the largest markets of New York, California, Texas and Florida. Reimbursement\\nrates can be lower in smaller markets, although the national average is $801. Further, we believe private insurers provide for similar\\nor better reimbursement rates.\\n\\n\\n\\xa0\\n\\n\\n\\n\\n\\xa0\\n\\n\\n\\n\\n1\\n\\nhttps://market.us/report/connected-healthcare-market/\\n\\n\\n2\\n\\nhttps://www.researchandmarkets.com/reports/5264375/global-remote-patient-monitoring-market-by\\n\\n\\n3\\n\\nhttps://blog.prevounce.com/27-remote-patient-monitoring-statistics-every-practice-should-know\\n\\n\\n4\\n\\nhttps://www.alliedmarketresearch.com/electrocardiograph-ECG-market\\n\\n\\n5\\nhttps://www.alliedmarketresearch.com/electrocardiograph-ECG-market\\n\\n\\n\\xa0\\n\\n\\n\\n\\n54\\n\\nhttps://www.alliedmarketresearch.com/electrocardiograph-ECG-market\\n\\n\\n5\\nhttps://www.alliedmarketresearch.com/electrocardiograph-ECG-market\\n\\n\\n\\xa0\\n\\n\\n\\n\\n5\\n\\n\\n\\xa0\\n\\n\\n\\n\\n\\xa0\\n\\n\\nOur initial device offerings\\nintended to revolutionize the COM and Holter markets by providing convenient, cost-effective, integrated solutions, inclusive of\\nboth software and hardware for physician providers and their patients. Biotricity, however, has a broader strategic vision to offer\\nan ecosystem of technologies that engage the patient-user and their medical practitioner(s) in sustained monitoring, diagnosis,\\ncommunication and pro-active treatment and management of chronic care conditions. Our core solution is designed as a\\nplatform to encompass multiple segments of the remote monitoring market, and its future growth.\\n\\n\\n\\xa0\\n\\n\\nMarket Opportunity\\n\\n\\n\\xa0\\n\\n\\nCardiac Diagnostics\\n\\n\\n\\xa0\\n\\n\\nECGs\\nare a key diagnostic test utilized in the diagnosis of cardiovascular disease, the number one cause of death worldwide. The global ECG\\nmarket is growing at a CAGR of 8.3%\\n6\\n, and, assuming the U.S. continues to hold approximately 25% of the global market (based\\non 2022 statistics), approximately $1.8 billion would be attributed to the US ECG market1,2. In the US in 2016, statistics show that\\nthere were 121.5 million adults living with cardiovascular disease, whereas 28.2 million adults had been diagnosed with the disease.\\nThe increasing market size is attributed to an aging population and an influx in chronic diseases related to lifestyle choices.\\n\\n\\n\\xa0\\n\\n\\nThe US ECG market is divided into\\nthree major product segments:\\n\\n\\n\\xa0\\n\\n\\n\\n\\n\\n\\n\\xa0\\n\\n\\n1.\\n\\n\\nEvent monitoring systems;\\n\\n\\n\\n\\n\\xa0\\n\\n\\n\\xa0\\n\\n\\n\\xa0\\n\\n\\n\\n\\n\\xa0\\n\\n\\n2.\\n\\n\\nStress ECG systems; and\\n\\n\\n\\n\\n\\xa0\\n\\n\\n\\xa0\\n\\n\\n\\xa0\\n\\n\\n\\n\\n\\xa0\\n\\n\\n3.\\n\\n\\nResting (non-stress) ECG systems.1.\\n\\n\\nEvent monitoring systems;\\n\\n\\n\\n\\n\\xa0\\n\\n\\n\\xa0\\n\\n\\n\\xa0\\n\\n\\n\\n\\n\\xa0\\n\\n\\n2.\\n\\n\\nStress ECG systems; and\\n\\n\\n\\n\\n\\xa0\\n\\n\\n\\xa0\\n\\n\\n\\xa0\\n\\n\\n\\n\\n\\xa0\\n\\n\\n3.\\n\\n\\nResting (non-stress) ECG systems.\\n\\n\\n\\n\\n\\xa0\\n\\n\\nEvent monitoring systems are projected\\nto grow the fastest due to a shift from in-hospital/clinic monitoring to outpatient monitoring. This shift is expected to help reduce\\nhealth care costs by limiting the number of overnight hospital stays for patient monitoring. We believe that physicians prefer event monitoring\\nsystems over resting and stress ECG systems because they provide better insight to the patient’s condition for diagnostic purposes.\\n\\n\\n\\xa0\\n\\n\\nThe event monitoring market is\\ndivided into the Holter/Extended Holter, Event Loop and Mobile Cardiac Outpatient Monitoring (COM) product segments, of which Holter, and its variant\\nExtended Holter, and Event Loop are the current market leaders. Among event monitoring systems, we believe that the preferred choice of\\nphysicians and cardiologists is COM, because of its ability to continuously analyze patient data and transmit, thereby speeding up diagnoses. COM devices have built-in arrhythmia analysis and\\nregular communication , which allow physicians\\nto prescribe the device for a longer period of time; thereby enabling prolonged data collection and delivering a more complete picture\\nfor diagnosis.Typical Holter/Extended Holter and Event Loop solutions lack the ability to alert the patient or provider in case\\nof an anomaly. Holters are typically used as a short-term solution, up to 3 days, whereas Event Loop is used for up to 30 days. Extended\\nHolter, the long-term variant of Holter can be used for up to 21 days. It is the most recent of the cardiac monitoring options and was\\ncreated for longer term holter recordings. Since Event Loop is also long term, reimbursement for Extended Holter and Event Loop are converging.\\nReimbursement for these is much lower compared to COM due to the nature of the solution, recording vs monitoring. With Holter and Event\\nLoop monitoring, ECG data is not uploaded or transmitted regularly. Comparatively, if the patient were monitored through a COM device\\nwith regular ECG data transfer and cellular connectivity, then in the event of cardiac anomalies, the monitoring center could send communication\\nto the patient’s physician.\\n\\n\\n\\xa0\\n\\n\\n\\n\\n\\xa0\\n\\n\\n\\n\\n6\\n\\nhttps://www.alliedmarketresearch.com/electrocardiograph-ECG-market\\n\\n\\n\\xa0\\n\\n\\n\\n\\n6\\n\\n\\n\\xa0\\n\\n\\n\\n\\n\\xa0\\n\\n\\nSince COM requires an FDA-cleared\\ndevice (meaning for our purposes that it can be used to review medical ECG data from ECG devices), FDA-cleared ECG reporting software,\\nand remote monitoring capabilities, regulatory and development hurdles have resulted in relatively few companies being able to successfully\\ndevelop an all-encompassing solution. We believe that there are currently only 5 COM solutions within the market. Some of these solutions\\nare sold to the market through solutions providers that have not developed and do not manufacture their own device.Of the COM systems currently available\\nin the market, most are IDTFs who employ an outsourcing business model, focused on providing clinical services for which they\\ncan earn reimbursement; this means that they would typically not sell their devices to physicians, but offer their clinical services.\\nSome COM providers choose to sell their solution by charging high prices for devices and upfront software costs, as well as a per cardiac\\nstudy monitoring fee. Among these are solutions that are not scalable; some lack monitoring software, requiring a customer to acquire\\nthird party software and incur integration expenses. These would require an investment by the physician, to incur upfront costs that would\\ntake time to recoup before profits are realized.\\n\\n\\n\\xa0\\n\\n\\nThe limited number of competitors\\nmakes this an attractive market for new entrants. However, entry into the market requires a hardware device coupled with complex algorithms,\\nECG software and access to a monitoring center. Two of the five COM players have done so by building their own monitoring infrastructure,\\ndeveloping their own ECG software and utilizing TZ Medical’s COM device. However, this is capital intensive and we believe cost\\nprohibitive for most hospitals and clinics. These barriers are in our opinion among the key reasons as to why Holter and Event Loop have\\nmaintained a significant portion of the US event monitoring market despite the increase in patient safety and improved outcomes with COM.The Bioflux solution and\\nbusiness model attempts to address these complications with its complete, turn-key solution for providers to deliver cardiac diagnostics directly. Technologically, the Bioflux solution is superior as a one-piece\\nsolution as opposed to a two-piece and collects 3 channels of ECG compared with 2, resulting in better data and higher quality diagnoses.\\nCombined with our insourced business model, providers can deliver better and faster care while also billing. This combination has lead\\nto our continued growth and high customer retention rates.\\n\\n\\n\\xa0\\n\\n\\n\\n\\n7\\n\\n\\n\\xa0\\n\\n\\n\\n\\n\\xa0\\n\\n\\nChronic\\nCare and Remote Patient Monitoring\\n\\n\\n\\xa0\\n\\n\\n\\n\\n\\n\\nChronic\\ndiseases are the number one healthcare expense and are continuing to grow as the population ages. Lifestyle related illnesses such as\\nobesity, hypertension, cardiovascular diseases, and diabetes are the top contributing factors of chronic conditions. Government and healthcare\\norganizations are focused on driving costs down by shifting to holistic management where individuals, especially those suffering from\\nchronic illnesses, are supported outside of the clinic. This has led to growth in chronic care management market, which is projected\\nto reach $8.7 billion in the US by 2027 at a compound annual growth rate (CAGR) of 18%\\n7\\n.\\n\\n\\n\\xa0\\n\\n\\nRemote\\n    patient monitoring (RPM), one of the key areas of focus for disease-management and evidence-based practice, is projected to reach\\n    $96.67 billion by 2030 at a CAGR of 17.6%\\n8\\n. Today, 20% of large healthcare facilities in the US are already using remote\\n    monitoring with a projected 30 million US patients utilizing remote monitoring by 2024\\n9\\n.Similar\\n    to chronic care and RPM, lifestyle management is seeing increasing growth where stable patients are becoming more and more engaged\\n    in lifestyle management. The global wearable lifestyle market has already reached $61.3 billion with an expected CAGR of 14.6%\\n10\\n.\\n    The US portion of the wearable lifestyle market is $15.3 billion.\\n\\n\\n\\xa0\\n\\n\\nThe\\n    primary driver of each of these markets are individuals diagnosed with or at risk-for chronic conditions. Cardiac diseases are the\\n    number one expense and the number one killer, making up the bulk of the individuals utilizing such solutions. Despite this, existing\\n    solutions are not tailored for cardiac patients but for diabetes, obesity, and hypertension as these conditions are supported by\\n    medical or personal devices that can track biometrics that support management. Up until now, there has been no solution available\\n    to support cardiac patients as technology was limited to manual short term heart rhythm collection or heart rate monitors.\\n\\n\\n\\xa0\\n\\n\\nBiotricity\\n    changed this with the creation of Bioheart and Biocare, which delivers the first cardiac tailored solution for disease management.\\n    The engine of this solution is the Bioheart, the first-of-its-kind continuous heart rhythm monitor that autonomously and continuously\\n    collect heart rhythm data with no limitation on duration, a necessity for cardiac issues. Just as diabetic patients have continuous\\n    glucose monitoring, individuals with cardiac issues now have continuous heart monitoring.Combining\\n    our technological innovation with our business model delivers a solution that is not only industry leading technologically and clinically,\\n    but one that also supports providers to deliver better care while creating a new revenue stream. We believe this leap in innovation\\n    will help us compete with the more generic solutions as well as those limited by shorter duration data collection. The leap in innovation\\n    created by Bioheart was also recognized by Time Magazine, where they named Bioheart one of the Best Inventions of the World in 2022.\\n\\n\\n\\n\\n\\n\\n\\xa0\\n\\n\\nMarket Strategy\\n\\n\\n\\xa0\\n\\n\\nCardiac Diagnostics\\n\\n\\n\\xa0\\n\\n\\nOur\\ncardiac diagnostics strategy is focused on the target addressable market of approximately 23,018 physician offices\\n11\\n (approximately\\n10% of all physician offices in the U.S.), 612 hospitals\\n12\\n (approximately 10% of all hospitals in the U.S.), and 300 IDTFs\\n(an estimated 10% of all IDTFs in the U.S.). To do this, we invested in the hiring of top caliber sales professionals with a proven track\\nrecord in cardiac technology and device sales, and strong business relationships with providers of cardiac medical services. To further\\nexpand our market reach, we have partnered with leading distributors and GPOs.\\n\\n\\n\\xa0\\n\\n\\n\\n\\n\\xa0\\n\\n\\n\\n\\n7\\n\\nhttps://www.precedenceresearch.com/us-complex-and-chronic-condition-management-market\\n\\n\\n8\\n\\nhttps://www.researchandmarkets.com/reports/5264375/global-remote-patient-monitoring-market-by\\n\\n\\n9\\n\\nhttps://blog.prevounce.com/27-remote-patient-monitoring-statistics-every-practice-should-know\\n\\n\\n10\\n\\nhttps://www.grandviewresearch.com/industry-analysis/wearable-technology-market\\n\\n\\n11\\n\\nhttps://en.wikipedia.org/wiki/Group_medical_practice_in_the_United_States\\n\\n\\n12\\nhttps://www.aha.org/statistics/fast-facts-us-hospitals\\n\\n\\n\\xa0\\n\\n\\n\\n\\n\\n\\n8\\n\\n\\n\\xa0\\n\\n\\n\\n\\n\\xa0\\n\\n\\nCOM11\\n\\nhttps://en.wikipedia.org/wiki/Group_medical_practice_in_the_United_States\\n\\n\\n12\\nhttps://www.aha.org/statistics/fast-facts-us-hospitals\\n\\n\\n\\xa0\\n\\n\\n\\n\\n\\n\\n8\\n\\n\\n\\xa0\\n\\n\\n\\n\\n\\xa0\\n\\n\\nCOM\\n\\n\\n\\xa0\\n\\n\\nThe Bioflux solution is deployed into physicians’ offices, clinics, hospitals, and IDTFs. For the prescribing physician, the COM diagnostic read is\\na reimbursable service from payers such as Medicare and insurance companies. In the United States, billing codes for an COM diagnostic\\nread are available under the American Medical Association Current Procedural Terminal, with a current average reimbursement\\nrate of $850 per read (a read is between 1 and 30 days long).\\n\\n\\n\\xa0\\n\\n\\nWe believe that\\nBioflux’s revenue model, which is a platform or technology \\nas\\na service\\n model (\\nPAAS\\n or \\nTAAS\\n),\\nis a significant and disruptive departure from the pricing and reimbursement strategies of the existing competitors in the COM\\nmarket, which apply an outsourced model to COM diagnostics, where the entire procedure and reimbursement is outsourced; the COM\\nsolutions provider takes over the clinical responsibilities and earns the reimbursement and pays the physician a small\\nadministrative stipend. Bioflux’s technology, revenue and insourced business model entail differentiators that are expected to\\ncreate barriers to entry for other competitors seeking to emulate our strategy.\\n\\n\\n\\xa0\\n\\n\\nWe\\nalso believe the Bioflux solution is not only financially superior but also clinically superior. Existing COM solutions are two-piece\\nsolutions with 2 channel ECGs. Comparatively, Bioflux is a one-piece solution with 3 channels of ECG, delivering more and higher quality\\ndata with better patient compliance. This is a significant barrier to entry for existing and new competitors as they would need to develop\\nan entirely new solution that encompasses multiple channels and integrated cellular connectivity to compete with the Bioflux.\\n\\n\\n\\xa0\\n\\n\\nHolter/Extended\\nHolterHolter/Extended\\nHolter\\n\\n\\n\\xa0\\n\\n\\nThe\\nBiotres solution is purpose-built for the holter and extended holter market and is deployed into physicians’ offices, clinics,\\nhospitals, and IDTFs. For the prescribing physician, the Holter/Extended Holter diagnostic read is a reimbursable service from payers\\nsuch as Medicare and insurance companies. In the United States, billing codes for a Holter and Extended Holter diagnostics are available\\nunder the American Medical Association Current Procedural Terminal, with a current blended average reimbursement rate of $200 per test,\\nwhere a test is between 1 and 21 days long.\\n\\n\\n\\xa0\\n\\n\\nWe\\nbelieve that Biotres’ revenue model, which is a platform or technology \\nas a service\\n model (\\nPAAS\\n or \\nTAAS\\n),\\nis a significant and disruptive departure from the pricing and reimbursement strategies of the existing competitors in the Holter market,\\nwhich apply an outsourced model to Holter diagnostics, where the entire procedure and reimbursement is outsourced; the Holter solutions\\nprovider takes over the clinical responsibilities and earns the reimbursement and pays the physician a small administrative stipend.\\nBiotres’ technology, revenue and insourced business model entail differentiators that are expected to create barriers to entry\\nfor other competitors seeking to emulate our strategy.\\n\\n\\n\\xa0\\n\\n\\nAdditionally,\\nwe believe the Biotres solution is not only financially superior but also clinically superior. Existing holter patch solutions are 1\\nchannel devices that lack connectivity. This leads to cardiac diagnostic results taking up to 2 weeks. Biotres is a connected 3 channel\\npatch solution, delivering more and higher quality data while reducing the time to diagnosis from 2 weeks to 3 days or less. This is\\na significant barrier to entry for existing and new competitors as they would need to develop an entirely new solution that encompasses\\nconnectivity and multiple channels to compete with the Biotres.Chronic\\nCare Management (CCM) and Remote Patient Monitoring (RPM)\\n\\n\\n\\xa0\\n\\n\\nOur chronic care management and remote patient monitoring strategy is focused on the same target addressable market of approximately 23,018\\nphysician offices (approximately 10% of all physician offices in the U.S.), 612 hospitals (approximately 10% of all hospitals in the U.S.),\\nand 300 IDTFs (an estimated 10% of all IDTFs in the U.S.) that we are targeting for our diagnostics. The difference in our strategy here\\nis a focus on selling into existing accounts and new diagnostic accounts as opposed to building out a new channel strategy. These solutions\\nare complementary to our diagnostics solution and can be sold as part of a complete platform to target new and existing customers.\\n\\n\\n\\xa0\\n\\n\\nProduct and Technology\\n\\n\\n\\xa0\\n\\n\\nBioflux\\n\\n\\n\\xa0\\n\\n\\nBioflux is an advanced, integrated\\nECG device and software solution for the COM market. The Bioflux device is comprised of a wet electrode and worn on a belt clip around\\nthe waist. The Bioflux ECG reporting software will allow doctors and labs to view a patient’s ECG data for monitoring and diagnostic\\npurposes.\\n\\n\\n\\xa0\\n\\n\\nThe Bioflux device has been developed,\\namong other things, with the following features:\\n\\n\\n\\xa0\\n\\n\\n\\n\\n\\n\\n\\xa0\\n\\n\\n●\\n\\n\\n3 channels\\n\\n\\n\\n\\n\\xa0\\n\\n\\n\\xa0\\n\\n\\n\\xa0\\n\\n\\n\\n\\n\\xa0\\n\\n\\n●\\n\\n\\nBuilt-in cellular connectivity for global cellular network compatibility;\\n\\n\\n\\n\\n\\xa0\\n\\n\\n\\xa0\\n\\n\\n\\xa0\\n\\n\\n\\n\\n\\xa0\\n\\n\\n●\\n\\n\\nExtended battery size for up to48 hours of battery life.\\n\\n\\n\\n\\n\\xa0\\n\\n\\n\\n\\n9\\n\\n\\n\\xa0\\n\\n\\n\\n\\n\\xa0\\n\\n\\nThe Bioflux platform has a built-in\\ncellular chipset and a real-time embedded operating system which allows for our technology to be utilized as an Internet of Things (IoT)\\nplatform. This technology can be leveraged into other applications and industries by utilizing the platform and OS side of Bioflux.\\n\\n\\n\\xa0\\n\\n\\nBiotresBiotres\\n\\n\\n\\xa0\\n\\n\\nHolter\\nand Extended Holter monitors are significantly simplified versions of cardiac diagnostics that lack connectivity and analysis. Holter\\nand Extended Holter monitors require data to be downloaded manually, resulting in diagnostic results taking up to 2 weeks or longer.\\nThe Biotres device has been designed to address the limitations of existing solutions while providing the same disruptive business model\\nas the Bioflux. Responding to our customer needs, the Biotres was developed with the following features:\\n\\n\\n\\xa0\\n\\n\\n\\n\\n\\n\\n\\xa0\\n\\n\\n●\\n\\n\\n3 channels\\n\\n\\n\\n\\n\\xa0\\n\\n\\n●\\n\\n\\nConnectivity\\n\\n\\n\\n\\n\\xa0\\n\\n\\n●\\n\\n\\nRechargeable\\n\\n\\n\\n\\n\\xa0\\n\\n\\n●\\n\\n\\nReusable\\n\\n\\n\\n\\n\\xa0\\n\\n\\nThe\\nBiotres is also a platform technology that can be leveraged and used to enter other markets and support future product enhancements.\\nThe company has already developed a number of enhancements for Biotres that will be available in the next generation of the solution.\\n\\n\\n\\xa0\\n\\n\\nBiocare,\\nBioheart and BiokitBiocare,\\nBioheart and Biokit\\n\\n\\n\\xa0\\n\\n\\nIt\\nis widely reported that chronic illnesses related to lifestyle diseases are on the rise, resulting in increased healthcare costs. This\\nhas caused a major shift in the US healthcare market, emphasizing a need for evidence-based healthcare system focused on overall health\\noutcomes. Patient compliance is a critical component in driving improved health outcomes, where the patient adheres to and implements\\ntheir physician’s recommendation. Unfortunately, poor patient compliance is one of the most pressing issues in the healthcare market.\\nOne of the key contributing factors to this is the lack of a feedback mechanism to measure improvement and knowledge. Studies show that\\npoor patient compliance costs the US healthcare system $100 to $289 billion annually\\n1\\n, representing 3% to 10% of total US\\nhealthcare costs\\n2\\n\\xa0. Studies have proven that regular monitoring of chronic care conditions improves patient outcomes\\nin the form of lower morbidity rates and reduce the financial burden on the healthcare system by empowering preventative care.\\n\\n\\n\\xa0\\n\\n\\nThe\\nCompany has developed Biocare to support medical practitioners as they gather data and regularly monitor and treat patients with two\\nor more chronic care conditions. We expect that Bioheart combined with our Biocare platform, our fourth product, is focused on filling\\nthis need by providing a clinically relevant, preventative care and disease management solution for the consumer. A key underlying component\\nof Bioheart is the ability to measure patient improvements—with clinical accuracy—helping to drive feedback and support patient\\ncompliance. This approach is implemented in our development process by focusing on a disease/chronic illness profile, as opposed to a\\ncustomer profile. We are focused on cardiovascular disease for our first preventative care solution since Bioflux is aimed at the same\\nhealth segment.The\\nfocus on cardiovascular disease states make the combination of Bioheart and Biocare a unique offering within the chronic care management\\nspace which is primarily focused on diabetes. With no long term consumer solution for heart patients, chronic care management has focused\\non those conditions that do have personal devices, mainly diabetes, hypertension, and COPD. This is why we developed Bioheart, a consumer\\nsolution for personal use for individuals with cardiac issues. Combined with our Biocare platform, it is one of the first disease management\\nsolutions capable of delivering holistic chronic care management to cardiovascular patients.\\n\\n\\n\\xa0\\n\\n\\nTaking\\nit a step further, we developed Biokit to support cardiac patients that had other chronic conditions such as hypertension or COPD. Biokit\\nis a remote patient monitoring kit that combines a blood pressure cuff, an pulse oximeter and a digital thermometer into the Biocare\\nplatform to support the collection of additional biometrics for those patients with multiple conditions. Biocare was developed with the\\nfollowing features:\\n\\n\\n\\xa0\\n\\n\\n\\n\\n\\n\\n\\xa0\\n\\n\\n●\\n\\n\\nIntegration\\n    with cardiac diagnostics: Bioflux and Biotres\\n\\n\\n\\n\\n\\xa0\\n\\n\\n●\\n\\n\\nBioheart\\n\\n\\n\\n\\n\\xa0\\n\\n\\n●\\n\\n\\nBiokit\\n\\n\\n\\n\\n\\xa0\\n\\n\\n●\\n\\n\\nVirtual Clinic\\n\\n\\n\\n\\n\\xa0\\n\\n\\n●\\n\\n\\nAutomated biometric reporting\\n\\n\\n\\n\\n\\xa0\\n\\n\\n●\\n\\n\\nPatient Dashboards\\n\\n\\n\\n\\n\\xa0\\n\\n\\n●\\n\\n\\nAutomated time tracking\\n\\n\\n\\n\\n\\xa0\\n\\n\\n●\\n\\n\\nBuilt-in patient reminders\\n    and calling\\n\\n\\n\\n\\n\\xa0\\n\\n\\n●\\n\\n\\nAsynchronous chat\\n\\n\\n\\n\\n\\xa0\\n\\n\\n●\\n\\n\\nMonthly data summaries\\n\\n\\n\\n\\n\\xa0\\n\\n\\nBiocare\\nis also a platform technology that can be leveraged and used to enter other chronic condition markets and support future product enhancements.\\nThe company has already developed a number of enhancements for Biocare that will be available in the next generation of the solution.\\n\\n\\n\\xa0\\n\\n\\nFuture MarketsFuture Markets\\n\\n\\n\\xa0\\n\\n\\nIn the next few years, we intend\\nto expand use of our technology platform with medical-grade solutions for the monitoring of blood pressure, diabetes, sleep apnea, chronic\\npain, as well as fetal monitoring, and other adjacent healthcare and lifestyle markets.\\n\\n\\n\\xa0\\n\\n\\nBionatal is a proposed product\\nfor monitoring fetus’ health by remote cardiac telemetry. In the US, there were approximately 24,073 fetal deaths at 20 or more\\nweeks gestation in 2012\\n3\\n. The rise of older mothers and mothers with chronic conditions have driven high-risk pregnancies to\\na new high; high-risk complications now occur in 6 to 8 percent of all pregnancies\\n4\\n.\\n\\n\\n\\xa0\\n\\n\\nThe Company has also received an NIH grant to investigate cardiac anomalies in chronic kidney disease patients, which\\nis designed to be a predictive or early detection tool for CKD patients. This and other new technology that the Company is developing is applicable to\\nthe market segments that the Company intends to serve and will continue to adhere to the Company’s revenue model of deriving income\\nfrom technology fees.\\n\\n\\n\\xa0\\n\\n\\n\\n\\n10\\n\\n\\n\\xa0\\n\\n\\n\\n\\n\\xa0\\n\\n\\nCompetition\\n\\n\\n\\xa0\\n\\n\\nCardiac Diagnostics\\n\\n\\n\\xa0\\n\\n\\nCardiac Outpatient Monitoring\\n\\n\\n\\xa0\\n\\n\\nThe medical technology equipment\\nindustry is characterized by strong competition and rapid technological change. There are a number of companies developing technologies\\nthat are competitive to our existing and proposed products, many of them, when compared to our Company, having significantly longer operational\\nhistory and greater financial and other resources.Within the US event monitoring\\nsystems market, we are aware of six main competitors in the COM product segment. These competitors have increased market presence and\\ndistribution primarily by working through existing IDTFs. The existing competitors have maintained a competitive advantage within the\\nmarket by controlling the distribution of all available COM devices and software solutions. Our primary competitors in the COM market\\nare:\\n\\n\\n\\xa0\\n\\n\\n● \\nBiotelemetry\\n(formerly CardioNet), recently acquired by Philips for a reported $2.8B\\n. We believe that BioTelemetry, Inc. (NASDAQ:BEAT), has\\nthe largest network of IDTFs within the COM market. BioTelemetry is considered a complete solution provider as it produces and\\ndistributes its own COM device, software solution, and COM monitoring centers. The company acquired its COM device through the\\nacquisition of a COM manufacturer, Braemar. Upon acquisition of Braemar, BioTelemetry offered limited support to other clients\\nutilizing Braemar’s technology. This resulted in BioTelemetry increasing the use of its device and software solution, enabling\\nwide market penetration. We believe that BioTelemetry business model is focused on providing the COM diagnostic service, as opposed\\nto selling COM solutions to other IDTFs or service providers, which enables a perpetual per-read fee as opposed to one time device\\nor software sales. Equity research analysts categorize BioTelemetry as a clinical health provider, because of its business model,\\nrather than as a medical device company. As such, we believe that BioTelemetry market cap is limited by the low multiples associated\\nwith that type of business, and, as a clinical health provider, BioTelemetry has significant overhead and fixed costs associated\\nwith monitoring centers and health professionals.● \\nPreventice\\n(formerly eCardio.), recently acquired by Boston Scientific for a reported $1.2B.\\n Preventice is a private company, based in\\nHouston, Texas. Preventice’s device is manufactured by a third party medical device company, TZ Medical. Preventice has\\nintegrated TZ Medical’s device with its software solution to create a complete COM solution. Similar to Biotelemetry, we\\nbelieve eCardio follows the same business model of offering the COM service and acting as a clinical health provider.\\n\\n\\n\\xa0\\n\\n\\n● \\nScottCare\\n. ScottCare\\nis a private company in the US and a subsidiary of Scott Fetzer Company, a division of Berkshire Hathaway. ScottCare provides equipment\\nfor cardiovascular clinics and diagnostic technicians. ScottCare has built its own COM device and software solution, and white-labeled\\nTZ Medical’s device. Unlike the others, ScottCare offers its solution in an insourced model, where the physician has the opportunity\\nto bill. This model requires the physician to purchase a minimum number of devices at an approximate average cost of $2,000 and their\\nsoftware at a cost of $25,000 to $40,000. After this initial upfront cost, ScottCare charges an additional per test fee for monitoring.\\nWe believe the above model creates a long return on investment for the physician. In our opinion, this has resulted in little market penetration\\nfor ScottCare as compared to the others.● \\nInfobionic\\n. Infobionic\\nis a private company located in Waltham, Massachusetts. It follows a leasing model where it leases it’s technology at a fixed monthly\\nrate, whether technology is used or not. They have a complete solution, comprised of a device and software. We believe that they have\\na good model that will enable them to be competitive in the market. In our opinion, there is room for both Biotricity and Infobionic within\\nthe marketplace, though we believe that our solution is superior in two ways. Firstly, our device has a screen which allows better patient\\nfeedback and improved patient hookup at the clinic. Secondly, our business model is based on usage. The physician is charged a technology\\nfee when the technology is used. If it is not used, there is no charge. This makes it attractive compared to Infobionic’s model\\nwhere the physician is charged even if the technology is not used.\\n\\n\\n\\xa0\\n\\n\\n\\n\\n11\\n\\n\\n\\xa0\\n\\n\\n\\n\\n\\xa0\\n\\n\\nIn addition, we note that:\\n\\n\\n\\xa0\\n\\n\\n● \\nMedtronic\\n. Medtronic\\nis a major medical device conglomerate. It has an COM solution by the name of SEEQ that was added to their portfolio through the acquisition\\nof Corventis. We have seen no significant activity or usage with SEEQ in our market analysis. We also note that SEEQ is a patch based\\nCOM solution that only collects data on 1 lead. As such, it has strong competition from 3 lead systems which are the standard for COM.\\nIn early 2018, Medtronic withdrew SEEQ from the marketplace. We do not view Medtronic as a primary competitor, but, given the size and\\nreach of Medtronic, they are an organization that we must continuously watch and be aware of.● \\nTZ Medical\\n. TZ\\nMedical is a medical device company that focuses on manufacturing a variety of medical devices. We do not consider TZ Medical to be a\\ndirect competitor as they produce an COM device that is available for purchase, and sold to competitors such as to Scottcare and Preventice,\\ndescribed above. However, we do not believe that TZ Medical has a software solution, requiring any new entrant to either acquire or build\\nout a software solution and then integrate that with the TZ Medical device. This creates a requirement for a large upfront capital investment.\\nAs a result, we believe this approach only works for organizations looking to become COM solution providers with the same business model\\nas the others.\\n\\n\\n\\xa0\\n\\n\\nWe believe that our Bioflux COM\\nsolution will successfully compete because:\\n\\n\\n\\xa0\\n\\n\\n\\n\\n\\n\\n\\xa0\\n\\n\\n●\\n\\n\\nit is designed as a platform to encompass all segments of the event monitoring market;\\n\\n\\n\\n\\n\\xa0\\n\\n\\n\\xa0\\n\\n\\n\\xa0\\n\\n\\n\\n\\n\\xa0\\n\\n\\n●\\n\\n\\nof the insourcing business model which we believe is applicable to a significantly larger portion of the total available market and enable more efficient strategic penetration and distribution; and\\n\\n\\n\\n\\n\\xa0\\n\\n\\n\\xa0\\n\\n\\n\\xa0\\n\\n\\n\\n\\n\\xa0\\n\\n\\n●\\n\\n\\nfor the other reasons described earlier under “–Market Opportunity.”\\n\\n\\n\\n\\n\\xa0\\n\\n\\nHolter/Extended Holter\\n\\n\\n\\xa0\\n\\n\\nWithin the US event monitoring\\nsystems market, we are aware of three main competitors in the Holter patch product segment. These competitors have increased market presence\\nand distribution primarily by working with Hospitals. The existing competitors have maintained a competitive advantage within the market\\nby a first mover advantage. Our primary competitors in the Holter patch market are:\\n\\n\\n\\xa0\\n\\n\\n\\n\\n\\n\\n\\xa0\\n\\n\\n●\\n\\n\\niRhythm Technologies: iRhythm is the leader in holter patch technology with the largest footprint. They are primarily hospital focused and operate as an IDTF, much like our COM competitors. Their core product is the Zio patch, which is a 1 channel holter with no connectivity and is not rechargeable●\\n\\n\\nBardyDx (\\nRecently Acquired by Hilrom\\n): BardyDx is the second largest player in the holter space. They operate as an IDTF as well. Their core product is a 1 channel patch with no connectivity with a removable chip for data uploads. \\n\\n\\n\\n\\n\\xa0\\n\\n\\n\\xa0\\n\\n\\n\\xa0\\n\\n\\n\\n\\n\\xa0\\n\\n\\n●\\n\\n\\nVitalConnect: is a small player in the holter space. They have a disposable patch monitor that can be used for a limited time, making it unusable for long term studies. They operate as an IDTF. \\n\\n\\n\\n\\n\\xa0\\n\\n\\n\\xa0\\n\\n\\nCardiac Disease Management\\n\\n\\n\\xa0\\n\\n\\nWithin the US cardiac disease\\nmanagement market, we are aware of three main competitors in the cardiac care management segment. These competitors have different approaches,\\nsolutions, and technologies but we still regard them as competitors. Technologically we have a number of differentiators as we are the\\nonly company that has a continuous heart monitor. Our primary competitors in the cardiac disease management market are:\\n\\n\\n\\xa0\\n\\n\\nBioheart:\\n\\n\\n\\xa0\\n\\n\\n\\n\\n\\n\\n\\xa0\\n\\n\\n●\\n\\n\\nAlivecor is a direct to consumer cardiac monitoring company. They are the biggest brand in consumer cardiac care and have a simple to use handheld cardiac device. They operate as a service provider, providing cardiac insights direct to individuals. \\n\\n\\n\\n\\n\\xa0\\n\\n\\nBiocare:\\n\\n\\n\\xa0\\n\\n\\n\\n\\n\\n\\n\\xa0\\n\\n\\n●\\n\\n\\nOptimize Health: Optimize health is a chronic care and RPM platform for a variety of chronic conditions. Thought it is platform with no focus on cardiac specifically, it provides a complete platform for clinics and hospitals to utilize and build out a chronic disease management program. \\n\\n\\n\\n\\n\\xa0\\n\\n\\n\\xa0\\n\\n\\n\\xa0\\n\\n\\n\\n\\n\\xa0\\n\\n\\n●\\n\\n\\nHelloHeart: Hello Heart is a disease management program focused on hypertension. It is one of the few disease management programs that is focused on a heart related chronic disease\\n\\n\\n\\n\\n\\xa0\\n\\n\\n\\n\\n1212\\n\\n\\n\\xa0\\n\\n\\n\\n\\n\\xa0\\n\\n\\nIn the digital health space, we have noticed that\\nwe have competitors for different products but not a single competitor that has the entire product portfolio that we have. This adds a\\nlayer of differentiation and competitive advantage as customer can deal with one vendor as opposed to multiple vendors that they have\\nto integrate.\\n\\n\\n\\xa0\\n\\n\\nIntellectual Property\\n\\n\\n\\xa0\\n\\n\\nWe primarily rely on trade secret\\nprotection for our proprietary information. No assurance can be given that we can meaningfully protect our trade secrets. Others may independently\\ndevelop substantially equivalent confidential and proprietary information or otherwise gain access to, or disclose, our trade secrets.\\n\\n\\n\\xa0\\n\\n\\nWe have and generally plan to\\ncontinue to enter into non-disclosure, confidentiality and intellectual property assignment agreements with all new employees as a condition\\nof employment. In addition, we intend to also generally enter into confidentiality and non-disclosure agreements with consultants, manufacturers’\\nrepresentatives, distributors, suppliers and others to attempt to limit access to, use and disclosure of our proprietary information.\\nThere can be no assurance, however, that these agreements will provide meaningful protection or adequate remedies for our trade secrets\\nin the event of unauthorized use or disclosure of such information.We also may from time to time\\nrely on other intellectual property developed or acquired, including patents, technical innovations, laws of unfair competition and various\\nother licensing agreements to provide our future growth and to build our competitive position. We have filed an industrial design patent\\nin Canada, and we may decide to file for additional patents as we continue to expand our intellectual property portfolio. However, we\\ncan give no assurance that competitors will not infringe on our patent or other rights or otherwise create similar or non-infringing competing\\nproducts that are technically patentable in their own right. We fully intend to vigorously defend our intellectual property and patents.\\n\\n\\n\\xa0\\n\\n\\nCurrently, we have a number of\\nregistered trademarks; we may obtain additional registrations in the future.\\n\\n\\n\\xa0\\n\\n\\nResearch and Development\\n\\n\\n\\xa0\\n\\n\\nOur research and development programs\\nare generally pursued by engineers and scientists employed by us in California and Toronto on a full-time basis or hired as per diem consultants\\nor through partnerships with industry leaders in manufacturing and design and researchers and academia. We are also working with subcontractors\\nin developing specific components of our technologies. In all cases, we ensure that all areas of IP are owned and controlled by the Company.\\n\\n\\n\\xa0\\n\\n\\nThe primary objective of our research\\nand development program is to advance the development of our existing and proposed products, to enhance the commercial value of such products.\\n\\n\\n\\xa0\\n\\n\\nWe incurred research and development\\ncosts of $3.0 million for the fiscal year ended March 31, 2023 and $2.7 million for the fiscal year ended March 31, 2022.\\n\\n\\n\\xa0\\n\\n\\nGovernment Regulation\\n\\n\\n\\xa0\\n\\n\\nGeneralGovernment Regulation\\n\\n\\n\\xa0\\n\\n\\nGeneral\\n\\n\\n\\xa0\\n\\n\\nOur medical device products are\\nsubject to regulation by the U.S. FDA and various other federal and state agencies, as well as by foreign governmental\\nagencies. These agencies enforce laws and regulations that govern the development, testing, manufacturing, labeling, advertising, marketing\\nand distribution, and market surveillance of our medical device products.\\n\\n\\n\\xa0\\n\\n\\n\\n\\n13\\n\\n\\n\\xa0\\n\\n\\n\\n\\n\\xa0\\n\\n\\nIn addition to those indicated\\nbelow, the only other regulations we encounter are regulations that are common to all businesses, such as employment legislation, implied\\nwarranty laws, and environmental, health and safety standards, to the extent applicable. We will also encounter in the future industry-specific\\ngovernment regulations that would govern our products, if and when developed for commercial use. It may become the case that other regulatory\\napprovals will be required for the design and manufacture of our products and proposed products.\\n\\n\\n\\xa0\\n\\n\\nU.S. Regulation\\n\\n\\n\\xa0\\n\\n\\nThe FDA governs the following\\nactivities that Biotricity performs, will perform, upon the clearance or approval of its product candidates, or that are performed on\\nits behalf, to ensure that medical products distributed domestically or exported internationally are safe and effective for their intended\\nuses:\\n\\n\\n\\xa0\\n\\n\\n\\n\\n\\n\\n\\xa0\\n\\n\\n●\\n\\n\\nproduct design, and development;\\n\\n\\n\\n\\n\\xa0\\n\\n\\n\\xa0\\n\\n\\n\\xa0\\n\\n\\n\\n\\n\\xa0\\n\\n\\n●\\n\\n\\nproduct safety, testing, labeling and storage;\\n\\n\\n\\n\\n\\xa0\\n\\n\\n\\xa0\\n\\n\\n\\xa0\\n\\n\\n\\n\\n\\xa0\\n\\n\\n●\\n\\n\\nrecord keeping procedures; and\\n\\n\\n\\n\\n\\xa0\\n\\n\\n\\xa0\\n\\n\\n\\xa0\\n\\n\\n\\n\\n\\xa0\\n\\n\\n●\\n\\n\\nproduct marketing.\\n\\n\\n\\n\\n\\xa0\\n\\n\\nThere are numerous FDA regulatory\\nrequirements governing the approval or clearance and subsequent commercial marketing of Biotricity’s products. These include:\\n\\n\\n\\xa0\\n\\n\\n\\n\\n\\n\\n\\xa0\\n\\n\\n●\\n\\n\\nthe timely submission of product listing and establishment registration information, along with associated establishment user fees;\\n\\n\\n\\n\\n\\xa0\\n\\n\\n\\xa0\\n\\n\\n\\xa0\\n\\n\\n\\n\\n\\xa0\\n\\n\\n●●\\n\\n\\nthe timely submission of product listing and establishment registration information, along with associated establishment user fees;\\n\\n\\n\\n\\n\\xa0\\n\\n\\n\\xa0\\n\\n\\n\\xa0\\n\\n\\n\\n\\n\\xa0\\n\\n\\n●\\n\\n\\ncontinued compliance with the Quality System Regulation, or QSR, which require specification developers and manufacturers, including third-party manufacturers, to follow stringent design, testing, control, documentation and other quality assurance procedures \\u202fduring all aspects of the manufacturing process;\\n\\n\\n\\n\\n\\xa0\\n\\n\\n\\xa0\\n\\n\\n\\xa0\\n\\n\\n\\n\\n\\xa0\\n\\n\\n●\\n\\n\\nlabeling regulations and FDA prohibitions against the promotion of products for uncleared, unapproved or off-label use or indication;\\n\\n\\n\\n\\n\\xa0\\n\\n\\n\\xa0\\n\\n\\n\\xa0\\n\\n\\n\\n\\n\\xa0\\n\\n\\n●\\n\\n\\nclearance or approval of product modifications that could significantly affect the safety or effectiveness of the device or that would constitute a major change in intended use;\\n\\n\\n\\n\\n\\xa0\\n\\n\\n\\xa0\\n\\n\\n\\xa0\\n\\n\\n\\n\\n\\xa0\\n\\n\\n●\\n\\n\\nMedical Device Reporting regulations (MDR), which require that manufacturers keep detailed records of investigations or complaints against their devices and to report to the FDA if their device may have caused or contributed to a death or serious injury or malfunctioned in a way that would likely cause or contribute to a death or serious injury if it were to recur;\\n\\n\\n\\n\\n\\xa0\\n\\n\\n\\xa0\\n\\n\\n\\xa0\\n\\n\\n\\n\\n\\xa0\\n\\n\\n●\\n\\n\\nadequate use of the Corrective and Preventive Actions process to identify and correct or prevent significant systemic failures of products or processes or in trends which suggest same;\\n\\n\\n\\n\\n\\xa0\\n\\n\\n\\xa0\\n\\n\\n\\xa0\\n\\n\\n\\n\\n\\xa0\\n\\n\\n●\\n\\n\\npost-approval restrictions or conditions, including post-approval study commitments;\\n\\n\\n\\n\\n\\xa0\\n\\n\\n\\xa0\\n\\n\\n\\xa0\\n\\n\\n\\n\\n\\xa0\\n\\n\\n●\\n\\n\\npost-market surveillance regulations, which apply when necessary to protect the public health or to provide additional safety and effectiveness data for the device; and\\n\\n\\n\\n\\n\\xa0\\n\\n\\n\\xa0\\n\\n\\n\\xa0\\n\\n\\n\\n\\n\\xa0\\n\\n\\n●\\n\\n\\nnotices of correction or removal and recall regulations.\\n\\n\\n\\n\\n\\xa0\\n\\n\\n\\n\\n14●\\n\\n\\nnotices of correction or removal and recall regulations.\\n\\n\\n\\n\\n\\xa0\\n\\n\\n\\n\\n14\\n\\n\\n\\xa0\\n\\n\\n\\n\\n\\xa0\\n\\n\\nDepending on the classification\\nof the device, before Biotricity can commercially distribute medical devices in the United States, it had to obtain, either prior 510(k)\\nclearance, 510(k) de-novo clearance or premarket approval (PMA), from the FDA unless a respective exemption applied. The FDA classifies\\nmedical devices into one of three classes based on the degree of risk associated with each medical device and the extent of regulatory\\ncontrols needed to ensure the device’s safety and effectiveness:\\n\\n\\n\\xa0\\n\\n\\n\\n\\n\\n\\n\\xa0\\n\\n\\n●\\n\\n\\nClass I devices, which are low risk and subject to only general controls (e.g., registration and listing, medical device labeling compliance, MDRs, Quality System Regulations, and prohibitions against adulteration and misbranding) and, in some cases, to the 510(k) premarket clearance requirements;\\n\\n\\n\\n\\n\\xa0\\n\\n\\n\\xa0\\n\\n\\n\\xa0\\n\\n\\n\\n\\n\\xa0\\n\\n\\n●\\n\\n\\nClass II devices, which are moderate risk and generally require 510(k) or 510(k) de-novo premarket clearance before they may be commercially marketed in the United States as well as general controls and potentially special controls like performance standards or specific labeling requirements; and\\n\\n\\n\\n\\n\\xa0\\n\\n\\n\\xa0\\n\\n\\n\\xa0\\n\\n\\n\\n\\n\\xa0\\n\\n\\n●\\n\\n\\nClass III devices, which are devices deemed by the FDA to pose the greatest risk, such as life-sustaining, life-supporting or implantable devices, or devices deemed not substantially equivalent to a predicate device. Class III devices generally require the submission and approval of a PMA supported by clinical trial data.The custom software and hardware\\nof our products are classified as Class II. Class II devices are those for which general controls alone are insufficient to provide reasonable\\nassurance of safety and effectiveness and there is sufficient information to establish special controls. Special controls can include\\nperformance standards, post-market surveillance, patient histories and FDA guidance documents. Premarket review and clearance by the FDA\\nfor these devices is generally accomplished through the 510(k) or 510(k) de-novo premarket notification process. As part of the 510(k)\\nor 510(k) de-novo notification process, the FDA may have required the following:\\n\\n\\n\\xa0\\n\\n\\n\\n\\n\\n\\n\\xa0\\n\\n\\n●\\n\\n\\nDevelopment of comprehensive product description and indications for use.\\n\\n\\n\\n\\n\\xa0\\n\\n\\n\\xa0\\n\\n\\n\\xa0\\n\\n\\n\\n\\n\\xa0\\n\\n\\n●\\n\\n\\nCompletion of extensive preclinical tests and preclinical animal studies, performed in accordance with the FDA’s Good Laboratory Practice (GLP) regulations.\\n\\n\\n\\n\\n\\xa0\\n\\n\\n\\xa0\\n\\n\\n\\xa0\\n\\n\\n\\n\\n\\xa0\\n\\n\\n●\\n\\n\\nComprehensive review of predicate devices and development of data supporting the new product’s substantial equivalence to one or more predicate devices.\\n\\n\\n\\n\\n\\xa0\\n\\n\\n\\xa0\\n\\n\\n\\xa0\\n\\n\\n\\n\\n\\xa0\\n\\n\\n●\\n\\n\\nIf appropriate and required, certain types of clinical trials (IDE submission and approval may be required for conducting a clinical trial in the US).If required, clinical trials involve\\nuse of the medical device on human subjects under the supervision of qualified investigators in accordance with current Good Clinical\\nPractices (GCPs), including the requirement that all research subjects provide informed consent for their participation in the clinical\\nstudy. A written protocol with predefined end points, an appropriate sample size and pre-determined patient inclusion and exclusion criteria,\\nis required before initiating and conducting a clinical trial. All clinical investigations of devices to determine safety and effectiveness\\nmust be conducted in accordance with the FDA’s Investigational Device Exemption, or IDE, regulations that among other things, govern\\ninvestigational device labeling, prohibit promotion of the investigational device, and specify recordkeeping, reporting and monitoring\\nresponsibilities of study sponsors and study investigators. If the device presents a “significant risk,” as defined by the\\nFDA, the agency requires the device sponsor to submit an IDE application, which must become effective prior to commencing human clinical\\ntrials. The IDE will automatically become effective 30 days after receipt by the FDA, unless the FDA denies the application or notifies\\nthe company that the investigation is on hold and may not begin. If the FDA determines that there are deficiencies or other concerns with\\nan IDE that requires modification, the FDA may permit a clinical trial to proceed under a conditional approval. In addition, the study\\nmust be approved by, and conducted under the oversight of, an Institutional Review Board (IRB) for each clinical site. If the device presents\\na non-significant risk to the patient, a sponsor may begin the clinical trial after obtaining approval for the trial by one or more IRBs\\nwithout separate approval from the FDA, but it must still follow abbreviated IDE requirements, such as monitoring the investigation, ensuringwithout separate approval from the FDA, but it must still follow abbreviated IDE requirements, such as monitoring the investigation, ensuring\\nthat the investigators obtain informed consent, and labeling and record-keeping requirements.15\\n\\n\\n\\xa0\\n\\n\\n\\n\\n\\xa0\\n\\n\\nGiven successful completion of\\nall required testing, a detailed 510(k) premarket notification or 510(k) de-novo was submitted to the FDA requesting clearance to market\\nthe product. The notification included all relevant data from pertinent preclinical and clinical trials, together with detailed information\\nrelating to the product’s manufacturing controls and proposed labeling, and other relevant documentation.\\n\\n\\n\\xa0\\n\\n\\nA 510(k) clearance letter from\\nthe FDA then authorized commercial marketing of the device for one or more specific indications of use.\\n\\n\\n\\xa0\\n\\n\\nAfter 510(k) clearance, Biotricity\\nis required to comply with a number of post-clearance requirements, including, but not limited to, Medical Device Reporting and complaint\\nhandling, and, if applicable, reporting of corrective actions. Also, quality control and manufacturing procedures must continue to conform\\nto QSRs. The FDA periodically inspects manufacturing facilities to assess compliance with QSRs, which impose extensive procedural, substantive,\\nand record keeping requirements on medical device manufacturers. In addition, changes to the manufacturing process are strictly regulated,\\nand, depending on the change, validation activities may need to be performed. Accordingly, manufacturers must continue to expend time,\\nmoney and effort in the area of production and quality control to maintain compliance with QSRs and other types of regulatory controls.After a device receives 510(k)\\nclearance from FDA, any modification that could significantly affect its safety or effectiveness, or that would constitute a major change\\nin its intended use or technological characteristics, requires a new 510(k) clearance or could require a PMA. The FDA requires each manufacturer\\nto make the determination of whether a modification requires a new 510(k) notification or PMA in the first instance, but the FDA can review\\nany such decision. If the FDA disagrees with a manufacturer’s decision not to seek a new 510(k) clearance or PMA for a particular\\nchange, the FDA may retroactively require the manufacturer to seek 510(k) clearance or PMA. The FDA can also require the manufacturer\\nto cease U.S. marketing and/or recall the modified device until additional 510(k) clearance or PMA approval is obtained.\\n\\n\\n\\xa0\\n\\n\\nThe FDA and the Federal Trade\\nCommission, or FTC, will also regulate the advertising claims of Biotricity’s products to ensure that the claims it makes are consistent\\nwith its regulatory clearances, that there is scientific data to substantiate the claims and that product advertising is neither false\\nnor misleading.We received 510(k) clearance for\\nboth the software and hardware components of our Bioflux and Biotres products. To obtain 510(k) clearance, a company must submit a notification to\\nthe FDA demonstrating that its proposed device is substantially equivalent to a predicate device (i.e., a device that was in commercial\\ndistribution before May 28, 1976, a device that has been reclassified from Class III to Class I or Class II, or a 510(k)-cleared device).\\nThe FDA’s 510(k) clearance process generally takes from three to 12 months from the date the application is submitted but also can\\ntake significantly longer. If the FDA determines that the device or its intended use is not substantially equivalent to a predicate device,\\nthe device is automatically placed into Class III, requiring the submission of a PMA. Once the information is submitted, there is no guarantee\\nthat the FDA will grant a company 510(k) clearance for its pipeline products, and failure to obtain the necessary clearances for its products\\nwould adversely affect its ability to grow its business. Delays in receipt or failure to receive the necessary clearances, or the failure\\nto comply with existing or future regulatory requirements, could reduce its business prospects.Devices that cannot be cleared\\nthrough the 510(k) process due to lack of a predicate device but would be considered low or moderate risk may be eligible for the 510(k)\\nde-novo process. In 1997, the Food and Drug Administration Modernization Act, or FDAMA added the de novo classification pathway now codified\\nin section 513(f)(2) of the 29&C Act. This law established an alternate pathway to classify new devices into Class I or II that had\\nautomatically been placed in Class III after receiving a Not Substantially Equivalent, or NSE, determination in response to a 510(k) submission.\\nThrough this regulatory process, a sponsor who receives an NSE determination may, within 30 days of receipt, request FDA to make a risk-based\\nclassification of the device through what is called a “de novo request.” In 2012, section 513(f)(2) of the 29&C Act was\\namended by section 607 of the Food and Drug Administration Safety and Innovation Act (FDASIA), in order to provide a second option for\\nde novo classification. Under this second pathway, a sponsor who determines that there is no legally marketed device upon which to base\\na determination of substantial equivalence can submit a de novo request to FDA without first submitting a 510(k).\\n\\n\\n\\xa0\\n\\n\\n\\n\\n16\\n\\n\\n\\xa0\\n\\n\\n\\n\\n\\xa0\\n\\n\\nIn the event that a company receives\\na Not Substantially Equivalent determination for its candidates in response to a 510(k) submission, the device may still be eligible for\\nthe 510(k) de-novo classification process.Devices that cannot be cleared\\nthrough the 510(k) or 510(k) de-novo classification process require the submission of a PMA. The PMA process is much more time consuming\\nand demanding than the 510(k) notification process. A PMA must be supported by extensive data, including but not limited to data obtained\\nfrom preclinical and/or clinical studies and data relating to manufacturing and labeling, to demonstrate to the FDA’s satisfaction\\nthe safety and effectiveness of the device. After a PMA application is submitted, the FDA’s in-depth review of the information generally\\ntakes between one and three years and may take significantly longer. If the FDA does not grant 510(k) clearance to its future products,\\nthere is no guarantee that Biotricity will submit a PMA or that if it does, that the FDA would grant a PMA approval of Biotricity’s\\nfuture products, either of which would adversely affect Biotricity’s business.\\n\\n\\n\\xa0\\n\\n\\nWe have installed a suitable\\nand effective quality management system, which establishes controlled processes for our product design, manufacturing, and distribution.\\nWe plan to do this in compliance with the internationally recognized standard ISO 13485:2013 Medical Devices – Quality Management\\nSystems – Requirements for Regulatory Purposes. Following the introduction of a product, the FDA and foreign agencies engage in\\nperiodic reviews of our quality systems, as well as product performance and advertising and promotional materials. These regulatory controls,\\nas well as any changes in FDA policies, can affect the time and cost associated with the development, introduction and continued availability\\nof new products. Where possible, we anticipate these factors in our product development processes. These agencies possess the authority\\nto take various administrative and legal actions against us, such as product recalls, product seizures and other civil and criminal sanctions.\\n\\n\\n\\xa0\\n\\n\\nForeign RegulationForeign Regulation\\n\\n\\n\\xa0\\n\\n\\nIn addition to regulations in\\nthe United States, we will be subject to a variety of foreign regulations governing clinical trials and commercial sales and distribution\\nof our products in foreign countries. Whether or not we obtain FDA approval for a product, we must obtain approval of a product by the\\ncomparable regulatory authorities of foreign countries before we can commence clinical trials or marketing of the product in those countries.\\nThe approval process varies from country to country, and the time may be longer or shorter than that required for FDA approval. The requirements\\ngoverning the conduct of clinical trials, product licensing, pricing and reimbursement vary greatly from country to country.\\n\\n\\n\\xa0\\n\\n\\nThe policies of the FDA and foreign\\nregulatory authorities may change and additional government regulations may be enacted which could prevent or delay regulatory approval\\nof our products and could also increase the cost of regulatory compliance. We cannot predict the likelihood, nature or extent of adverse\\ngovernmental regulation that might arise from future legislative or administrative action, either in the United States or abroad.\\n\\n\\n\\xa0\\n\\n\\nManufacturing and SuppliersManufacturing and Suppliers\\n\\n\\n\\xa0\\n\\n\\nEarlier in the life-cycle of the Company, we focused primarily on research\\nand development of the first generation version of the Bioflux. We have since completed the development of Biotres and of Bioheart and\\ntheir proposed marketing and distribution. We currently assemble our devices at our Redwood City, California facility. In order to maintain\\ncompliance with FDA and other regulatory requirements, our manufacturing facilities must be periodically re-evaluated and qualified under\\na quality system to ensure they meet production and quality standards. Suppliers of components and products used to manufacture our devices\\nmust also comply with FDA regulatory requirements, which often require significant resources and subject us and our suppliers to potential\\nregulatory inspections and stoppages.\\n\\n\\n\\xa0\\n\\n\\nWe have a scalable manufacturing\\nstrategy and goals and use Providence Enterprises (\\nherein\\n “\\nProvidence\\n”), which is an FDA qualified manufacturer\\nfor contract manufacturing. We do not have a contract with Providence or any obligation to use them (nor do they have any obligations\\nwith respect to us other than with respect to any specific orders we may make) and we enter into purchase orders for each manufacturing\\nrequest we have with Providence, as we would with other vendors. Despite our working relationship with Providence, we intend to continue\\nto identify and develop other efficient, automated, low-cost manufacturing capabilities and options to meet the quality, price, engineering,\\ndesign and production standards or production volumes required to successfully mass market our products, especially at the low-cost levels\\nwe require to facilitate our business plan.\\n\\n\\n\\xa0\\n\\n\\n\\n\\n1717\\n\\n\\n\\xa0\\n\\n\\n\\n\\n\\xa0\\n\\n\\nWe currently rely on a number\\nof principal suppliers for the components that make up our products and proposed products; these include Digikey Corporation and Mouser\\nElectronics for electronics and connectors, Telit/Stollmann for Bluetooth modules, Yongan Innovations for batteries, Dongguan Bole RP&M\\nCp. Ltd. for plastics, Unimed Medical and Conmed for ECG cables and electrodes, and Medico Systems for touch-panel LCD displays. We believe\\nthat the raw materials used or expected to be used in our planned products can be acquired from multiple sources and are readily available\\non the market.\\n\\n\\n\\xa0\\n\\n\\nEmployees\\n\\n\\n\\xa0\\n\\n\\nWe currently have 55 full-time\\nemployees and approximately 20 consultants who are based in our offices located in Silicon Valley, California and Toronto, Canada. These\\nemployees oversee day-to-day operations of the Company and, together with the consultants, support management, engineering, manufacturing,\\nand administration. We have no unionized employees.\\n\\n\\n\\xa0\\n\\n\\nWe\\nplan to hire 10 \\nto\\n 15 additional full-time employees within the next 12 months\\n, as needed to support continued growth in our business.\\nTheir principal responsibilities will be the support of our sales, marketing, research and development, and clinical development activities.\\n\\n\\n\\xa0\\n\\n\\nWe consider relations with our\\nemployees to be satisfactory.'}]"
      ]
     },
     "execution_count": 68,
     "metadata": {},
     "output_type": "execute_result"
    }
   ],
   "source": [
    "# Recreate the section text from the chunks...\n",
    "\n",
    "# MATCH the same single node pattern \n",
    "# RETURN only the first source\n",
    "# WITH that source, CALL a subquery\n",
    "# within the subquery, MATCH a new single node pattern\n",
    "# WHERE the chunks have the same `source` property \n",
    "# and are part of the same section named by the `f10kItem` property\n",
    "# RETURN text from those chunks, concatenated into a single string using `reduce()`\n",
    "cypher = \"\"\"\n",
    "  MATCH (all:Chunk) \n",
    "  WITH DISTINCT all.source as source LIMIT 1\n",
    "  CALL {\n",
    "      WITH source\n",
    "      MATCH (same_section:Chunk)\n",
    "      WHERE same_section.source = source\n",
    "        AND same_section.f10kItem = \"item1\"\n",
    "      RETURN same_section.chunkSeqId AS chunk_sequence, same_section.text AS sequenced_text\n",
    "      ORDER BY chunk_sequence ASC\n",
    "  }\n",
    "  RETURN reduce(section = \"\", chunk_text in collect(sequenced_text) | section + chunk_text) as section\n",
    "\"\"\"\n",
    "\n",
    "kg.query(cypher)"
   ]
  },
  {
   "cell_type": "code",
   "execution_count": 8,
   "metadata": {},
   "outputs": [
    {
     "data": {
      "text/plain": [
       "[]"
      ]
     },
     "execution_count": 8,
     "metadata": {},
     "output_type": "execute_result"
    }
   ],
   "source": [
    "# Connect section chunks into a linked list..\n",
    "\n",
    "# MATCH the same single node pattern \n",
    "# RETURN only the first source\n",
    "# WITH that source, CALL a subquery\n",
    "# within the subquery, MATCH a new single node pattern\n",
    "# WHERE the chunks have the same `source` property \n",
    "# and are part of the same section named by the `f10kItem` property\n",
    "# WITH those chunks collected together\n",
    "# CALL apoc.nodes.link() to create a linked list\n",
    "cypher = \"\"\"\n",
    "  MATCH (all:Chunk) \n",
    "  WITH DISTINCT all.source as source LIMIT 1\n",
    "  CALL {\n",
    "      WITH source\n",
    "      MATCH (same_section:Chunk)\n",
    "      WHERE same_section.source = source\n",
    "        AND same_section.f10kItem = \"item1\"\n",
    "      RETURN same_section AS section_chunks\n",
    "      ORDER BY same_section.chunkSeqId ASC\n",
    "  }\n",
    "  WITH collect(section_chunks) as section\n",
    "  CALL apoc.nodes.link(section, \"NEXT\", {avoidDuplicates: true}) \n",
    "\"\"\"\n",
    "\n",
    "kg.query(cypher)\n"
   ]
  },
  {
   "cell_type": "code",
   "execution_count": 39,
   "metadata": {},
   "outputs": [
    {
     "data": {
      "text/plain": [
       "[]"
      ]
     },
     "execution_count": 39,
     "metadata": {},
     "output_type": "execute_result"
    }
   ],
   "source": [
    "# Connect all section chunks into a linked list..\n",
    "\n",
    "# MATCH the same single node pattern \n",
    "# WITH all DISTINCT sources, CALL a subquery\n",
    "# within the subquery, MATCH a new single node pattern\n",
    "# WHERE the chunks have the same `source` property \n",
    "# and are part of the same section named by the `f10kItem` property\n",
    "# WITH those chunks collected together\n",
    "# CALL apoc.nodes.link() to create a linked list\n",
    "cypher = \"\"\"\n",
    "  MATCH (all:Chunk) \n",
    "  WITH DISTINCT all.source as source\n",
    "  CALL {\n",
    "      WITH source\n",
    "      MATCH (same_section:Chunk)\n",
    "      WHERE same_section.source = source\n",
    "        AND same_section.f10kItem = \"item1\"\n",
    "      RETURN same_section AS section_chunks\n",
    "      ORDER BY same_section.chunkSeqId ASC\n",
    "  }\n",
    "  WITH collect(section_chunks) as section\n",
    "  CALL apoc.nodes.link(section, \"NEXT\", {avoidDuplicates: true}) \n",
    "\"\"\"\n",
    "\n",
    "kg.query(cypher)\n"
   ]
  },
  {
   "cell_type": "code",
   "execution_count": 40,
   "metadata": {},
   "outputs": [
    {
     "data": {
      "text/plain": [
       "[]"
      ]
     },
     "execution_count": 40,
     "metadata": {},
     "output_type": "execute_result"
    }
   ],
   "source": [
    "# Connect the linked list of chunks to a parent `Form` node..\n",
    "\n",
    "# MATCH the same single node pattern \n",
    "# RETURN only the first source\n",
    "# WITH that source, CALL a subquery\n",
    "# within the subquery, MATCH a new single node pattern\n",
    "# WHERE the chunks have the same `source` property \n",
    "# and are part of the same section named by the `f10kItem` property\n",
    "# WITH those chunks collected together\n",
    "# CALL apoc.nodes.link() to create a linked list\n",
    "cypher = \"\"\"\n",
    "  MATCH (all:Chunk) \n",
    "  WITH DISTINCT all.source as source\n",
    "  CALL {\n",
    "      WITH source\n",
    "      MATCH (same_section:Chunk)\n",
    "      WHERE same_section.source = source\n",
    "        AND same_section.f10kItem = \"item1\"\n",
    "      RETURN same_section AS section_chunks\n",
    "      ORDER BY same_section.chunkSeqId ASC\n",
    "  }\n",
    "  WITH source, collect(section_chunks) as section\n",
    "  MERGE (parent:Form {source: source })\n",
    "    ON CREATE \n",
    "      SET parent.formId = section[0].formId\n",
    "      SET parent.cik = section[0].cik\n",
    "      SET parent.cusip6 = section[0].cusip6\n",
    "\"\"\"\n",
    "\n",
    "kg.query(cypher)"
   ]
  },
  {
   "cell_type": "code",
   "execution_count": 41,
   "metadata": {},
   "outputs": [
    {
     "data": {
      "text/plain": [
       "[]"
      ]
     },
     "execution_count": 41,
     "metadata": {},
     "output_type": "execute_result"
    }
   ],
   "source": [
    "# Connect all section chunks to their parent `Form` node...\n",
    "\n",
    "# MATCH a double node pattern, for the `Chunk` and `Form` nodes\n",
    "# WHERE the `Chunk` and `Form` nodes have the same `formId` property\n",
    "# (this is exactly like a JOIN in SQL)\n",
    "# connect the pairs with a (:Chunk)-[:PART_OF]->(:Form) relationship\n",
    "cypher = \"\"\"\n",
    "  MATCH (section:Chunk), (parent:Form)\n",
    "  WHERE section.formId = parent.formId\n",
    "  MERGE (section)-[:PART_OF]->(parent)\n",
    "\"\"\"\n",
    "\n",
    "kg.query(cypher)"
   ]
  },
  {
   "cell_type": "code",
   "execution_count": 42,
   "metadata": {},
   "outputs": [
    {
     "data": {
      "text/plain": [
       "[]"
      ]
     },
     "execution_count": 42,
     "metadata": {},
     "output_type": "execute_result"
    }
   ],
   "source": [
    "# Connect all parent `Form` nodes to the \"head\" of each section linked list...\n",
    "\n",
    "# MATCH a double node pattern, for the `Chunk` and `Form` nodes\n",
    "# WHERE the `Chunk` and `Form` nodes have the same `formId` property\n",
    "# (this is exactly like a JOIN in SQL)\n",
    "# connect the pairs with a (:Chunk)-[:PART_OF]->(:Form) relationship\n",
    "cypher = \"\"\"\n",
    "  MATCH (section:Chunk), (parent:Form)\n",
    "  WHERE section.formId = parent.formId\n",
    "    AND section.chunkSeqId = 0\n",
    "  MERGE (parent)-[:SECTION {f10kItem:section.f10kItem}]->(section)\n",
    "\"\"\"\n",
    "\n",
    "kg.query(cypher)"
   ]
  },
  {
   "cell_type": "markdown",
   "metadata": {},
   "source": [
    "## Example cypher queries"
   ]
  },
  {
   "cell_type": "code",
   "execution_count": 69,
   "metadata": {},
   "outputs": [
    {
     "data": {
      "text/plain": [
       "[{'windowText': '>ITEM 1. BUSINESS\\n\\n\\n\\xa0\\n\\n\\nSummary\\n\\n\\n\\xa0\\n\\n\\nBiotricity Inc. (the\\n“Company”, “Biotricity”, “we”, “us”, “our”) is a leading-edge medical\\ntechnology company focused on biometric data monitoring and diagnostic solutions. We deliver innovative, remote monitoring solutions\\nto the medical, healthcare, and consumer markets, with a focus on diagnostic and post-diagnostic solutions for lifestyle and chronic\\nillnesses. We approach the diagnostic side of remote patient monitoring by applying innovation within existing business models where\\nreimbursement is established. We believe this approach reduces the risk associated with traditional medical device development and\\naccelerates the path to revenue. In post-diagnostic markets, we intend to apply medical grade biometrics to enable consumers to\\nself-manage, thereby driving patient compliance and reducing healthcare costs. Our initial focus was on the diagnostic mobile\\ncardiac outpatient monitoring (COM) market. Since then, we have expanded our ecosystem of\\ncardiac technologies to include all accepted forms of cardiac diagnostic studies. We developed and received\\nFDA clearance on our Bioflux® (“Bioflux”) technology, comprised of a monitoring device and software components,\\nwhich we made available to the market under limited release on April 6, 2018, in order to establish and develop sales processes and\\nassess market dynamics. The fiscal year ended March 30, 2020 marked the Company’s first year of expanded commercialization\\nefforts, focused on sales growth and expansion. In 2021, the Company announced the initial launch of Bioheart, a direct-to-consumer\\nheart monitor that offers the same continuous heart monitoring technology used by physicians. In addition to developing and\\nreceiving regulatory approval or clearance of other technologies that enhance its ecosystem, in 2022, the Company announced the\\nlaunch of its Biotres Cardiac Monitoring Device (“Biotres”), a three-lead device for ECG and arrhythmia monitoring\\nintended for lower risk patients, a much broader addressable market segment. We have since expanded our sales efforts to 31 states,\\nwith intention to expand further and compete in the broader US market using an insourcing business model. Our technology has a large\\npotential total addressable market, which includes hospitals, clinics and physicians’ offices, as well as other Independent\\nDiagnostic Testing Facilities (“IDTFs)”. We believe our solution’s insourcing model, which empowers physicians\\nwith state-of-the-art technology and charges technology service fees for its use, has the benefit of a reduced operating overhead\\nfor the Company, and enabling a more efficient market penetration and distribution strategy. The Company offers an established\\necosystem of state-of-the-art technologies intended to monitor and diagnose cardiac arrhythmias and support cardiac disease\\nmanagement; its technology provides enhanced patient outcomes, with improved patient compliance, and a corresponding reduction of\\nhealthcare costs. Our principal executive office\\nis located at 203 Redwood Shores Pkwy Suite 600, Redwood City, California, and our telephone number is (800) 590-4155. Our website address\\nis www.biotricity.com. The information on our website is not part of this Annual Report on Form 10-K.\\n\\n\\n\\xa0\\n\\n\\nHistory\\n\\n\\n\\xa0\\n\\n\\nOur company was incorporated on\\nAugust 29, 2012 in the State of Nevada.\\n\\n\\n\\xa0\\n\\n\\niMedical Innovations Inc.\\n(“iMedical”) was incorporated on July 3, 2014 under the Canada Business Corporations Act. On February 2, 2016, we\\ncompleted the acquisition of iMedical and moved the operations of iMedical into Biotricity Inc. through a reverse take-over (the\\n“Acquisition Transaction”).\\n\\n\\n\\xa0\\n\\n\\nDescription of Business\\n\\n\\n\\xa0\\n\\n\\nCompany Overview\\n\\n\\n\\xa0\\n\\n\\nBiotricity Inc.\\n (“Company”, “Biotricity”,\\n“we”, “us” or “our”)\\n\\n\\n\\xa0\\n\\n\\nBiotricity Inc. (the “Company”,\\n“Biotricity”, “we”, “us”, “our”) is a medical technology company focused on\\nbiometric data monitoring and diagnostic solutions. Our aim is to deliver remote monitoring solutions to the medical, healthcare,\\nand consumer markets, with a focus on diagnostic and post-diagnostic solutions for lifestyle and chronic illnesses. We approach the\\ndiagnostic side of remote patient monitoring by applying innovation within existing business models where reimbursement is\\nestablished. To do this, we do the heavy lifting involved with developing proprietary technology that meets the regulatory standards\\nof the U.S. Food and Drug Administration (“FDA”), to allow medical professionals to utilize our technology and gain\\nreimbursement for their services through Medicare, Medicaid and private health insurers. In post-diagnostic markets, we apply\\nmedical grade biometrics to enable physicians to manage their patients and consumers to self-manage.\\n\\n\\n\\xa0\\xa0\\n\\n\\n\\n\\n3'}]"
      ]
     },
     "execution_count": 69,
     "metadata": {},
     "output_type": "execute_result"
    }
   ],
   "source": [
    "# Retrieve a \"window\" of chunks...\n",
    "\n",
    "# MATCH a 3 node pattern, anchored by a specified `Chunk` \n",
    "# and extending 1 node before and after that node.\n",
    "# RETURN the text from each chunk\n",
    "# by first extracting an array of `chunk.text` properties\n",
    "# then concatenating into a single string using \n",
    "# the standard library functin `apoc.text.join()`\n",
    "cypher = \"\"\"\n",
    "    MATCH chunkWindow=(:Chunk)-[:NEXT]->(:Chunk {chunkId: $chunkIdParam})-[:NEXT]->()\n",
    "    RETURN apoc.text.join([ chunk in nodes(chunkWindow) | chunk.text ], \" \") as windowText\n",
    "    \"\"\"\n",
    "\n",
    "kg.query(cypher,\n",
    "         params={'chunkIdParam': '0001493152-23-022974-item1-chunk0001'})"
   ]
  },
  {
   "cell_type": "markdown",
   "metadata": {},
   "source": [
    "Notice that this query may fail to find a matching pattern if the before or\n",
    "after node is missing. For example, try `chunkIdParam`:`0001493152-23-022974-item1-chunk0000`,\n",
    "which is the first chunk in the section.\n",
    "\n",
    "To handle that scenario, we'll use variable length pattern matching."
   ]
  },
  {
   "cell_type": "code",
   "execution_count": 70,
   "metadata": {},
   "outputs": [
    {
     "data": {
      "text/plain": [
       "[{'windowText': '>ITEM 1. BUSINESS\\n\\n\\n\\xa0\\n\\n\\nSummary\\n\\n\\n\\xa0\\n\\n\\nBiotricity Inc. (the\\n“Company”, “Biotricity”, “we”, “us”, “our”) is a leading-edge medical\\ntechnology company focused on biometric data monitoring and diagnostic solutions. We deliver innovative, remote monitoring solutions\\nto the medical, healthcare, and consumer markets, with a focus on diagnostic and post-diagnostic solutions for lifestyle and chronic\\nillnesses. We approach the diagnostic side of remote patient monitoring by applying innovation within existing business models where\\nreimbursement is established. We believe this approach reduces the risk associated with traditional medical device development and\\naccelerates the path to revenue. In post-diagnostic markets, we intend to apply medical grade biometrics to enable consumers to\\nself-manage, thereby driving patient compliance and reducing healthcare costs. Our initial focus was on the diagnostic mobile\\ncardiac outpatient monitoring (COM) market. Since then, we have expanded our ecosystem of\\ncardiac technologies to include all accepted forms of cardiac diagnostic studies. We developed and received\\nFDA clearance on our Bioflux® (“Bioflux”) technology, comprised of a monitoring device and software components,\\nwhich we made available to the market under limited release on April 6, 2018, in order to establish and develop sales processes and\\nassess market dynamics. The fiscal year ended March 30, 2020 marked the Company’s first year of expanded commercialization\\nefforts, focused on sales growth and expansion. In 2021, the Company announced the initial launch of Bioheart, a direct-to-consumer\\nheart monitor that offers the same continuous heart monitoring technology used by physicians. In addition to developing and\\nreceiving regulatory approval or clearance of other technologies that enhance its ecosystem, in 2022, the Company announced the\\nlaunch of its Biotres Cardiac Monitoring Device (“Biotres”), a three-lead device for ECG and arrhythmia monitoring\\nintended for lower risk patients, a much broader addressable market segment. We have since expanded our sales efforts to 31 states,\\nwith intention to expand further and compete in the broader US market using an insourcing business model. Our technology has a large\\npotential total addressable market, which includes hospitals, clinics and physicians’ offices, as well as other Independent\\nDiagnostic Testing Facilities (“IDTFs)”. We believe our solution’s insourcing model, which empowers physicians\\nwith state-of-the-art technology and charges technology service fees for its use, has the benefit of a reduced operating overhead\\nfor the Company, and enabling a more efficient market penetration and distribution strategy. The Company offers an established\\necosystem of state-of-the-art technologies intended to monitor and diagnose cardiac arrhythmias and support cardiac disease\\nmanagement; its technology provides enhanced patient outcomes, with improved patient compliance, and a corresponding reduction of\\nhealthcare costs.'}]"
      ]
     },
     "execution_count": 70,
     "metadata": {},
     "output_type": "execute_result"
    }
   ],
   "source": [
    "# Retrieve a \"window\" of chunks, even when there is no before or after...\n",
    "\n",
    "# MATCH a 3 node pattern, anchored by a specified `Chunk` \n",
    "# and extending 0 _or_ 1 node before and after that node,\n",
    "# using a variable length relationship pattern. This may\n",
    "# find multiple paths, so \n",
    "# WITH the `chunkWindow` paths ordered by descending length, LIMIT to the first path\n",
    "# to get only the `longestChunkWindow`\n",
    "# RETURN the text from each chunk in the longestChunkWindow\n",
    "# by first extracting an array of `chunk.text` properties\n",
    "# then concatenating into a single string using \n",
    "# the standard library functin `apoc.text.join()`\n",
    "cypher = \"\"\"\n",
    "  MATCH chunkWindow=(:Chunk)-[:NEXT*0..1]->(:Chunk {chunkId: $chunkIdParam})-[:NEXT*0..1]->()\n",
    "  WITH chunkWindow as longestChunkWindow ORDER BY length(chunkWindow) DESC LIMIT 1\n",
    "  RETURN apoc.text.join([ chunk in nodes(longestChunkWindow) | chunk.text ], \" \") as windowText\n",
    "    \"\"\"\n",
    "\n",
    "kg.query(cypher,\n",
    "         params={'chunkIdParam': '0001493152-23-022974-item1-chunk0000'})"
   ]
  },
  {
   "cell_type": "markdown",
   "metadata": {},
   "source": [
    "## Prepare langchain for using the Knowledge Graph"
   ]
  },
  {
   "cell_type": "code",
   "execution_count": 80,
   "metadata": {
    "collapsed": false
   },
   "outputs": [],
   "source": [
    "\n",
    "\n",
    "# OpenAI for creating embeddings\n",
    "embeddings_model = OpenAIEmbeddings()\n",
    "\n",
    "# Create a langchain vector store from the existing Neo4j knowledge graph.\n",
    "vector_store = Neo4jVector.from_existing_graph(\n",
    "    embedding=embeddings_model,\n",
    "    url=NEO4J_URI,\n",
    "    username=NEO4J_USERNAME,\n",
    "    password=NEO4J_PASSWORD,\n",
    "    index_name=VECTOR_INDEX_NAME,\n",
    "    node_label=VECTOR_NODE_LABEL,\n",
    "    text_node_properties=[VECTOR_SOURCE_PROPERTY],\n",
    "    embedding_node_property=VECTOR_EMBEDDING_PROPERTY,\n",
    ")\n",
    "# Create a retriever from the vector store\n",
    "retriever = vector_store.as_retriever()\n",
    "\n",
    "# Create a chatbot Question & Answer chain from the retriever\n",
    "chain = RetrievalQAWithSourcesChain.from_chain_type(\n",
    "    ChatOpenAI(temperature=0), chain_type=\"stuff\", retriever=retriever\n",
    ")\n",
    "\n",
    "retrieval_query = \"\"\"\n",
    "MATCH chunkWindow=(:Chunk)-[:NEXT*0..1]->(node)-[:NEXT*0..1]->()\n",
    "WITH node, score, chunkWindow as longestChunkWindow ORDER BY length(chunkWindow) DESC LIMIT 1\n",
    "RETURN apoc.text.join([ chunk in nodes(longestChunkWindow) | chunk.text ], \" \") as text,\n",
    "    score,\n",
    "    node {.*, textEmbedding: Null, text: Null} AS metadata\n",
    "\"\"\"\n",
    "\n",
    "vector_store_with_cypher = Neo4jVector.from_existing_index(\n",
    "    embeddings_model,\n",
    "    url=NEO4J_URI,\n",
    "    username=NEO4J_USERNAME,\n",
    "    password=NEO4J_PASSWORD,\n",
    "    database=\"neo4j\",\n",
    "    index_name=VECTOR_INDEX_NAME,\n",
    "    text_node_property=VECTOR_SOURCE_PROPERTY,\n",
    "    retrieval_query=retrieval_query,\n",
    ")\n",
    "\n",
    "# Create a retriever from the vector store\n",
    "retriever_with_cypher = vector_store_with_cypher.as_retriever()\n",
    "\n",
    "# Create a chatbot Question & Answer chain from the retriever\n",
    "chain_with_cypher = RetrievalQAWithSourcesChain.from_chain_type(\n",
    "    ChatOpenAI(temperature=0), chain_type=\"stuff\", retriever=retriever_with_cypher\n",
    ")"
   ]
  },
  {
   "cell_type": "markdown",
   "metadata": {},
   "source": [
    "## Example questions"
   ]
  },
  {
   "cell_type": "code",
   "execution_count": 96,
   "metadata": {},
   "outputs": [],
   "source": [
    "question = 'Who makes GPUs that is seeing an increase in demand?'"
   ]
  },
  {
   "cell_type": "code",
   "execution_count": 97,
   "metadata": {},
   "outputs": [
    {
     "data": {
      "text/plain": [
       "Document(page_content='\\ntext: The growth in demand for associative processing computing solutions is being driven by the increasing market adoption and usage of graphics processing unit (“GPU”) and CPU farms for AI processing of large data collections, including parallel computing in scientific research.  However, the large-scale usage of GPU and CPU farms for AI processing of data is demonstrating the limits of GPU and CPU processing speeds and resulting in ever higher energy consumption. The amounts of data being processed, which is coming from increasing numbers of users and continuously increasing amounts of collected data, has resulted in efforts to split and store the processed data among multiple databases, through a process called sharding.  Sharding substantially increases processing costs and worsens the power consumption factors associated with processing so much data.  As the environmental impacts of data processing are becoming increasingly important, and complex workloads are migrating to edge computing for real-time applications, it is becoming increasingly difficult to achieve market demands for low power, smaller footprints and faster results.', metadata={'cik': '1126741', 'source': 'https://www.sec.gov/Archives/edgar/data/1126741/000155837023011516/0001558370-23-011516-index.htm', 'formId': '0001558370-23-011516', 'f10kItem': 'item1', 'chunkId': '0001558370-23-011516-item1-chunk0007', 'cusip6': '36241U', 'chunkSeqId': 7})"
      ]
     },
     "execution_count": 97,
     "metadata": {},
     "output_type": "execute_result"
    }
   ],
   "source": [
    "# Vector search using the langchain retriever over the Neo4j vector store\n",
    "retriever.get_relevant_documents(question)[0]"
   ]
  },
  {
   "cell_type": "code",
   "execution_count": 98,
   "metadata": {},
   "outputs": [
    {
     "data": {
      "text/plain": [
       "Document(page_content='Table of Contents\\nIndustry and Market Strategy\\nAssociative Processing Unit Computing Market Overview\\nThe markets for associating processing computing solutions are significant and growing rapidly.  The total addressable market (“TAM”) for APU search applications, which is the market where GSI is focusing its commercialization efforts, has been determined by GSI to be approximately $232 billion in 2023, and growing at a compound annual growth rate (“CAGR”) of 13% to $380 billion by 2027. GSI has similarly determined that the Serviceable Available Market (“SAM”) for APU search applications is approximately $7.1 billion in 2023, and anticipated to grow at a CAGR of 16% to $12.8 billion by 2027. The search market segments included in GSI’s TAM and SAM analyses include vector search HPC. Some market applications in these segments are computer vision, synthetic aperture radar, drug discovery, and cybersecurity; and service markets such as NoSQL, Elasticsearch, and OpenSearch. The growth in demand for associative processing computing solutions is being driven by the increasing market adoption and usage of graphics processing unit (“GPU”) and CPU farms for AI processing of large data collections, including parallel computing in scientific research.  However, the large-scale usage of GPU and CPU farms for AI processing of data is demonstrating the limits of GPU and CPU processing speeds and resulting in ever higher energy consumption. The amounts of data being processed, which is coming from increasing numbers of users and continuously increasing amounts of collected data, has resulted in efforts to split and store the processed data among multiple databases, through a process called sharding.  Sharding substantially increases processing costs and worsens the power consumption factors associated with processing so much data.  As the environmental impacts of data processing are becoming increasingly important, and complex workloads are migrating to edge computing for real-time applications, it is becoming increasingly difficult to achieve market demands for low power, smaller footprints and faster results. The GSI APU has been demonstrated to outperform CPU’s and GPU’s in the market for AI search of large data collections by providing lower latency and increased capacity in a smaller form-factor and achieve such results with lower power consumption.  In addition, GSI’s compute-in-place technology has wide application. The APU has several benefits that are particularly useful to overcoming the data processing challenges noted above. First, the APU does not have the word size limitation of traditional CPU and GPU processors. Because traditional data processors move data around to various parts of a system, they need to select or duplicate resources of particular word sizes, be they 8-bit, 16-bit, 32-bit or 64-bit. The APU is based on a memory line structure, which means the APU can operate on legacy instruction widths of 8 or 16-bits, or just as seamlessly operate on instructions of arbitrary widths from 1 bit to 768-bits or 2048-bits.  The APU can operate on any word width that makes sense for the problem and also for what makes sense at the current processing step. This dynamic flexibility is a tremendous advantage for non-linear processing like trigonometry. The APU is also an associative machine, which means that data that is resident in the device can be applied to a function only if it is deemed associated (for example, with a meta-tag) to the processing. Such processing is similar to a person looking for his car in a parking lot, but ignoring all cars that are not the color of his car. Another strength of the APU design is that it is multi-threaded. One sensor or query input can be simultaneously applied to multiple functions or searches in the device.', metadata={'cik': '1126741', 'source': 'https://www.sec.gov/Archives/edgar/data/1126741/000155837023011516/0001558370-23-011516-index.htm', 'formId': '0001558370-23-011516', 'f10kItem': 'item1', 'chunkId': '0001558370-23-011516-item1-chunk0007', 'cusip6': '36241U', 'chunkSeqId': 7})"
      ]
     },
     "execution_count": 98,
     "metadata": {},
     "output_type": "execute_result"
    }
   ],
   "source": [
    "# Vector search using the langchain retriever over the Neo4j vector store\n",
    "retriever_with_cypher.get_relevant_documents(question)[0]"
   ]
  },
  {
   "cell_type": "code",
   "execution_count": 99,
   "metadata": {},
   "outputs": [
    {
     "data": {
      "text/plain": [
       "{'answer': 'NVIDIA Corporation is a company that makes GPUs and is seeing an increase in demand.\\n',\n",
       " 'sources': 'https://www.sec.gov/Archives/edgar/data/1126741/000155837023011516/0001558370-23-011516-index.htm'}"
      ]
     },
     "execution_count": 99,
     "metadata": {},
     "output_type": "execute_result"
    }
   ],
   "source": [
    "chain(\n",
    "    {\"question\": question},\n",
    "    return_only_outputs=True,\n",
    ")"
   ]
  },
  {
   "cell_type": "code",
   "execution_count": 100,
   "metadata": {},
   "outputs": [
    {
     "data": {
      "text/plain": [
       "{'answer': 'NVIDIA Corporation is a company that makes GPUs and is seeing an increase in demand.\\n',\n",
       " 'sources': 'https://www.sec.gov/Archives/edgar/data/1126741/000155837023011516/0001558370-23-011516-index.htm'}"
      ]
     },
     "execution_count": 100,
     "metadata": {},
     "output_type": "execute_result"
    }
   ],
   "source": [
    "chain_with_cypher(\n",
    "    {\"question\": question},\n",
    "    return_only_outputs=True,\n",
    ")"
   ]
  }
 ],
 "metadata": {
  "kernelspec": {
   "display_name": "Python 3",
   "language": "python",
   "name": "python3"
  },
  "language_info": {
   "codemirror_mode": {
    "name": "ipython",
    "version": 3
   },
   "file_extension": ".py",
   "mimetype": "text/x-python",
   "name": "python",
   "nbconvert_exporter": "python",
   "pygments_lexer": "ipython3",
   "version": "3.11.6"
  }
 },
 "nbformat": 4,
 "nbformat_minor": 0
}
