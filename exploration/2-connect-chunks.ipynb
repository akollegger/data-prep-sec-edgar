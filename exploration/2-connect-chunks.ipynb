{
 "cells": [
  {
   "cell_type": "markdown",
   "metadata": {
    "collapsed": false
   },
   "source": [
    "# Connect Form 10k Chunk Nodes\n",
    "\n",
    "The 10k Chunk Nodes are individual chunks of text from the 10k documents. \n",
    "\n",
    "In Cypher, each chunk looks like this:\n",
    "```cypher\n",
    "(:Chunk \n",
    "  chunkId: string\n",
    "  chunkSeqId: int\n",
    "  cik: int\n",
    "  cusip6: string\n",
    "  f10kItem: string\n",
    "  source: string\n",
    "  text: string\n",
    "  textEmbedding: [floats]\n",
    ")\n",
    "```\n",
    "\n",
    "We'll now create a complete source context around the chunks:\n",
    "\n",
    "1. connect `(:Chunk)-[:NEXT]->(:Chunk)` for each chunk with same `source` and `f10kItem`\n",
    "  - the `source` is unique to each 10k document\n",
    "  - the `f10kItem` is the name of the form section (e.g. \"Item 1A. Risk Factors\")\n",
    "2. create a `(:Form)` for each `source`\n",
    "3. connect each `(:Chunk)-[:PART_OF]->(:Form)`\n",
    "4. connect each `(:Form)-[:SECTION]->(first:Chunk)` for the first chunk of each section"
   ]
  },
  {
   "cell_type": "markdown",
   "metadata": {},
   "source": [
    "## Imports"
   ]
  },
  {
   "cell_type": "code",
   "execution_count": 32,
   "metadata": {},
   "outputs": [],
   "source": [
    "from dotenv import load_dotenv\n",
    "import os\n",
    "\n",
    "# Common data processing\n",
    "import json\n",
    "from pandas import DataFrame\n",
    "import pandas as pd\n",
    "from typing import List, Tuple, Union\n",
    "from numpy.typing import ArrayLike\n",
    "from progress.bar import Bar\n",
    "\n",
    "# Langchain\n",
    "from langchain.graphs import Neo4jGraph\n",
    "from langchain_community.vectorstores import Neo4jVector\n",
    "from langchain.embeddings import OpenAIEmbeddings\n",
    "from langchain.text_splitter import RecursiveCharacterTextSplitter\n",
    "from langchain.chains import RetrievalQAWithSourcesChain\n",
    "from langchain_community.chat_models import ChatOpenAI"
   ]
  },
  {
   "cell_type": "markdown",
   "metadata": {
    "collapsed": false
   },
   "source": [
    "## Set up Neo4j"
   ]
  },
  {
   "cell_type": "code",
   "execution_count": 33,
   "metadata": {
    "collapsed": false
   },
   "outputs": [],
   "source": [
    "# Load from environment\n",
    "load_dotenv('.env', override=True)\n",
    "NEO4J_URI = os.getenv('NEO4J_URI')\n",
    "NEO4J_USERNAME = os.getenv('NEO4J_USERNAME')\n",
    "NEO4J_PASSWORD = os.getenv('NEO4J_PASSWORD')\n",
    "NEO4J_DATABASE = os.getenv('NEO4J_DATABASE') or 'neo4j'\n",
    "\n",
    "# Global constants\n",
    "VECTOR_INDEX_NAME = 'form_10k_chunks'\n",
    "VECTOR_NODE_LABEL = 'Chunk'\n",
    "VECTOR_SOURCE_PROPERTY = 'text'\n",
    "VECTOR_EMBEDDING_PROPERTY = 'textEmbedding'\n"
   ]
  },
  {
   "cell_type": "code",
   "execution_count": 34,
   "metadata": {
    "collapsed": false
   },
   "outputs": [],
   "source": [
    "# Create a knowledge graph using Langchain's Neo4j integration.\n",
    "# This will be used for direct querying of the knowledge graph. \n",
    "kg = Neo4jGraph(\n",
    "    url=NEO4J_URI, username=NEO4J_USERNAME, password=NEO4J_PASSWORD, database=NEO4J_DATABASE\n",
    ")\n",
    "\n",
    "# OpenAI for creating embeddings\n",
    "embeddings_model = OpenAIEmbeddings()\n",
    "\n",
    "# Create a vector store for the Neo4j knowledge graph\n",
    "# This will be used for vector similarity queries.\n",
    "vector_store = Neo4jVector.from_existing_index(\n",
    "    OpenAIEmbeddings(),\n",
    "    url=NEO4J_URI,\n",
    "    username=NEO4J_USERNAME,\n",
    "    password=NEO4J_PASSWORD,\n",
    "    index_name=VECTOR_INDEX_NAME,\n",
    ")\n",
    "vector_store = Neo4jVector.from_existing_graph(\n",
    "    embedding=embeddings_model,\n",
    "    url=NEO4J_URI,\n",
    "    username=NEO4J_USERNAME,\n",
    "    password=NEO4J_PASSWORD,\n",
    "    index_name=VECTOR_INDEX_NAME,\n",
    "    node_label=VECTOR_NODE_LABEL,\n",
    "    text_node_properties=[VECTOR_SOURCE_PROPERTY],\n",
    "    embedding_node_property=VECTOR_EMBEDDING_PROPERTY,\n",
    ")\n",
    "retriever = vector_store.as_retriever()\n",
    "chain = RetrievalQAWithSourcesChain.from_chain_type(\n",
    "    ChatOpenAI(temperature=0), chain_type=\"stuff\", retriever=retriever\n",
    ")\n"
   ]
  },
  {
   "cell_type": "markdown",
   "metadata": {},
   "source": [
    "## Cypher Queries to tranform the Knowledge Graph"
   ]
  },
  {
   "cell_type": "code",
   "execution_count": 35,
   "metadata": {},
   "outputs": [
    {
     "data": {
      "text/plain": [
       "[{'source': 'https://www.sec.gov/Archives/edgar/data/1528396/000152839623000089/0001528396-23-000089-index.htm'},\n",
       " {'source': 'https://www.sec.gov/Archives/edgar/data/6955/000000695523000034/0000006955-23-000034-index.htm'},\n",
       " {'source': 'https://www.sec.gov/Archives/edgar/data/22444/000002244423000126/0000022444-23-000126-index.htm'},\n",
       " {'source': 'https://www.sec.gov/Archives/edgar/data/804328/000080432823000055/0000804328-23-000055-index.htm'},\n",
       " {'source': 'https://www.sec.gov/Archives/edgar/data/1005731/000149315223037384/0001493152-23-037384-index.htm'},\n",
       " {'source': 'https://www.sec.gov/Archives/edgar/data/1041803/000104180323000054/0001041803-23-000054-index.htm'},\n",
       " {'source': 'https://www.sec.gov/Archives/edgar/data/1616533/000162828023034807/0001628280-23-034807-index.htm'},\n",
       " {'source': 'https://www.sec.gov/Archives/edgar/data/1084869/000143774923025967/0001437749-23-025967-index.htm'},\n",
       " {'source': 'https://www.sec.gov/Archives/edgar/data/1477246/000095017023050149/0000950170-23-050149-index.htm'},\n",
       " {'source': 'https://www.sec.gov/Archives/edgar/data/1823584/000141057823002149/0001410578-23-002149-index.htm'}]"
      ]
     },
     "execution_count": 35,
     "metadata": {},
     "output_type": "execute_result"
    }
   ],
   "source": [
    "# Find all distinct sources for the text chunks in the knowledge graph...\n",
    "\n",
    "# MATCH a single node pattern \n",
    "# RETURN just the `source` property from each node\n",
    "cypher = \"\"\"\n",
    "  MATCH (all:Chunk) \n",
    "  RETURN DISTINCT all.source as source LIMIT 10\n",
    "\"\"\"\n",
    "\n",
    "kg.query(cypher)"
   ]
  },
  {
   "cell_type": "code",
   "execution_count": 36,
   "metadata": {},
   "outputs": [
    {
     "data": {
      "text/plain": [
       "[{'section_chunks': {'source': 'https://www.sec.gov/Archives/edgar/data/1528396/000152839623000089/0001528396-23-000089-index.htm',\n",
       "   'f10kItem': 'item1',\n",
       "   'chunkSeqId': 0}},\n",
       " {'section_chunks': {'source': 'https://www.sec.gov/Archives/edgar/data/1528396/000152839623000089/0001528396-23-000089-index.htm',\n",
       "   'f10kItem': 'item1',\n",
       "   'chunkSeqId': 1}},\n",
       " {'section_chunks': {'source': 'https://www.sec.gov/Archives/edgar/data/1528396/000152839623000089/0001528396-23-000089-index.htm',\n",
       "   'f10kItem': 'item1',\n",
       "   'chunkSeqId': 2}},\n",
       " {'section_chunks': {'source': 'https://www.sec.gov/Archives/edgar/data/1528396/000152839623000089/0001528396-23-000089-index.htm',\n",
       "   'f10kItem': 'item1',\n",
       "   'chunkSeqId': 3}},\n",
       " {'section_chunks': {'source': 'https://www.sec.gov/Archives/edgar/data/1528396/000152839623000089/0001528396-23-000089-index.htm',\n",
       "   'f10kItem': 'item1',\n",
       "   'chunkSeqId': 4}},\n",
       " {'section_chunks': {'source': 'https://www.sec.gov/Archives/edgar/data/1528396/000152839623000089/0001528396-23-000089-index.htm',\n",
       "   'f10kItem': 'item1',\n",
       "   'chunkSeqId': 5}},\n",
       " {'section_chunks': {'source': 'https://www.sec.gov/Archives/edgar/data/1528396/000152839623000089/0001528396-23-000089-index.htm',\n",
       "   'f10kItem': 'item1',\n",
       "   'chunkSeqId': 6}},\n",
       " {'section_chunks': {'source': 'https://www.sec.gov/Archives/edgar/data/1528396/000152839623000089/0001528396-23-000089-index.htm',\n",
       "   'f10kItem': 'item1',\n",
       "   'chunkSeqId': 7}},\n",
       " {'section_chunks': {'source': 'https://www.sec.gov/Archives/edgar/data/1528396/000152839623000089/0001528396-23-000089-index.htm',\n",
       "   'f10kItem': 'item1',\n",
       "   'chunkSeqId': 8}},\n",
       " {'section_chunks': {'source': 'https://www.sec.gov/Archives/edgar/data/1528396/000152839623000089/0001528396-23-000089-index.htm',\n",
       "   'f10kItem': 'item1',\n",
       "   'chunkSeqId': 9}},\n",
       " {'section_chunks': {'source': 'https://www.sec.gov/Archives/edgar/data/1528396/000152839623000089/0001528396-23-000089-index.htm',\n",
       "   'f10kItem': 'item1',\n",
       "   'chunkSeqId': 10}},\n",
       " {'section_chunks': {'source': 'https://www.sec.gov/Archives/edgar/data/1528396/000152839623000089/0001528396-23-000089-index.htm',\n",
       "   'f10kItem': 'item1',\n",
       "   'chunkSeqId': 11}},\n",
       " {'section_chunks': {'source': 'https://www.sec.gov/Archives/edgar/data/1528396/000152839623000089/0001528396-23-000089-index.htm',\n",
       "   'f10kItem': 'item1',\n",
       "   'chunkSeqId': 12}},\n",
       " {'section_chunks': {'source': 'https://www.sec.gov/Archives/edgar/data/1528396/000152839623000089/0001528396-23-000089-index.htm',\n",
       "   'f10kItem': 'item1',\n",
       "   'chunkSeqId': 13}},\n",
       " {'section_chunks': {'source': 'https://www.sec.gov/Archives/edgar/data/1528396/000152839623000089/0001528396-23-000089-index.htm',\n",
       "   'f10kItem': 'item1',\n",
       "   'chunkSeqId': 14}},\n",
       " {'section_chunks': {'source': 'https://www.sec.gov/Archives/edgar/data/1528396/000152839623000089/0001528396-23-000089-index.htm',\n",
       "   'f10kItem': 'item1',\n",
       "   'chunkSeqId': 15}},\n",
       " {'section_chunks': {'source': 'https://www.sec.gov/Archives/edgar/data/1528396/000152839623000089/0001528396-23-000089-index.htm',\n",
       "   'f10kItem': 'item1',\n",
       "   'chunkSeqId': 16}},\n",
       " {'section_chunks': {'source': 'https://www.sec.gov/Archives/edgar/data/1528396/000152839623000089/0001528396-23-000089-index.htm',\n",
       "   'f10kItem': 'item1',\n",
       "   'chunkSeqId': 17}},\n",
       " {'section_chunks': {'source': 'https://www.sec.gov/Archives/edgar/data/1528396/000152839623000089/0001528396-23-000089-index.htm',\n",
       "   'f10kItem': 'item1',\n",
       "   'chunkSeqId': 18}},\n",
       " {'section_chunks': {'source': 'https://www.sec.gov/Archives/edgar/data/1528396/000152839623000089/0001528396-23-000089-index.htm',\n",
       "   'f10kItem': 'item1',\n",
       "   'chunkSeqId': 19}},\n",
       " {'section_chunks': {'source': 'https://www.sec.gov/Archives/edgar/data/1528396/000152839623000089/0001528396-23-000089-index.htm',\n",
       "   'f10kItem': 'item1',\n",
       "   'chunkSeqId': 20}},\n",
       " {'section_chunks': {'source': 'https://www.sec.gov/Archives/edgar/data/1528396/000152839623000089/0001528396-23-000089-index.htm',\n",
       "   'f10kItem': 'item1',\n",
       "   'chunkSeqId': 21}},\n",
       " {'section_chunks': {'source': 'https://www.sec.gov/Archives/edgar/data/1528396/000152839623000089/0001528396-23-000089-index.htm',\n",
       "   'f10kItem': 'item1',\n",
       "   'chunkSeqId': 22}},\n",
       " {'section_chunks': {'source': 'https://www.sec.gov/Archives/edgar/data/1528396/000152839623000089/0001528396-23-000089-index.htm',\n",
       "   'f10kItem': 'item1',\n",
       "   'chunkSeqId': 23}},\n",
       " {'section_chunks': {'source': 'https://www.sec.gov/Archives/edgar/data/1528396/000152839623000089/0001528396-23-000089-index.htm',\n",
       "   'f10kItem': 'item1',\n",
       "   'chunkSeqId': 24}},\n",
       " {'section_chunks': {'source': 'https://www.sec.gov/Archives/edgar/data/1528396/000152839623000089/0001528396-23-000089-index.htm',\n",
       "   'f10kItem': 'item1',\n",
       "   'chunkSeqId': 25}},\n",
       " {'section_chunks': {'source': 'https://www.sec.gov/Archives/edgar/data/1528396/000152839623000089/0001528396-23-000089-index.htm',\n",
       "   'f10kItem': 'item1',\n",
       "   'chunkSeqId': 26}},\n",
       " {'section_chunks': {'source': 'https://www.sec.gov/Archives/edgar/data/1528396/000152839623000089/0001528396-23-000089-index.htm',\n",
       "   'f10kItem': 'item1',\n",
       "   'chunkSeqId': 27}},\n",
       " {'section_chunks': {'source': 'https://www.sec.gov/Archives/edgar/data/1528396/000152839623000089/0001528396-23-000089-index.htm',\n",
       "   'f10kItem': 'item1',\n",
       "   'chunkSeqId': 28}}]"
      ]
     },
     "execution_count": 36,
     "metadata": {},
     "output_type": "execute_result"
    }
   ],
   "source": [
    "# Gather all the chunks from a single source section...\n",
    "\n",
    "# MATCH the same single node pattern \n",
    "# RETURN only the first source\n",
    "# WITH that source, CALL a subquery\n",
    "# within the subquery, MATCH a new single node pattern\n",
    "# WHERE the chunks have the same `source` property \n",
    "# and are part of the same section named by the `f10kItem` property\n",
    "# RETURN those chunks, ordered by their `chunkSeqId` property\n",
    "cypher = \"\"\"\n",
    "  MATCH (all:Chunk) \n",
    "  WITH DISTINCT all.source as source LIMIT 1\n",
    "  CALL {\n",
    "      WITH source\n",
    "      MATCH (same_section:Chunk)\n",
    "      WHERE same_section.source = source\n",
    "        AND same_section.f10kItem = \"item1\"\n",
    "      RETURN same_section { .source, .f10kItem, .chunkSeqId} AS section_chunks\n",
    "      ORDER BY same_section.chunkSeqId ASC\n",
    "  }\n",
    "  RETURN section_chunks\n",
    "\"\"\"\n",
    "\n",
    "kg.query(cypher)"
   ]
  },
  {
   "cell_type": "code",
   "execution_count": 37,
   "metadata": {},
   "outputs": [
    {
     "data": {
      "text/plain": [
       "[{'section': \">Item 1.\\nBusiness\\nOverview and Purpose\\nGuidewire delivers a leading platform that property and casualty (“P&C”) insurers trust to engage, innovate, and grow efficiently. Guidewire’s platform combines core operations, digital engagement, analytics, machine learning, and artificial intelligence (“AI”) applications delivered as a cloud service or self-managed software. We began our principal operations in 2001.\\nOur core operational services and products are InsuranceSuite Cloud, InsuranceNow, and InsuranceSuite for self-managed installations. These services and products are transactional systems of record that support the entire insurance lifecycle, including insurance product definition, distribution, underwriting, policyholder services, and claims management. Our digital engagement applications enable digital sales, omni-channel service, and enhanced claims experiences for policyholders, agents, vendor partners, and field personnel. Our analytics offerings enable insurers to manage data more effectively, gain insights into their business, drive operational efficiencies, and underwrite new and evolving risks. To support P&C insurers globally, we have localized, and will continue to localize, our platform for use in a variety of international regulatory, language, and currency environments.\\nOur customers range from some of the largest global insurance companies or their subsidiaries to predominantly national or local insurers that serve specific states and/or regions. Our customer engagement is led by our direct sales team and supported by our system integrator (“SI”) partners. We maintain and continue to grow our sales and marketing efforts globally, and maintain regional sales centers throughout the world.Because our platform is critical to our new and existing customers’ businesses, their decision-making and product evaluation process is thorough, which often results in an extended sales cycle. These evaluation periods can extend further if a customer purchases multiple services and products or is considering a move to a cloud-based subscription for the first time. Sales to new customers also involve extensive customer due diligence and reference checks. The success of our sales efforts relies on continued improvements and enhancements to our current services and products, the introduction of new services and products, efficient operation of our cloud infrastructure, continued development of relevant local content and automated tools for updating content, and successful implementations and migrations.We sell our cloud-delivered offerings through subscription services and our self-managed products through term licenses. We generally price our services and products based on the amount of Direct Written Premium (“DWP”) that will be managed by our platform. Our subscription, term license, and support fees are typically invoiced annually in advance. Subscription services are generally sold with an initial term of between three and five years with optional annual renewals commencing after the initial term. Subscription revenue is recognized on a ratable basis over the committed term, once all revenue recognition criteria are met including providing access to the service. Term licenses are primarily sold with an initial two-year committed term with optional annual renewals commencing after the initial term. We may enter into term license arrangements with our customers that have an initial term of more than two years or may renew license arrangements for longer than one year. A small portion of our revenue is derived from perpetual licenses. Term and perpetual license revenue are typically recognized when software is made available to the customer, provided that all other revenue recognition criteria have been met. Our support revenue is generally recognized ratably over the committed support term of the licensed software. Our support fees are typically priced as a fixed percentage of the associated license fees. We also offer professional services, both directly and through SI partners, to help our customers deploy, migrate, and utilize our platform, services, and products. A majority of our services revenue is billed monthly on a time and materials basis.\\nIndustry Background\\nThe P&C insurance industry is large, fragmented, highly regulated, and complex. It is also highly competitive, with insurers competing primarily on product differentiation, pricing options, customer service, marketing and advertising, affiliate programs, and channel strategies.P&C insurers modernize their transactional core systems to manage key functional areas of P&C insurance, including product definition, underwriting and policy administration, claims management, and billing. Product definition specifies the insurance coverage, pricing, and financial and legal terms of insurance policies. Underwriting and policy administration includes collecting information from potential policyholders, determining appropriate coverages and terms, pricing policies, issuing policies, and updating and maintaining policies over their lifetimes. Claims management includes loss intake, investigation and evaluation of incidents, settlement negotiation, vendor management, litigation management, and payment processing. Billing includes policyholder invoicing, payment collection, and agent commission calculation. We believe insurers \\nTable of Contents\\nthat adopt modern core systems can enhance customer experience, operate more efficiently, and introduce innovative services and products more rapidly.\\nWe believe the P&C insurance industry is experiencing accelerating change in how insurers engage with, sell to, and manage relationships with consumers and businesses. Today, P&C insurers are striving to respond to significant changes in their competitive marketplace and the character of the risks they underwrite. The most significant changes include: \\n•\\nan industry rapidly going through change that requires agility and efficiency from its core systems;\\n•\\nan increase in catastrophes and natural disasters impacting the P&C insurance industry that requires agility and efficiency from its core systems;\\n•\\na rise in customer expectations for digital, mobile, and omni-channel interaction rather than the traditional agent model;\\n•\\na need for 100% digital engagement capabilities;\\n•\\na growth in demand for personalized services and products;\\n•\\nan increase in technology and market-driven changes in vehicular risk, including usage and driving habit based insurance;\\n••\\na growth in demand for personalized services and products;\\n•\\nan increase in technology and market-driven changes in vehicular risk, including usage and driving habit based insurance;\\n•\\nan increase in consolidation of providers of insurance products and associated rationalization of markets served given recent claims ratio trends and developments;\\n•\\ndemand for coverage of emerging risks such as terrorism, cybersecurity, pandemic, and reputational risk;\\n•\\na wealth of data and desire to harness data to improve and grow business;\\n•\\nadvances in the use of data and analytics to better market to and engage with customers, price policies, and manage claims;\\n•\\ndevelopment of opportunities to compete or partner with non-traditional players that offer disruptive technology-based value propositions;\\n•\\nestablished industry leaders are facing increased competition from new entrants in the market, including insurtech companies; and\\n•\\nthe introduction and leveraging of new technologies, such as drones, generative AI, large language models, the “Internet of Things,” chatbots, and telematics.\\nMany of these trends, such as digital engagement capabilities and data analytics, have increased in importance as a result of the recent pandemic and the resulting change to a more hybrid world. In response to these trends, changes, challenges, and opportunities, we believe that P&C insurers need a core system that can increase agility and enhance digital engagement and analytics offerings.  \\nWhile each insurer may have different goals and priorities when pursuing new technology investments, there are several major themes that we believe guide these investments: \\n•\\nDigital Engagement Models•\\nDigital Engagement Models\\n.  We believe that insurers will need to provide a more intuitive, digital user experience to reduce the risk of customer dissatisfaction and loss. Investment in digital user experience will allow insurers to deepen their engagement with customers and transition from passive and transactional customer interactions to active and advisory relationships. This transition will require investments in software services and products that are designed to model user journeys and enable more frequent, informed, and dynamic interactions between insurers and their customers. We believe these efforts can improve financial performance for insurers through increased lead conversions and lower customer churn.  \\n•\\nCloud-Delivered Solutions\\n.  We believe that increased recognition of the compelling economic benefits of deploying software solutions on public infrastructure combined with increased confidence in the security and reliability of such platforms will cause more insurers to consider cloud-deployed solutions. Insurers benefit from an optimized division of labor and risk and allowing third parties to manage their infrastructure as they focus on competitively differentiating activities.\\n•\\nData Driven Decision-Making\\n.  Insurers are seeking to explore, visualize, and analyze proprietary and third-party data to optimize decision-making across the insurance lifecycle. We believe that such predictive analytical solutions are most effective when they provide predictive scores and other analytical insights to insurers’ employees as they perform their underwriting and claims management activities. Insurers may also apply data \\nTable of Contents\\nand machine learning or AI to automate certain tasks whenever possible, thereby enabling efficiencies, such as straight-through processing, that lessen the burden on subject matter experts. \\n•\\nInnovation•\\nInnovation\\n. Insurers are under pressure to innovate across their product lifecycle in order to grow their business and improve service quality. Examples of focus areas include creating services and products to target under-insured risks such as cyber, supply chain disruption, and reputational risk and partnering with insurtech providers to streamline operations and improve service to policyholders and agents.  \\n•\\nLegacy System Modernization\\n.  A significant portion of the market continues to rely on legacy systems. We believe new claims, policy management, and billing systems will continue to be adopted as insurers that rely on legacy systems seek to gain operating efficiencies, expand into new markets and lines of business, and introduce new digital and data offerings. \\nProducts\\nGuidewire is designed so that insurers can increase revenue, reduce operational costs and losses, improve pricing, and engage with a customer base that increasingly demands convenience and automated forms of self-service and communication. We are investing in research and development to accelerate improvements in our cloud platform services, products, and marketplace to better serve our customers.\\nCore Operational Services and Products\\nWe offer the following core operational services and products: Guidewire InsuranceSuite Cloud, Guidewire InsuranceNow, and Guidewire InsuranceSuite for Self-Managed.\\nGuidewire InsuranceSuite Cloud\\nGuidewire InsuranceSuite Cloud is comprised of three primary applications (PolicyCenter Cloud, BillingCenter Cloud, and ClaimCenter Cloud) delivered via GWCP. InsuranceSuite Cloud applications can be licensed separately or together and are designed to support multiple releases each year to ensure that cloud customers remain on the latest version and gain fast access to our innovation efforts. InsuranceSuite Cloud is hosted on Amazon Web Services (“AWS”) and managed by our internal cloud operations team.Guidewire PolicyCenter Cloud is our flexible underwriting and policy administration application that serves as a comprehensive system-of-record supporting the entire policy lifecycle, including product definition, underwriting, quoting, binding, issuance, endorsements, audits, cancellations, and renewals. Guidewire BillingCenter Cloud automates the billing lifecycle, enables the design of a wide variety of billing and payment plans, manages agent commissions, and integrates with external payment systems. Guidewire ClaimCenter Cloud is a complete end-to-end claims management solution that offers core claims functionality. These primary applications also include predictive analytics that drive smart decisions, digital engagement, and an ecosystem of partners and insurtechs.GWCP is a Guidewire-developed infrastructure layer built on top of AWS that provides specialized cloud services, including multi-tenant cloud-native services that support the core operational services and integration of digital experiences and analytics. The Guidewire Data Platform is a P&C insurance-specific data repository, built on GWCP, which collects data from InsuranceSuite Cloud and InsuranceNow, as well as other internal and external sources, to provide analytical insights across the insurance lifecycle for our customers. The Guidewire Data Platform powers all analytical applications. Additionally, we provide tools for automation and self-service of routine implementation and deployment tasks to increase our customers’ agility while providing performance, availability, privacy, and security. Given the specialized needs of the P&C insurance industry, we have developed a scalable cloud architecture that combines these multi-tenant cloud services and tools with the ability to isolate each customer’s system of record and database instances. This approach provides our customers with the benefits of cloud-native infrastructure and services and the flexibility to provide differentiated services to their customers.\\nGuidewire InsuranceNow\\nGuidewire InsuranceNow is a complete, cloud-based core system for P&C insurers in the United States, delivered via GWCP, offering policy, billing, and claims management functionality, plus pre-integrated document production, analytics, and other capabilities, that increases agility without adding complexity. InsuranceNow is hosted on AWS and managed by our internal cloud operations team.\\nGuidewire InsuranceSuite for Self-Managed\\nTable of ContentsGuidewire InsuranceSuite for Self-Managed\\nTable of Contents\\nGuidewire InsuranceSuite for Self-Managed is comprised of three primary applications (PolicyCenter, BillingCenter, and ClaimCenter) that can be licensed separately or together and can be deployed and updated by our customers and their implementation partners on their premises or in a third-party cloud infrastructure.\\nGuidewire InsuranceSuite: Complementary Capabilities and Applications\\nWe offer several complementary capabilities and applications, some of which are included in the core operational services and products, designed to work seamlessly with our core operational services and products, including:\\nGuidewire Rating Management \\nGuidewire Rating Management enables P&C insurers to manage the pricing of their insurance services and products.\\nGuidewire Reinsurance Management\\nGuidewire Reinsurance Management enables P&C insurers to use rules-based logic to execute their reinsurance strategy through their underwriting and claims processes.\\nGuidewire Client Data Management\\nGuidewire Client Data Management helps P&C insurers capitalize on customer information more coherently, overcoming traditional siloed practices that impair efficiency and customer service.\\nGuidewire Advanced Product Designer\\nGuidewire Advanced Product Designer is a cloud-native application for insurance product design and management across the complete insurance lifecycle. It enables insurers to launch and update products quickly by providing visual product development tools, prebuilt product model templates, product management capability, and auto generated product code.\\nGuidewire Product Content ManagementGuidewire Product Content Management\\nGuidewire Product Content Management provides software tools and standards-based, line-of-business templates to enable insurers to more rapidly introduce and modify services and products by reducing product configuration and maintenance efforts. Any such product introduction or modification must connect to and incorporate regulatory or industry-standard data and content, such as Insurance Services Office (“ISO”) or National Council on Compensation Insurance (“NCCI”) content.\\nGuidewire Underwriting Management\\nGuidewire Underwriting Management is a cloud-based, integrated business application designed for commercial and specialty line insurers to drive premium growth and profit from better underwriting. This feature-rich workstation delivers straight-through processing, exception-based underwriting, real-time collaboration, and knowledge management in one integrated solution. Guidewire Underwriting Management is typically sold alongside Guidewire PolicyCenter, although it functions with other policy administration systems as well.\\nGuidewire AppReader\\nGuidewire AppReader is a submission intake management solution that enables P&C insurers to process Association for Cooperative Operations Research and Development (“ACORD”) forms faster and more accurately than with manual processes or traditional upload solutions. AppReader is available for both Guidewire Underwriting Management and Guidewire PolicyCenter.\\nGuidewire ClaimCenter Package for the London Market\\nGuidewire ClaimCenter Package for the London Market supports the claims workflow used by London Market insurers and brokers. Integration of London Market Electronic Claims File (“ECF”) Write-Back lets insurers perform tasks and interact with the central industry market Claims Loss and Advice Settlement system directly from Guidewire ClaimCenter through message queues.\\nDigital Engagement\\n Guidewire Digital Engagement Applications \\nTable of ContentsDigital Engagement\\n Guidewire Digital Engagement Applications \\nTable of Contents\\nOur Digital Engagement Applications enable insurers to provide digital experiences to customers, agents, vendors, and field personnel through their device of choice. As consumers increasingly use self-service functions on the internet and on mobile devices, we believe that many of them prefer to interact with their insurance providers digitally and that they expect to have a consistent and efficient transactional experience through multiple channels, whether online, in-person or by phone. Our Digital Engagement Applications also benefit agents and brokers who are seeking to automate business processes with insurers to improve customer service and productivity. In order to provide a holistic experience, Digital Applications are unified with InsuranceSuite.\\n Guidewire for Salesforce\\nGuidewire for Salesforce integrates Guidewire core systems with Salesforce for insurance carrier agents and service representatives. It provides customer information regarding their policies and claims.\\nData, Analytics, and Artificial Intelligence\\nWe offer a variety of applications that allow insurers to uncover hidden opportunities and write more profitable business by enabling a seamless path from data to value.\\nGuidewire Predict\\nGuidewire Predict is a P&C-specific machine-learning platform that empowers insurers to make intelligent data-driven decisions throughout the insurance lifecycle. By building (or importing) predictive models built from multiple data sets, designing comprehensive solutions, and operationalizing the predictive insights, Predict allows insurers to rapidly turn any model into business value by delivering guidance to frontline decision makers. Predict for Claims helps customers to better manage claim indemnity and loss-adjustment expenses. Predict for Profitability improves pricing accuracy and customer satisfaction.\\nGuidewire HazardHubGuidewire HazardHub\\nGuidewire HazardHub allows insurers to understand, assess, price, and manage property risk quickly and intelligently. HazardHub provides a single source of geospatial risk data, and provides access to more than 950 risk variables, including perils from air, water, earth, and fire. HazardHub is a cloud-native solution delivered through an Application Programming Interface (“API”) that provides access to this information for any personal or commercial property located in the United States, and has the ability to evaluate an entire portfolio for property risk.\\nGuidewire Canvas\\nGuidewire Canvas is a cloud-native application included with ClaimCenter Cloud. It features an interactive map that enables claims management and catastrophe response teams to geo-visualize claims to help improve customer satisfaction and reduce indemnity by proactively responding to storm events.\\nGuidewire Compare\\nGuidewire Compare is a cloud-native application included with ClaimCenter Cloud that monitors key claims measures and gives feedback on how those compare against peer insurers in the Guidewire community, or within a single insurer across regions or over time. Compare allows claims organizations to increase their processing efficiency by monitoring key claims measures such as indemnity, expenses, cycle times, reserves, salvage, subrogation, percentage closed, catastrophe, and litigated.\\nGuidewire Explore\\nGuidewire Explore is a cloud-native application that gathers and curates InsuranceSuite data in near real-time to augment decision making inside and outside InsuranceSuite. Explore includes free-form search across the data set, along with visualizations and dashboards for common business metrics. It allows business users to examine operational claims data, underwriting management data, and operational policy data.\\nTable of Contents\\nGuidewire CyenceTable of Contents\\nGuidewire Cyence\\nGuidewire Cyence is a cyber-risk economic modeling product that helps P&C insurers accurately measure the financial impact of cyber risk on their customers. It does this by capturing data about cyber threats from more than 400 sources, including public data, open-source data, proprietary, and third-party data. Cyence then curates and analyzes the data through AI and machine-learning statistical models to extract meaningful signals. Based on these models, Cyence produces insights delivered through reports that will predict the likelihood and economic impact of cyber attacks on a target company or individual.  This can be used for underwriting, pricing, and developing cyber insurance products.\\nGuidewire DataHub and InfoCenter\\nGuidewire DataHub is an operational data store that unifies, standardizes, and stores data from the patchwork of insurer’s systems as well as from external sources. It is available for self-managed and InsuranceSuite Cloud customers.\\nGuidewire InfoCenter is a business intelligence warehouse for P&C insurers that provides information in easy-to-use formats for business intelligence, analysis, and enhanced decision making. With Guidewire InfoCenter, insurers gain flexible operational insights as well as the ability to optimize their business.\\nGuidewire MarketplaceGuidewire Marketplace\\nThe Guidewire Marketplace is where insurers find trusted applications and content that complement the Guidewire platform from our PartnerConnect partners, as well as from Guidewire product and services teams. These applications and content help insurers to rapidly innovate and differentiate their businesses by allowing them to leverage capabilities provided by the Guidewire ecosystem to meet their business goals. The Guidewire Marketplace also empowers customers pursuing innovation initiatives by providing access to a curated collection of insurtech applications. As of July\\xa031, 2023, the Guidewire Marketplace had over 210 partner-developed integrations that have been awarded Ready for Guidewire validation and hundreds of Guidewire-developed resources available for download. We are continually expanding the breadth of functionality and depth of partnerships in the Guidewire Marketplace.\\nTechnology\\nWe have increased the scope of our platform and business through internal development and acquisitions. This growing scope has required greater investment in the development of application interfaces and shared services necessary to unify the operations and user experience across our applications. The prioritization of cloud-delivered solutions has also required significant focus in improving our ability to manage, secure, and operate our applications since our cloud-based deployments, unlike our self-managed implementations, shift many operational responsibilities to us.Our cloud infrastructure is designed to maximize the security, stability, scalability and efficiency of our applications. Our cloud infrastructure leverages AWS, provides services hosted in AWS regions worldwide, and is tailored to provide both the benefit of cloud subscription services delivered in a cloud-native multi-tenant model while still providing insurers with the ability to configure and extend their applications via single-tenant environments which are easily managed via Guidewire Cloud Console. All of our cloud services and products comply with standards set by ISO, AICPA, and PCI SSC.   \\nFinally, we continue to improve the scalability of our service, which performs millions of complex, business-critical transactions daily. The accuracy and availability of our services must be maintained not only during normal business operations, but also during extraordinary events such as catastrophes, which may result in extremely high transaction volume in a short period of time. \\nServices\\nWe provide implementation, cloud migration, and integration services to help our customers realize the benefits of our cloud-based services and software products. Our delivery services teams assist customers in building implementation or migration plans, integrating our software with their existing systems, and defining business rules and specific requirements unique to each customer. We also partner with leading SI consulting firms, certified on our software, to achieve scalable, cost-effective implementations for our customers. \\nOur investments in services and partners are designed to ensure customer success by committing additional resources to both cloud-based and self-managed implementation projects.\\nCustomer Support\\nTable of ContentsCustomer Support\\nTable of Contents\\nWe provide support for our subscription customers as part of our subscription services and to our license customers for an annual fee based on a percentage of the license fees. Subscription services also include regular updates to Guidewire software to ensure that Guidewire Cloud customers can easily access our latest innovations. New capabilities are often toggled-off so that customers can activate them at the right time for their businesses. This enables our customers to deliver improvements at a steady pace, optimized for their employees and customers. \\nOur subscriptions include Guidewire Cloud Assurance Services, which provides for review of all configurations and integrations to ensure they follow published standards, best practices and required security methodologies. Furthermore, our internal cloud operations team monitors application performance and our customer success team works directly with customers to optimize adoption, user experience, and business requirements.\\nEmployees and Human Capital Resources\\nOur business requires attracting, developing, and retaining a motivated team of individuals who thrive in a culture based on integrity, rationality, and collegiality and that embraces diversity, inclusion, and belonging. Understanding and proactively anticipating the priorities and needs of our current and future employees is important to realizing our mission to be the platform P&C insurers trust to engage, innovate, and grow efficiently.\\nAs of July\\xa031, 2023, we had 3,415 employees, including 1,717 in global product development and operations (comprised of research and development, cloud operations, and technical support), 784 in professional services, 463 in sales and marketing, and 451 in general and administrative roles. As of July\\xa031, 2023, we had 1,709 employees in the United States and 1,706 employees internationally.\\nAttracting, Developing, and Retaining EmployeesAttracting, Developing, and Retaining Employees\\nOur recruiting, development, and retention objectives focus on providing an optimal employee experience and culture across the employee life cycle from recruitment to retirement, and involves attracting skilled and engaged employees who contribute the talent and diverse perspectives critical to our innovative, forward-looking, and inclusive workforce. Our recruiting process actively sources diverse talent and is designed to reduce bias, supporting our ability to hire candidates with professional qualifications, personal potential, and differing perspectives. Our flexible work policies expand our ability to hire and retain talent in geographies where we do not have physical offices. Fostering career progression by encouraging regular professional education empowers our employees to pursue their professional goals, which is critical to developing and retaining our employees. We invest in broad-based development for all of our employees in various ways such as skills-building programs, on-demand learning options, mentoring programs, and leadership development courses. In an effort to create more development opportunities for all employees, we are currently expanding our mentoring and leadership development programs. We gauge progress and efficacy, identify opportunities for change, and pursue solutions through tracking and analyzing data from various sources such as annual talent reviews, employee feedback, and our progress toward hiring and promotion goals in our development, diversity and inclusion plans.\\nDiversity, Inclusion, and BelongingDiversity, Inclusion, and Belonging\\nWe believe that understanding and respecting another’s perspective, experience, background, and beliefs provides an opportunity to expand horizons, challenge complacency, and foster empathy. Diversity of perspective, experience, background, and beliefs fuel our innovative, collaborative, and engaged workplace. We aim for the highest standards of fairness and equal opportunity in recruitment, hiring, promotions, job assignments, and compensation. Initiatives to create greater diversity and belonging among our employees include inclusive recruiting and outreach programs for diverse candidates, employee resource groups (“ERGs”), and management-led listening circles. Our ERGs are employee-led and comprised of volunteers who represent common interests, experiences, backgrounds, or demographics. As of the end of fiscal year 2023, we had eight ERGs including Women’s Leadership, African Ancestry, LGBTQ+ and Allies, Asian and Pacific Islander, Latinx and Hispanic, Early Career Professionals, Visible or Invisible Disabilities, and Veterans groups.\\nGuidewire Gives Back (“GGB”) is a program focused on investing in local communities where we operate by encouraging employee volunteerism, philanthropy, and social impact investment. The GGB program is centered around employee engagement and community impact through volunteer hours from the Guidewire community and financial donations, both of which are geared toward making a measurable difference. The GGB strategy, programs, and collaborative partnerships reflect employees’ passions and embody Guidewire’s corporate mission as well as our customers' purpose.\\nCorporate Culture\\nOur employees are critical to our success, and we believe creating an inclusive culture is essential to attracting and retaining engaged employees. Our values of integrity, rationality, and collegiality are the foundation of how we work with one \\nTable of ContentsTable of Contents\\nanother. We incorporate a wide variety of communication and training activities to encourage collaboration amongst our colleagues around the world. We measure the program’s efficacy and identify opportunities for improvements through an engagement survey distributed annually, with the last survey completed in July 2023 and periodic pulse surveys to elicit feedback.\\nHealth and Wellness\\nWe believe a healthy, engaged, and high-performing workforce is part of our competitive advantage. We want all of our employees to thrive, and we regularly re-evaluate how to best support our employees’ wellness, health, and safety through management systems, policies, and programs that encompass our global operations. Our current benefit and wellness programs drive engagement that positively impacts our culture, job satisfaction, recruiting, and retention programs. In response to the recent pandemic, we expanded our physical, mental, and family health programs and informational outreach through professional development opportunities and personal empowerment, safe and healthy workspaces, wellness initiatives (including physical, emotional, and mental health), fair compensation, benefits, and recognition. Additionally, we have transitioned to a hybrid work environment in which a significant portion of our workforce works either in-person on a part-time basis or remotely on a permanent basis. \\nEmployee RelationsEmployee Relations\\n Our employees in the United States are not represented by a labor union; however, in certain foreign locations, there are workers’ councils that represent our employees. We have not experienced any work stoppages, and we consider our relations with our employees to be good. We recognize the critical role that our supervisors and managers play in fostering a productive, inclusive and respectful work environment, and we encourage employees to work directly with their supervisors, where possible, to efficiently and effectively resolve workplace concerns. We also respect our employees’ rights to voluntarily establish and join unions and similar associations without unlawful interference. We strive to work collaboratively with the councils and associations that represent our workers.\\nCustomers\\nWe market and sell our services and products to a wide variety of global P&C insurers ranging from some of the largest global insurers to national, regional, and state companies. We believe strong customer relationships are a key driver of our success given the long-term nature of our customer engagements and importance of customer references for new sales. We focus on developing and maintaining our customer relationships through customer service and account management. Customers are defined as entities that have placed orders for our services or products. In some instances, a parent corporation can have multiple entities, or insurance brands, that place orders for our services or products and, in other instances, customers are in industries adjacent to the insurance industry and do not have an insurance brand. As of July\\xa031, 2023, we had approximately 580 customers representing approximately 540 insurance brands in 40 countries.\\nStrategic RelationshipsStrategic Relationships\\nWe have extensive relationships with SI, consulting, technology, and industry partners. Our network of partners has expanded as interest in and adoption of our platform has grown. We encourage our partners to co-market, pursue joint sales initiatives, and drive broader adoption of our technology, helping us grow our business more efficiently and enabling us to focus our resources on continued innovation and further enhancement of our solutions.\\nWe work closely with our network of third-party SI partners to facilitate new sales and implementations of both our subscription services and self-managed products. Our partnerships with leading SI partners allow us to increase efficiency and scale while reducing customer implementation costs. We continue to invest time and resources to increase the number of qualified consultants employed by our SI partners, develop relationships with new partners in existing and new markets, and ensure that all SI partners are qualified to assist with implementing our services and products. We believe this model will continue to serve us well, and we intend to continue to expand our network of partners and the number of certified consultants with whom we work so we can leverage our SI partners more effectively, especially for future subscription implementations. \\nAs part of our PartnerConnect alliance program, we have a community of solution partners developing integrations that enable software and insurance business solutions to interoperate with our services and products, many of which are in the Guidewire Marketplace. These integrations help customers reduce implementation risk and effort, and lower the total cost of implementation and operation. \\nSales and Marketing\\nTable of ContentsSales and Marketing\\nTable of Contents\\nConsistent with our industry focus and the mission-critical needs our services and products address, our sales and marketing efforts are tailored to communicate effectively to senior executives within the P&C insurance industry.\\xa0Our sales, marketing, customer success, and executive teams work together to cultivate long-term relationships with current and prospective customers in each of the geographies in which we are active.\\nOur direct sales team serves as both our exclusive sales channel and our account management function and is organized by geographic region across the Americas, EMEA, and APAC.\\xa0We augment our sales professionals with a pre-sales team possessing insurance domain and technical expertise, who engage customers to understand their specific business needs and then represent our services and products through demonstrations tailored to address those needs.\\nOur marketing team supports sales with competitive analysis and sales tools, while investing to strengthen our brand name and reputation.\\xa0We participate at industry conferences, are published frequently in the industry press, and have active relationships with all of the major industry analysts.\\xa0We also host Connections, our annual user conference where customers both participate in and deliver in-person and virtual presentations on a wide range of Guidewire and insurance technology topics. We invite potential customers and partners to our user conference, as we believe customer references are a key component of driving new sales. Our strong relationships with leading system integrators enhance our direct sales through co-marketing efforts and by providing additional market validation of the distinctiveness and quality of our offerings.\\nResearch and DevelopmentResearch and Development\\nOur research and development efforts focus on enhancing our platform, services, and products to meet the complex requirements of P&C insurers with a focus on capabilities, operational efficiency, data analytics, security, and privacy in the cloud. These efforts are intended to help our customers improve their operations; drive greater digital engagement with their customers, agents, and brokers; and gather, store and analyze data to improve business decisions. We also invest significantly in developing our services and products and necessary integrations to meet the market requirements, including regulations, language, currency, and local terminology, of each country or state in which our customers operate. This market-segment specific functionality must be updated regularly in order to stay current with regulatory changes in each market. We rely on a multi-national engineering team, which has grown organically and through acquisitions. \\nOur investments in cloud operations are focused on managing the infrastructure for our cloud-based customers in a secure, efficient, and cost-effective manner.\\nCompetitionOur investments in cloud operations are focused on managing the infrastructure for our cloud-based customers in a secure, efficient, and cost-effective manner.\\nCompetition\\nThe software market that caters to the P&C insurance industry is highly competitive and fragmented. Increased spending by insurers on software solutions and the emergence of new platforms that have broadened from core system modernization to new digital engagement and data and analytics solutions have generated significant interest among investors and entrepreneurs. Increased capital allows market participants, or potential market participants such as insurtech companies, to adopt more aggressive go-to-market strategies, improve existing services or products, introduce new services or products, develop innovative solutions that disrupt the market, and consolidate with other vendors. This market is also subject to changing technology preferences, shifting customer needs, and the adoption of cloud deployed solutions. These factors create an environment of increasing competition. Our current and future competitors vary in size and in the breadth and scope of the services or products they offer. As we expand our product portfolio, we may begin to compete with software and service providers we have not traditionally competed against. Our current competitors include, but are not limited to, customers’ internally developed proprietary solutions; P&C insurance software vendors such as Duck Creek, EIS Group, Insurity, Majesco, Origami Risk, and Sapiens; and horizontal software vendors such as SAP SE and Salesforce.Competitive factors in our industry depend on the product being offered and the size, geographic market, and line of business of potential customers. The principal competitive factors include product functionality, performance, customer references, total cost of ownership, solution completeness, implementation track record, security and in-depth knowledge of the P&C insurance industry. We typically compete favorably on the basis of these factors in most geographies.\\nIntellectual Property\\nThe software industry is characterized by the existence of a large number of patents and frequent claims and related litigation regarding patent and other intellectual property rights. Our success and ability to compete depend in part upon our ability to protect our proprietary technology, to establish and adequately protect our intellectual property rights, and to protect against third-party claims and litigation related to intellectual property. To accomplish these objectives, we rely on a combination of patent, trademark, copyright, and trade secret laws in the United States and other jurisdictions, as well as license agreements and other contractual protections. We own or have pending patents and patent applications, which generally apply \\nTable of Contents\\nto our software. Our owned patents have expiration dates starting in 2025. We also rely on several registered and unregistered trademarks, as well as pending applications for such registrations, in order to protect our brand both in the United States and internationally.\\nInformation about Segment and Geographic Revenue\\nInformation about geographic revenue is set forth in Note 2 “Revenue” and information about segment reporting is set forth in Note\\xa013 “Segment Information” to our consolidated financial statements included in this Annual Report on Form 10-K.\\nSeasonalitySeasonality\\nWe have experienced seasonal variations in our license revenue and, to a lesser extent, in our subscription revenue as a result of increased customer orders in our fourth fiscal quarter. We generally see significantly increased orders in our fourth fiscal quarter, which is the quarter ending July 31, due to efforts by our sales team to achieve annual incentives. Because we recognize revenue upfront for new term licenses and multi-year renewals compared to over time for subscription services, changes in the mix between term license and subscription services may impact our quarterly results. Additionally, any quarter in which a significant multi-year term license or multi-year term license renewal or non-renewal occurs could be impacted. As subscriptions increase as a percentage of total sales, the revenue we can recognize in the initial fiscal quarter and fiscal year of an order is reduced, deferred revenue increases, and our reported revenue growth will be adversely affected in the near term due to the ratable nature of these arrangements. The concentration of our sales in our fiscal fourth quarter increases this impact as the revenue impact of most fiscal fourth quarter subscription sales will not be realized until the following fiscal year.Our services revenue is also subject to seasonal fluctuations, though to a lesser degree than our license revenue and subscription revenue. Our services revenue is impacted by the number of billable days in a given fiscal quarter. The fiscal quarter ending January 31 usually has fewer billable days due to the impact of the Thanksgiving, Christmas, and New Year’s holidays. The fiscal quarter ending July 31 usually has fewer billable days due to the impact of vacations taken by our services professionals. Because we pay our services professionals the same amount throughout the year, our gross margins on our services revenue are usually lower in these quarters. This seasonal pattern, however, may be absent in any given year. \\nWHERE YOU CAN FIND MORE INFORMATION\\nThe following filings are available to view and download free of charge on our investor relations website as soon as reasonably practicable after we file them with the SEC: Annual Report on Form 10-K, Quarterly Reports on Form 10-Q, Current Reports on Form 8-K, and our Proxy Statement for our annual meeting of stockholders. Our website is located at \\nwww.guidewire.com\\n, and our investor relations website is located at \\nir.guidewire.com\\n. We also provide a link to the section of the SEC’s website at \\nwww.sec.gov\\n that has all of our public filings, including periodic reports, proxy statements, and other information.. We also provide a link to the section of the SEC’s website at \\nwww.sec.gov\\n that has all of our public filings, including periodic reports, proxy statements, and other information. \\nWe provide access to a recording of our earnings calls and certain events we participate in or host with members of the investment community on our investor relations website. Additionally, we also provide notifications on our investor relations website of news or announcements regarding our financial performance, including SEC filings, investor events, press releases, and earnings releases. Investors and others can receive notifications of new information posted on our investor relations website in real time by signing up for email alerts and RSS feeds. Corporate governance information, including our governance guidelines and code of business conduct and ethics, is also available on our investor relations website under the heading “Corporate Governance.” Corporate sustainability information, including our approach and progress in respect of environmentally and socially responsible business practices, is available on our website and is located at www.guidewire.com/corporate-sustainability. The contents of our websites, including any information contained in reports or other resources found on such websites, are not intended to be incorporated by reference into this Annual Report on Form 10-K or in any other report or document we file with the SEC. Any references to our websites are intended to be inactive, textual references only.\\nTable of Contents\"}]"
      ]
     },
     "execution_count": 37,
     "metadata": {},
     "output_type": "execute_result"
    }
   ],
   "source": [
    "# Recreate the section text from the chunks...\n",
    "\n",
    "# MATCH the same single node pattern \n",
    "# RETURN only the first source\n",
    "# WITH that source, CALL a subquery\n",
    "# within the subquery, MATCH a new single node pattern\n",
    "# WHERE the chunks have the same `source` property \n",
    "# and are part of the same section named by the `f10kItem` property\n",
    "# RETURN text from those chunks, concatenated into a single string using `reduce()`\n",
    "cypher = \"\"\"\n",
    "  MATCH (all:Chunk) \n",
    "  WITH DISTINCT all.source as source LIMIT 1\n",
    "  CALL {\n",
    "      WITH source\n",
    "      MATCH (same_section:Chunk)\n",
    "      WHERE same_section.source = source\n",
    "        AND same_section.f10kItem = \"item1\"\n",
    "      RETURN same_section { .source, .f10kItem, .chunkSeqId, .text} AS section_chunks\n",
    "      ORDER BY same_section.chunkSeqId ASC\n",
    "  }\n",
    "  RETURN reduce(section = \"\", chunk in collect(section_chunks) | section + chunk.text) as section\n",
    "\"\"\"\n",
    "\n",
    "kg.query(cypher)"
   ]
  },
  {
   "cell_type": "code",
   "execution_count": 38,
   "metadata": {},
   "outputs": [
    {
     "data": {
      "text/plain": [
       "[]"
      ]
     },
     "execution_count": 38,
     "metadata": {},
     "output_type": "execute_result"
    }
   ],
   "source": [
    "# Connect section chunks into a linked list..\n",
    "\n",
    "# MATCH the same single node pattern \n",
    "# RETURN only the first source\n",
    "# WITH that source, CALL a subquery\n",
    "# within the subquery, MATCH a new single node pattern\n",
    "# WHERE the chunks have the same `source` property \n",
    "# and are part of the same section named by the `f10kItem` property\n",
    "# WITH those chunks collected together\n",
    "# CALL apoc.nodes.link() to create a linked list\n",
    "cypher = \"\"\"\n",
    "  MATCH (all:Chunk) \n",
    "  WITH DISTINCT all.source as source LIMIT 1\n",
    "  CALL {\n",
    "      WITH source\n",
    "      MATCH (same_section:Chunk)\n",
    "      WHERE same_section.source = source\n",
    "        AND same_section.f10kItem = \"item1\"\n",
    "      RETURN same_section AS section_chunks\n",
    "      ORDER BY same_section.chunkSeqId ASC\n",
    "  }\n",
    "  WITH collect(section_chunks) as section\n",
    "  CALL apoc.nodes.link(section, \"NEXT\", {avoidDuplicates: true}) \n",
    "\"\"\"\n",
    "\n",
    "kg.query(cypher)\n"
   ]
  },
  {
   "cell_type": "code",
   "execution_count": 39,
   "metadata": {},
   "outputs": [
    {
     "data": {
      "text/plain": [
       "[]"
      ]
     },
     "execution_count": 39,
     "metadata": {},
     "output_type": "execute_result"
    }
   ],
   "source": [
    "# Connect the linked list of chunks to a parent `Form` node..\n",
    "\n",
    "# MATCH the same single node pattern \n",
    "# RETURN only the first source\n",
    "# WITH that source, CALL a subquery\n",
    "# within the subquery, MATCH a new single node pattern\n",
    "# WHERE the chunks have the same `source` property \n",
    "# and are part of the same section named by the `f10kItem` property\n",
    "# WITH those chunks collected together\n",
    "# CALL apoc.nodes.link() to create a linked list\n",
    "cypher = \"\"\"\n",
    "  MATCH (all:Chunk) \n",
    "  WITH DISTINCT all.source as source LIMIT 1\n",
    "  CALL {\n",
    "      WITH source\n",
    "      MATCH (same_section:Chunk)\n",
    "      WHERE same_section.source = source\n",
    "        AND same_section.f10kItem = \"item1\"\n",
    "      RETURN same_section AS section_chunks\n",
    "      ORDER BY same_section.chunkSeqId ASC\n",
    "  }\n",
    "  WITH source, collect(section_chunks) as section\n",
    "  MERGE (parent:Form {source: source })\n",
    "    ON CREATE \n",
    "      SET parent.formId = section[0].formId\n",
    "      SET parent.cik = section[0].cik\n",
    "      SET parent.cusip6 = section[0].cusip6\n",
    "\"\"\"\n",
    "\n",
    "kg.query(cypher)"
   ]
  },
  {
   "cell_type": "code",
   "execution_count": 42,
   "metadata": {},
   "outputs": [
    {
     "data": {
      "text/plain": [
       "[]"
      ]
     },
     "execution_count": 42,
     "metadata": {},
     "output_type": "execute_result"
    }
   ],
   "source": [
    "# Connect all section chunks to their parent `Form` node...\n",
    "\n",
    "# MATCH a double node pattern, for the `Chunk` and `Form` nodes\n",
    "# WHERE the `Chunk` and `Form` nodes have the same `formId` property\n",
    "# (this is exactly like a JOIN in SQL)\n",
    "# connect the pairs with a (:Chunk)-[:PART_OF]->(:Form) relationship\n",
    "cypher = \"\"\"\n",
    "  MATCH (section:Chunk), (parent:Form)\n",
    "  WHERE section.formId = parent.formId\n",
    "  MERGE (section)-[:PART_OF]->(parent)\n",
    "\"\"\"\n",
    "\n",
    "kg.query(cypher)"
   ]
  },
  {
   "cell_type": "code",
   "execution_count": 43,
   "metadata": {},
   "outputs": [
    {
     "data": {
      "text/plain": [
       "[]"
      ]
     },
     "execution_count": 43,
     "metadata": {},
     "output_type": "execute_result"
    }
   ],
   "source": [
    "# Connect all parent `Form` nodes to the \"head\" of each section linked list...\n",
    "\n",
    "# MATCH a double node pattern, for the `Chunk` and `Form` nodes\n",
    "# WHERE the `Chunk` and `Form` nodes have the same `formId` property\n",
    "# (this is exactly like a JOIN in SQL)\n",
    "# connect the pairs with a (:Chunk)-[:PART_OF]->(:Form) relationship\n",
    "cypher = \"\"\"\n",
    "  MATCH (section:Chunk), (parent:Form)\n",
    "  WHERE section.formId = parent.formId\n",
    "    AND section.chunkSeqId = 0\n",
    "  MERGE (parent)-[:SECTION {f10kItem:section.f10kItem}]->(section)\n",
    "\"\"\"\n",
    "\n",
    "kg.query(cypher)"
   ]
  },
  {
   "cell_type": "markdown",
   "metadata": {},
   "source": [
    "## Neo4j Utility Functions"
   ]
  },
  {
   "cell_type": "code",
   "execution_count": 133,
   "metadata": {},
   "outputs": [],
   "source": [
    "def neo4j_vector_search(kg: Neo4jGraph, embeddings_model: OpenAIEmbeddings,\n",
    "                        index_name: str, query: str, top_k: int = 10) -> List:\n",
    "  \"\"\"Search for similar nodes using the Neo4j vector index\"\"\"\n",
    "  embedded_query = embeddings_model.embed_query(query)\n",
    "  vector_search = f\"\"\"\n",
    "    CALL db.index.vector.queryNodes($index_name, $top_k, $embedding) yield node, score\n",
    "    RETURN node.text AS result\n",
    "  \"\"\"\n",
    "  similar = kg.query(vector_search, params={'embedding': embedded_query, 'index_name':index_name, 'top_k': top_k})\n",
    "  return similar"
   ]
  },
  {
   "cell_type": "markdown",
   "metadata": {},
   "source": [
    "## Prepare Neo4j indexes"
   ]
  },
  {
   "cell_type": "code",
   "execution_count": 40,
   "metadata": {},
   "outputs": [
    {
     "data": {
      "text/plain": [
       "[]"
      ]
     },
     "execution_count": 40,
     "metadata": {},
     "output_type": "execute_result"
    }
   ],
   "source": [
    "# Create a uniqueness constraint on the textId property of Text nodes \n",
    "kg.query('CREATE CONSTRAINT unique_form IF NOT EXISTS FOR (n:Form) REQUIRE n.formId IS UNIQUE')\n"
   ]
  },
  {
   "cell_type": "markdown",
   "metadata": {},
   "source": [
    "## Load Form 10k documents\n",
    "\n",
    "1. iterate through all the files in the directory\n",
    "2. batch load sets of the files\n",
    "3. for each file, load the content and split the text into chunks\n",
    "4. for each chunk, create a graph Node that includes metadata and the chunk text"
   ]
  },
  {
   "cell_type": "code",
   "execution_count": 114,
   "metadata": {
    "collapsed": false
   },
   "outputs": [
    {
     "name": "stdout",
     "output_type": "stream",
     "text": [
      "=== Processing 0:20 of 79 ===\n",
      "Loading and splitting Text Files...\n",
      "Performing Text Embedding...\n",
      "Loading Nodes...\n",
      "======  loading Chunk nodes  ======\n",
      "staging 2,485 records\n",
      "\n",
      "Using This Cypher Query:\n",
      "```\n",
      "UNWIND $recs AS rec\n",
      "MERGE(n:Chunk {chunkId: rec.chunkId})\n",
      "SET n.cik = rec.cik, n.cusip6 = rec.cusip6, n.source = rec.source, n.f10kItem = rec.f10kItem, n.chunkSeqId = rec.chunkSeqId, n.text = rec.text\n",
      "RETURN count(n) AS nodeLoadedCount\n",
      "```\n",
      "\n",
      "Done Processing 0:20\n",
      "======  loading Document text embeddings ======\n",
      "staging 2,485 records\n",
      "Set 100 of 2,485 text embeddings\n",
      "Set 200 of 2,485 text embeddings\n",
      "Set 300 of 2,485 text embeddings\n",
      "Set 400 of 2,485 text embeddings\n",
      "Set 500 of 2,485 text embeddings\n",
      "Set 600 of 2,485 text embeddings\n",
      "Set 700 of 2,485 text embeddings\n",
      "Set 800 of 2,485 text embeddings\n",
      "Set 900 of 2,485 text embeddings\n",
      "Set 1,000 of 2,485 text embeddings\n",
      "Set 1,100 of 2,485 text embeddings\n",
      "Set 1,200 of 2,485 text embeddings\n",
      "Set 1,300 of 2,485 text embeddings\n",
      "Set 1,400 of 2,485 text embeddings\n",
      "Set 1,500 of 2,485 text embeddings\n",
      "Set 1,600 of 2,485 text embeddings\n",
      "Set 1,700 of 2,485 text embeddings\n",
      "Set 1,800 of 2,485 text embeddings\n",
      "Set 1,900 of 2,485 text embeddings\n",
      "Set 2,000 of 2,485 text embeddings\n",
      "Set 2,100 of 2,485 text embeddings\n",
      "Set 2,200 of 2,485 text embeddings\n",
      "Set 2,300 of 2,485 text embeddings\n",
      "Set 2,400 of 2,485 text embeddings\n",
      "Set 2,485 of 2,485 text embeddings\n",
      "=== Processing 20:40 of 79 ===\n",
      "Loading and splitting Text Files...\n",
      "Performing Text Embedding...\n",
      "Loading Nodes...\n",
      "======  loading Chunk nodes  ======\n",
      "staging 2,570 records\n",
      "\n",
      "Using This Cypher Query:\n",
      "```\n",
      "UNWIND $recs AS rec\n",
      "MERGE(n:Chunk {chunkId: rec.chunkId})\n",
      "SET n.cik = rec.cik, n.cusip6 = rec.cusip6, n.source = rec.source, n.f10kItem = rec.f10kItem, n.chunkSeqId = rec.chunkSeqId, n.text = rec.text\n",
      "RETURN count(n) AS nodeLoadedCount\n",
      "```\n",
      "\n",
      "Done Processing 20:40\n",
      "======  loading Document text embeddings ======\n",
      "staging 2,570 records\n",
      "Set 100 of 2,570 text embeddings\n",
      "Set 200 of 2,570 text embeddings\n",
      "Set 300 of 2,570 text embeddings\n",
      "Set 400 of 2,570 text embeddings\n",
      "Set 500 of 2,570 text embeddings\n",
      "Set 600 of 2,570 text embeddings\n",
      "Set 700 of 2,570 text embeddings\n",
      "Set 800 of 2,570 text embeddings\n",
      "Set 900 of 2,570 text embeddings\n",
      "Set 1,000 of 2,570 text embeddings\n",
      "Set 1,100 of 2,570 text embeddings\n",
      "Set 1,200 of 2,570 text embeddings\n",
      "Set 1,300 of 2,570 text embeddings\n",
      "Set 1,400 of 2,570 text embeddings\n",
      "Set 1,500 of 2,570 text embeddings\n",
      "Set 1,600 of 2,570 text embeddings\n",
      "Set 1,700 of 2,570 text embeddings\n",
      "Set 1,800 of 2,570 text embeddings\n",
      "Set 1,900 of 2,570 text embeddings\n",
      "Set 2,000 of 2,570 text embeddings\n",
      "Set 2,100 of 2,570 text embeddings\n",
      "Set 2,200 of 2,570 text embeddings\n",
      "Set 2,300 of 2,570 text embeddings\n",
      "Set 2,400 of 2,570 text embeddings\n",
      "Set 2,500 of 2,570 text embeddings\n",
      "Set 2,570 of 2,570 text embeddings\n",
      "=== Processing 40:60 of 79 ===\n",
      "Loading and splitting Text Files...\n",
      "Performing Text Embedding...\n",
      "Loading Nodes...\n",
      "======  loading Chunk nodes  ======\n",
      "staging 1,977 records\n",
      "\n",
      "Using This Cypher Query:\n",
      "```\n",
      "UNWIND $recs AS rec\n",
      "MERGE(n:Chunk {chunkId: rec.chunkId})\n",
      "SET n.cik = rec.cik, n.cusip6 = rec.cusip6, n.source = rec.source, n.f10kItem = rec.f10kItem, n.chunkSeqId = rec.chunkSeqId, n.text = rec.text\n",
      "RETURN count(n) AS nodeLoadedCount\n",
      "```\n",
      "\n",
      "Done Processing 40:60\n",
      "======  loading Document text embeddings ======\n",
      "staging 1,977 records\n",
      "Set 100 of 1,977 text embeddings\n",
      "Set 200 of 1,977 text embeddings\n",
      "Set 300 of 1,977 text embeddings\n",
      "Set 400 of 1,977 text embeddings\n",
      "Set 500 of 1,977 text embeddings\n",
      "Set 600 of 1,977 text embeddings\n",
      "Set 700 of 1,977 text embeddings\n",
      "Set 800 of 1,977 text embeddings\n",
      "Set 900 of 1,977 text embeddings\n",
      "Set 1,000 of 1,977 text embeddings\n",
      "Set 1,100 of 1,977 text embeddings\n",
      "Set 1,200 of 1,977 text embeddings\n",
      "Set 1,300 of 1,977 text embeddings\n",
      "Set 1,400 of 1,977 text embeddings\n",
      "Set 1,500 of 1,977 text embeddings\n",
      "Set 1,600 of 1,977 text embeddings\n",
      "Set 1,700 of 1,977 text embeddings\n",
      "Set 1,800 of 1,977 text embeddings\n",
      "Set 1,900 of 1,977 text embeddings\n",
      "Set 1,977 of 1,977 text embeddings\n",
      "=== Processing 60:79 of 79 ===\n",
      "Loading and splitting Text Files...\n",
      "Performing Text Embedding...\n",
      "Loading Nodes...\n",
      "======  loading Chunk nodes  ======\n",
      "staging 2,687 records\n",
      "\n",
      "Using This Cypher Query:\n",
      "```\n",
      "UNWIND $recs AS rec\n",
      "MERGE(n:Chunk {chunkId: rec.chunkId})\n",
      "SET n.cik = rec.cik, n.cusip6 = rec.cusip6, n.source = rec.source, n.f10kItem = rec.f10kItem, n.chunkSeqId = rec.chunkSeqId, n.text = rec.text\n",
      "RETURN count(n) AS nodeLoadedCount\n",
      "```\n",
      "\n",
      "Done Processing 60:79\n",
      "======  loading Document text embeddings ======\n",
      "staging 2,687 records\n",
      "Set 100 of 2,687 text embeddings\n",
      "Set 200 of 2,687 text embeddings\n",
      "Set 300 of 2,687 text embeddings\n",
      "Set 400 of 2,687 text embeddings\n",
      "Set 500 of 2,687 text embeddings\n",
      "Set 600 of 2,687 text embeddings\n",
      "Set 700 of 2,687 text embeddings\n",
      "Set 800 of 2,687 text embeddings\n",
      "Set 900 of 2,687 text embeddings\n",
      "Set 1,000 of 2,687 text embeddings\n",
      "Set 1,100 of 2,687 text embeddings\n",
      "Set 1,200 of 2,687 text embeddings\n",
      "Set 1,300 of 2,687 text embeddings\n",
      "Set 1,400 of 2,687 text embeddings\n",
      "Set 1,500 of 2,687 text embeddings\n",
      "Set 1,600 of 2,687 text embeddings\n",
      "Set 1,700 of 2,687 text embeddings\n",
      "Set 1,800 of 2,687 text embeddings\n",
      "Set 1,900 of 2,687 text embeddings\n",
      "Set 2,000 of 2,687 text embeddings\n",
      "Set 2,100 of 2,687 text embeddings\n",
      "Set 2,200 of 2,687 text embeddings\n",
      "Set 2,300 of 2,687 text embeddings\n",
      "Set 2,400 of 2,687 text embeddings\n",
      "Set 2,500 of 2,687 text embeddings\n",
      "Set 2,600 of 2,687 text embeddings\n",
      "Set 2,687 of 2,687 text embeddings\n",
      "CPU times: user 33.7 s, sys: 1.09 s, total: 34.8 s\n",
      "Wall time: 3min 29s\n"
     ]
    }
   ],
   "source": [
    "%%time\n",
    "\n",
    "all_file_names = ['../source-data-pull/form10k/data/form10k-clean/' + x for x in os.listdir('../source-data-pull/form10k/data/form10k-clean/')]\n",
    "counter = 0\n",
    "for file_names in batches(all_file_names, 20):\n",
    "    counter += len(file_names)\n",
    "    print(f'=== Processing {counter-len(file_names)}:{counter} of {len(all_file_names)} ===')\n",
    "    # get and split text data\n",
    "    print('Loading and splitting Text Files...')\n",
    "    doc_df = get_and_split_txt_data(file_names)\n",
    "    # perform text embedding\n",
    "    print('Performing Text Embedding...')\n",
    "    add_text_embeddings(doc_df)\n",
    "    #load nodes\n",
    "    print('Loading Nodes...')\n",
    "    load_nodes(graph, doc_df.drop(columns='textEmbedding'), 'chunkId', 'Chunk')\n",
    "    print(f'Done Processing {counter-len(file_names)}:{counter}')\n",
    "\n",
    "    # Merge text embeddings using set vector property\n",
    "    records = doc_df[['chunkId', 'textEmbedding']].to_dict('records')\n",
    "    print(f'======  loading Document text embeddings ======')\n",
    "    total = len(records)\n",
    "    print(f'staging {total:,} records')\n",
    "    cumulative_count = 0\n",
    "    for recs in batches(records, n=100):\n",
    "        res = kg.query('''\n",
    "        UNWIND $recs AS rec\n",
    "        MATCH(n:Chunk {chunkId: rec.chunkId})\n",
    "        CALL db.create.setNodeVectorProperty(n, \"textEmbedding\", rec.textEmbedding)\n",
    "        RETURN count(n) AS propertySetCount\n",
    "        ''', params={'recs': recs})\n",
    "        cumulative_count += res[0].get('propertySetCount')\n",
    "        print(f'Set {cumulative_count:,} of {total:,} text embeddings')"
   ]
  },
  {
   "cell_type": "markdown",
   "metadata": {},
   "source": [
    "## Example queries"
   ]
  },
  {
   "cell_type": "code",
   "execution_count": 124,
   "metadata": {},
   "outputs": [],
   "source": [
    "question = 'Who makes hydraulic and mechanical tools?'"
   ]
  },
  {
   "cell_type": "code",
   "execution_count": 139,
   "metadata": {},
   "outputs": [
    {
     "data": {
      "text/plain": [
       "[{'result': \"The Company's critical raw material is steel. Out of Brazil, the Company sources three basic types of steel which are carbon steel, high speed steel and carbide cylinders. The Company has a number of long-term suppliers in Europe, Asia and Brazil and its sourcing mix is distributed according to the pricing including exchange rates. The U.S. sources steel, and small amounts of aluminum and brass through distributors. None of these suppliers accounts for more than 5% of the Company's purchases\\nFor over 140 years, the Company has been a recognized leader in providing measurement and cutting solutions to industry. Measurement tools consist of precision instruments such as micrometers, vernier calipers, height distributors, depth gages, electronic gages, dial indicators, steel rules, combination squares, custom, non-contact gaging such as vision, optical and laser measurement systems. The Company believes advanced, non-contact systems with easy-to use software will be attractive to industry to reduce measurement and inspection time and are ideal for quality assurance, inspection labs, manufacturing and research facilities. Skilled personnel, superior products, manufacturing expertise, innovation and unmatched service has earned the Company its reputation as the “Best in Class” provider of measuring application solutions for industry.\\nAs one of the premier industrial brands, the Company continues to be focused on every touch point with its customers. To that end, the Company now offers modern, easy-to-use interfaces for distributors and end-users including interactive catalogs and several online applications.\"},\n",
       " {'result': 'When used herein, the terms “we,” “us,” “our,” “Enerpac,” and the “Company” refer to Enerpac Tool Group Corp. and its subsidiaries. Reference to fiscal years, such as “fiscal 2023,” are to the fiscal year ending on August 31 of the specified year.\\nPART I\\nItem\\xa0\\xa01.\\xa0\\xa0\\xa0\\xa0\\nBusiness\\nGeneral\\nEnerpac Tool Group Corp. is a premier industrial tools, services, technology and solutions company serving a broad and diverse set of customers in more than 100 countries. Enerpac Tool Group\\'s businesses are global leaders of high pressure hydraulic tools, controlled force products and solutions for precise positioning of heavy loads that help customers around the world safely, reliably and efficiently tackle some of the most challenging, complex, and often hazardous jobs. The Company was founded in 1910 and is headquartered in Menomonee Falls, Wisconsin. The Company has one reportable segment, the Industrial Tools & Services Segment (\"IT&S\"). The IT&S segment is primarily engaged in the design, manufacture and distribution of branded hydraulic and mechanical tools and in providing services and tool rental to the industrial, maintenance, infrastructure, oil & gas, alternative energy and other markets. Financial information related to the Company\\'s reportable segment is included in \\nNote 15, \"Business Segment, Geographic and Customer Information\"\\n in the notes to the consolidated financial statements. Our businesses provide an array of products and services across multiple markets and geographies, which results in significant diversification. The IT&S segment and the Company are well-positioned to drive shareholder value through a sustainable business strategy built on well-established brands, broad global distribution and end markets, with a clear focus on the core tools and services business, and disciplined capital deployment.'},\n",
       " {'result': 'The Company is one of the largest producers of mechanics’ hand measuring tools and precision instruments. In the United States, there are three major foreign competitors and numerous small companies in the field. As a result, the industry is highly competitive. During fiscal 2023, there were no material changes in the Company’s competitive position. The Company’s products for the building trades, such as tape measures and levels, are under constant margin pressure due to a channel shift to large national home and hardware retailers. The Company has responded to such challenges by expanding its manufacturing operations in China.\\xa0Certain large customers also offer their own private labels “own brand” that compete with Starrett branded products. These products are often sourced directly from low cost countries.\\nSaw products encounter competition from several domestic and international sources. The Company’s competitive position varies by market and country. Continued research and development, new patented products and processes, strategic acquisitions and investments and strong customer support have enabled the Company to compete successfully in both general and performance applications.\\nForeign Operations\\nThe operations of the Company’s foreign subsidiaries are consolidated in its financial statements. The subsidiaries located in Brazil and China are actively engaged in the manufacturing and distribution of precision measuring tools, saw blades, optical and vision measuring equipment and hand tools. Subsidiaries in Scotland, Canada, Australia, New Zealand, and Mexico are \\n7'}]"
      ]
     },
     "execution_count": 139,
     "metadata": {},
     "output_type": "execute_result"
    }
   ],
   "source": [
    "# Vector search using our utility function\n",
    "neo4j_vector_search(kg, embeddings_model, VECTOR_INDEX_NAME, question, top_k=3)"
   ]
  },
  {
   "cell_type": "code",
   "execution_count": 140,
   "metadata": {},
   "outputs": [
    {
     "name": "stdout",
     "output_type": "stream",
     "text": [
      "--------------------------------------------------------------------------------\n",
      "Score:  0.8979572653770447\n",
      "\n",
      "text: The Company's critical raw material is steel. Out of Brazil, the Company sources three basic types of steel which are carbon steel, high speed steel and carbide cylinders. The Company has a number of long-term suppliers in Europe, Asia and Brazil and its sourcing mix is distributed according to the pricing including exchange rates. The U.S. sources steel, and small amounts of aluminum and brass through distributors. None of these suppliers accounts for more than 5% of the Company's purchases\n",
      "For over 140 years, the Company has been a recognized leader in providing measurement and cutting solutions to industry. Measurement tools consist of precision instruments such as micrometers, vernier calipers, height distributors, depth gages, electronic gages, dial indicators, steel rules, combination squares, custom, non-contact gaging such as vision, optical and laser measurement systems. The Company believes advanced, non-contact systems with easy-to use software will be attractive to industry to reduce measurement and inspection time and are ideal for quality assurance, inspection labs, manufacturing and research facilities. Skilled personnel, superior products, manufacturing expertise, innovation and unmatched service has earned the Company its reputation as the “Best in Class” provider of measuring application solutions for industry.\n",
      "As one of the premier industrial brands, the Company continues to be focused on every touch point with its customers. To that end, the Company now offers modern, easy-to-use interfaces for distributors and end-users including interactive catalogs and several online applications.\n",
      "--------------------------------------------------------------------------------\n",
      "--------------------------------------------------------------------------------\n",
      "Score:  0.8944646120071411\n",
      "\n",
      "text: When used herein, the terms “we,” “us,” “our,” “Enerpac,” and the “Company” refer to Enerpac Tool Group Corp. and its subsidiaries. Reference to fiscal years, such as “fiscal 2023,” are to the fiscal year ending on August 31 of the specified year.\n",
      "PART I\n",
      "Item  1.    \n",
      "Business\n",
      "General\n",
      "Enerpac Tool Group Corp. is a premier industrial tools, services, technology and solutions company serving a broad and diverse set of customers in more than 100 countries. Enerpac Tool Group's businesses are global leaders of high pressure hydraulic tools, controlled force products and solutions for precise positioning of heavy loads that help customers around the world safely, reliably and efficiently tackle some of the most challenging, complex, and often hazardous jobs. The Company was founded in 1910 and is headquartered in Menomonee Falls, Wisconsin. The Company has one reportable segment, the Industrial Tools & Services Segment (\"IT&S\"). The IT&S segment is primarily engaged in the design, manufacture and distribution of branded hydraulic and mechanical tools and in providing services and tool rental to the industrial, maintenance, infrastructure, oil & gas, alternative energy and other markets. Financial information related to the Company's reportable segment is included in \n",
      "Note 15, \"Business Segment, Geographic and Customer Information\"\n",
      " in the notes to the consolidated financial statements. Our businesses provide an array of products and services across multiple markets and geographies, which results in significant diversification. The IT&S segment and the Company are well-positioned to drive shareholder value through a sustainable business strategy built on well-established brands, broad global distribution and end markets, with a clear focus on the core tools and services business, and disciplined capital deployment.\n",
      "--------------------------------------------------------------------------------\n",
      "--------------------------------------------------------------------------------\n",
      "Score:  0.8915809392929077\n",
      "\n",
      "text: The Company is one of the largest producers of mechanics’ hand measuring tools and precision instruments. In the United States, there are three major foreign competitors and numerous small companies in the field. As a result, the industry is highly competitive. During fiscal 2023, there were no material changes in the Company’s competitive position. The Company’s products for the building trades, such as tape measures and levels, are under constant margin pressure due to a channel shift to large national home and hardware retailers. The Company has responded to such challenges by expanding its manufacturing operations in China. Certain large customers also offer their own private labels “own brand” that compete with Starrett branded products. These products are often sourced directly from low cost countries.\n",
      "Saw products encounter competition from several domestic and international sources. The Company’s competitive position varies by market and country. Continued research and development, new patented products and processes, strategic acquisitions and investments and strong customer support have enabled the Company to compete successfully in both general and performance applications.\n",
      "Foreign Operations\n",
      "The operations of the Company’s foreign subsidiaries are consolidated in its financial statements. The subsidiaries located in Brazil and China are actively engaged in the manufacturing and distribution of precision measuring tools, saw blades, optical and vision measuring equipment and hand tools. Subsidiaries in Scotland, Canada, Australia, New Zealand, and Mexico are \n",
      "7\n",
      "--------------------------------------------------------------------------------\n"
     ]
    }
   ],
   "source": [
    "# Vector search using the langchain vector store\n",
    "docs_with_score = vector_store.similarity_search_with_score(question, k=3)\n",
    "\n",
    "for doc, score in docs_with_score:\n",
    "    print(\"-\" * 80)\n",
    "    print(\"Score: \", score)\n",
    "    print(doc.page_content)\n",
    "    print(\"-\" * 80)"
   ]
  },
  {
   "cell_type": "code",
   "execution_count": 141,
   "metadata": {},
   "outputs": [
    {
     "data": {
      "text/plain": [
       "Document(page_content=\"\\ntext: The Company's critical raw material is steel. Out of Brazil, the Company sources three basic types of steel which are carbon steel, high speed steel and carbide cylinders. The Company has a number of long-term suppliers in Europe, Asia and Brazil and its sourcing mix is distributed according to the pricing including exchange rates. The U.S. sources steel, and small amounts of aluminum and brass through distributors. None of these suppliers accounts for more than 5% of the Company's purchases\\nFor over 140 years, the Company has been a recognized leader in providing measurement and cutting solutions to industry. Measurement tools consist of precision instruments such as micrometers, vernier calipers, height distributors, depth gages, electronic gages, dial indicators, steel rules, combination squares, custom, non-contact gaging such as vision, optical and laser measurement systems. The Company believes advanced, non-contact systems with easy-to use software will be attractive to industry to reduce measurement and inspection time and are ideal for quality assurance, inspection labs, manufacturing and research facilities. Skilled personnel, superior products, manufacturing expertise, innovation and unmatched service has earned the Company its reputation as the “Best in Class” provider of measuring application solutions for industry.\\nAs one of the premier industrial brands, the Company continues to be focused on every touch point with its customers. To that end, the Company now offers modern, easy-to-use interfaces for distributors and end-users including interactive catalogs and several online applications.\", metadata={'cik': '93676', 'source': 'https://www.sec.gov/Archives/edgar/data/93676/000009367623000035/0000093676-23-000035-index.htm', 'f10kItem': 'item7', 'chunkId': '0000093676-23-000035-item7-chunk0005', 'cusip6': '855668', 'chunkSeqId': 5})"
      ]
     },
     "execution_count": 141,
     "metadata": {},
     "output_type": "execute_result"
    }
   ],
   "source": [
    "# Vector search using the langchain retriever over the Neo4j vector store\n",
    "retriever.get_relevant_documents(question)[0]"
   ]
  },
  {
   "cell_type": "code",
   "execution_count": 142,
   "metadata": {},
   "outputs": [
    {
     "data": {
      "text/plain": [
       "{'answer': 'Enerpac Tool Group Corp. is the company that makes hydraulic and mechanical tools.\\n',\n",
       " 'sources': 'https://www.sec.gov/Archives/edgar/data/6955/000000695523000034/0000006955-23-000034-index.htm'}"
      ]
     },
     "execution_count": 142,
     "metadata": {},
     "output_type": "execute_result"
    }
   ],
   "source": [
    "chain(\n",
    "    {\"question\": question},\n",
    "    return_only_outputs=True,\n",
    ")"
   ]
  }
 ],
 "metadata": {
  "kernelspec": {
   "display_name": "Python 3",
   "language": "python",
   "name": "python3"
  },
  "language_info": {
   "codemirror_mode": {
    "name": "ipython",
    "version": 3
   },
   "file_extension": ".py",
   "mimetype": "text/x-python",
   "name": "python",
   "nbconvert_exporter": "python",
   "pygments_lexer": "ipython3",
   "version": "3.11.6"
  }
 },
 "nbformat": 4,
 "nbformat_minor": 0
}
